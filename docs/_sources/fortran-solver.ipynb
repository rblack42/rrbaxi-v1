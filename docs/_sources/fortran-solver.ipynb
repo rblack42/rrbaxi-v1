{
 "cells": [
  {
   "cell_type": "markdown",
   "id": "36e1235e",
   "metadata": {},
   "source": [
    "# Fortran Solver"
   ]
  },
  {
   "cell_type": "markdown",
   "id": "5214a6e6",
   "metadata": {},
   "source": [
    "\n",
    "\\begin{equation}\n",
    "H = H_\\infty-\\frac{(C/A)^2}{2}\n",
    "\\end{equation}\n",
    "\n",
    "\\begin{equation}\n",
    "\\phi=\\frac{2(\\gamma-1)KA^2}{\\gamma B^2}\n",
    "\\end{equation}\n",
    "\n",
    "\\begin{equation}\n",
    "phm = \\frac{\\gamma}{\\gamma + 1}\n",
    "\\end{equation}\n",
    "\n",
    "\\begin{equation}\n",
    "rad=\\sqrt{1-\\phi-\\phi/\\gamma}\n",
    "\\end{equation}\n",
    "\n",
    "\\begin{equation}\n",
    "den=\\gamma\\phi-(\\gamma - 1)\n",
    "\\end{equation}\n",
    "\n",
    "\\begin{equation}\n",
    "M_x = \\frac{1.-\\phi+rad}{den}\n",
    "\\end{equation}\n",
    "\n",
    "\\begin{equation}\n",
    "p = \\frac{B}{1+\\gamma*M_x}\n",
    "\\end{equation}\n",
    "\n",
    "\\begin{equation}\n",
    "t = \\frac{K}{1.+\\frac{\\gamma - 1}{2}*M_x}\n",
    "\\end{equation}\n",
    "\n",
    "\\begin{equation}\n",
    "\\rho = \\frac{\\gamma*p}{\\gamma - 1)t}\n",
    "\\end{equation}\n",
    "\n",
    "\\begin{equation}\n",
    "u = A/\\rho\n",
    "\\end{equation}\n",
    "\n"
   ]
  },
  {
   "cell_type": "markdown",
   "id": "7826c0ad",
   "metadata": {},
   "source": [
    "## Parabolized Navier Stokes Solver"
   ]
  },
  {
   "cell_type": "markdown",
   "id": "6a9a2357",
   "metadata": {},
   "source": [
    "\\begin{equation}\n",
    "U = \\begin{bmatrix}\n",
    "\\rho u \\\\\n",
    "\\rho u^2 + p \\\\\n",
    "\\rho uv \\\\\n",
    "\\rho uw \\\\\n",
    "(\\rho e_t + p)u\n",
    "\\end{bmatrix} = \n",
    "\\begin{bmatrix}\n",
    "A \\\\\n",
    "B \\\\\n",
    "C \\\\\n",
    "D \\\\\n",
    "E \n",
    "\\end{bmatrix}\n",
    "\\end{equation}\n",
    "\n",
    "where:\n",
    "\n",
    "\\begin{equation}\n",
    "e_t = e + \\frac{u^2 + v^2 + w^2}{2}\n",
    "\\end{equation}\n",
    "\n",
    "\\begin{equation}\n",
    "p = (\\gamma - 1)\\rho e\n",
    "\\end{equation}\n",
    "\n",
    "\\begin{equation}\n",
    "T = \\gamma M_\\infty^2 \\frac{p}{\\rho}\n",
    "\\end{equation}"
   ]
  },
  {
   "cell_type": "markdown",
   "id": "7efc5b81",
   "metadata": {},
   "source": [
    "This gives:\n",
    "\n",
    "Unknowns: $ \\rho\\ u\\ v\\ w\\ p\\ e$"
   ]
  },
  {
   "cell_type": "code",
   "execution_count": 15,
   "id": "97014d5d",
   "metadata": {},
   "outputs": [],
   "source": [
    "from sympy import var, solve, simplify"
   ]
  },
  {
   "cell_type": "code",
   "execution_count": 30,
   "id": "4459c89f",
   "metadata": {},
   "outputs": [],
   "source": [
    "rho, u, v, w, p, e, gamma = var('rho u v w p e gamma')\n",
    "A, B, C, D, E, K = var('A B C D E K')"
   ]
  },
  {
   "cell_type": "code",
   "execution_count": 31,
   "id": "76a20725",
   "metadata": {},
   "outputs": [],
   "source": [
    "eq1 = rho*u - A\n",
    "eq2 = rho*u**2 + p - B\n",
    "eq3 = rho*u*v - C\n",
    "eq4 = rho*u*w - D\n",
    "e_t = K + (u**2)/2\n",
    "eq5 = (rho*e_t + p)*u - E\n",
    "eq6 = p*(gamma - 1)*rho*e - p"
   ]
  },
  {
   "cell_type": "code",
   "execution_count": 32,
   "id": "ab78bfca",
   "metadata": {},
   "outputs": [
    {
     "data": {
      "text/plain": [
       "[(A*(-B - sqrt(2*A**2*K - 2*A*E + B**2))/(2*(A*K - E)),\n",
       "  (B - sqrt(2*A**2*K - 2*A*E + B**2))/A,\n",
       "  C/A,\n",
       "  D/A,\n",
       "  sqrt(2*A**2*K - 2*A*E + B**2),\n",
       "  B/(A**2*(gamma - 1)) - (gamma - 1)*sqrt(2*A**2*K - 2*A*E + B**2)/(A**2*(gamma**2 - 2*gamma + 1))),\n",
       " (A*(-B + sqrt(2*A**2*K - 2*A*E + B**2))/(2*(A*K - E)),\n",
       "  (B + sqrt(2*A**2*K - 2*A*E + B**2))/A,\n",
       "  C/A,\n",
       "  D/A,\n",
       "  -sqrt(2*A**2*K - 2*A*E + B**2),\n",
       "  B/(A**2*(gamma - 1)) + (gamma - 1)*sqrt(2*A**2*K - 2*A*E + B**2)/(A**2*(gamma**2 - 2*gamma + 1)))]"
      ]
     },
     "execution_count": 32,
     "metadata": {},
     "output_type": "execute_result"
    }
   ],
   "source": [
    "sol = solve([eq1,eq2,eq3,eq4,eq5,eq6],[rho, u, v, w, p, e])\n",
    "sol"
   ]
  },
  {
   "cell_type": "code",
   "execution_count": 33,
   "id": "ffb2da89",
   "metadata": {},
   "outputs": [
    {
     "data": {
      "text/latex": [
       "$\\displaystyle \\frac{A \\left(- B - \\sqrt{2 A^{2} K - 2 A E + B^{2}}\\right)}{2 \\left(A K - E\\right)}$"
      ],
      "text/plain": [
       "A*(-B - sqrt(2*A**2*K - 2*A*E + B**2))/(2*(A*K - E))"
      ]
     },
     "execution_count": 33,
     "metadata": {},
     "output_type": "execute_result"
    }
   ],
   "source": [
    "rho = sol[0][0]\n",
    "rho\n"
   ]
  },
  {
   "cell_type": "code",
   "execution_count": 34,
   "id": "e634afda",
   "metadata": {},
   "outputs": [
    {
     "data": {
      "text/latex": [
       "$\\displaystyle \\frac{B - \\sqrt{2 A^{2} K - 2 A E + B^{2}}}{A}$"
      ],
      "text/plain": [
       "(B - sqrt(2*A**2*K - 2*A*E + B**2))/A"
      ]
     },
     "execution_count": 34,
     "metadata": {},
     "output_type": "execute_result"
    }
   ],
   "source": [
    "u = sol[0][1]\n",
    "u"
   ]
  },
  {
   "cell_type": "code",
   "execution_count": 35,
   "id": "a66cb4c4",
   "metadata": {},
   "outputs": [
    {
     "data": {
      "text/latex": [
       "$\\displaystyle \\frac{C}{A}$"
      ],
      "text/plain": [
       "C/A"
      ]
     },
     "execution_count": 35,
     "metadata": {},
     "output_type": "execute_result"
    }
   ],
   "source": [
    "v = sol[0][2]\n",
    "v"
   ]
  },
  {
   "cell_type": "code",
   "execution_count": 36,
   "id": "402c1051",
   "metadata": {},
   "outputs": [
    {
     "data": {
      "text/latex": [
       "$\\displaystyle \\frac{D}{A}$"
      ],
      "text/plain": [
       "D/A"
      ]
     },
     "execution_count": 36,
     "metadata": {},
     "output_type": "execute_result"
    }
   ],
   "source": [
    "w = sol[0][3]\n",
    "w"
   ]
  },
  {
   "cell_type": "code",
   "execution_count": 37,
   "id": "aaab8670",
   "metadata": {},
   "outputs": [
    {
     "data": {
      "text/latex": [
       "$\\displaystyle \\sqrt{2 A^{2} K - 2 A E + B^{2}}$"
      ],
      "text/plain": [
       "sqrt(2*A**2*K - 2*A*E + B**2)"
      ]
     },
     "execution_count": 37,
     "metadata": {},
     "output_type": "execute_result"
    }
   ],
   "source": [
    "p = sol[0][4]\n",
    "p"
   ]
  },
  {
   "cell_type": "code",
   "execution_count": 21,
   "id": "c3e4aafd",
   "metadata": {},
   "outputs": [
    {
     "data": {
      "text/latex": [
       "$\\displaystyle \\frac{2 A E - B^{2} - C^{2} - D^{2}}{2 A^{2}}$"
      ],
      "text/plain": [
       "(2*A*E - B**2 - C**2 - D**2)/(2*A**2)"
      ]
     },
     "execution_count": 21,
     "metadata": {},
     "output_type": "execute_result"
    }
   ],
   "source": [
    "e = sol[0][5]\n",
    "e"
   ]
  },
  {
   "cell_type": "code",
   "execution_count": null,
   "id": "ef726b6a",
   "metadata": {},
   "outputs": [],
   "source": []
  }
 ],
 "metadata": {
  "kernelspec": {
   "display_name": "Python 3 (ipykernel)",
   "language": "python",
   "name": "python3"
  },
  "language_info": {
   "codemirror_mode": {
    "name": "ipython",
    "version": 3
   },
   "file_extension": ".py",
   "mimetype": "text/x-python",
   "name": "python",
   "nbconvert_exporter": "python",
   "pygments_lexer": "ipython3",
   "version": "3.10.8"
  },
  "toc": {
   "base_numbering": 1,
   "nav_menu": {},
   "number_sections": true,
   "sideBar": true,
   "skip_h1_title": false,
   "title_cell": "Table of Contents",
   "title_sidebar": "Contents",
   "toc_cell": false,
   "toc_position": {},
   "toc_section_display": true,
   "toc_window_display": false
  },
  "varInspector": {
   "cols": {
    "lenName": 16,
    "lenType": 16,
    "lenVar": 40
   },
   "kernels_config": {
    "python": {
     "delete_cmd_postfix": "",
     "delete_cmd_prefix": "del ",
     "library": "var_list.py",
     "varRefreshCmd": "print(var_dic_list())"
    },
    "r": {
     "delete_cmd_postfix": ") ",
     "delete_cmd_prefix": "rm(",
     "library": "var_list.r",
     "varRefreshCmd": "cat(var_dic_list()) "
    }
   },
   "types_to_exclude": [
    "module",
    "function",
    "builtin_function_or_method",
    "instance",
    "_Feature"
   ],
   "window_display": false
  }
 },
 "nbformat": 4,
 "nbformat_minor": 5
}
