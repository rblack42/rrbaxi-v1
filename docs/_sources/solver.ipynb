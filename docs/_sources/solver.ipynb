{
 "cells": [
  {
   "cell_type": "markdown",
   "id": "7a4ec14b",
   "metadata": {},
   "source": [
    "# Solving For Primative Variables"
   ]
  },
  {
   "cell_type": "markdown",
   "id": "39f87b04",
   "metadata": {},
   "source": [
    "The governing equations for parabolized Navier-Stokes are set to generate these variables as the solution proceeds:"
   ]
  },
  {
   "cell_type": "markdown",
   "id": "b44c972f",
   "metadata": {},
   "source": [
    "\\begin{align}\n",
    "A &= \\rho u\\\\\n",
    "B &= \\rho u^2 + p \\\\\n",
    "C &= \\rho u v \\\\\n",
    "D &= \\rho u w \\\\\n",
    "E &= \\rho u H\n",
    "\\end{align}"
   ]
  },
  {
   "cell_type": "markdown",
   "id": "67904c35",
   "metadata": {},
   "source": [
    "We need to set up a routine that will reduce these variables to the basic flow properties. To do this, we need some additional equations. We will use **sympy** to set up these equations.\n",
    "\n",
    "A simple inspection will show that we can eliminate three of these variables immediately:\n",
    "\n",
    "\\begin{align}\n",
    "v &= \\frac{C}{A} \\\\\n",
    "w &= \\frac{D}{A} \\\\\n",
    "H &= \\frac{E}{A}\n",
    "\\end{align}\n",
    "\n",
    "This leaves us with two equations in three remaining unknowns $\\rho, u, p$."
   ]
  },
  {
   "cell_type": "code",
   "execution_count": 2,
   "id": "793aed24",
   "metadata": {},
   "outputs": [],
   "source": [
    "from sympy import var, solve, simplify, expand, collect"
   ]
  },
  {
   "cell_type": "markdown",
   "id": "050c6b52",
   "metadata": {},
   "source": [
    "When using **sympy**, we need to create equations where the right-hand side is always zero. That is simple enough is we just move any terms on the right over to the left side."
   ]
  },
  {
   "cell_type": "code",
   "execution_count": 3,
   "id": "92d6b9bb",
   "metadata": {},
   "outputs": [],
   "source": [
    "A, B = var('A B')\n",
    "rho, u, p = var('rho u p')"
   ]
  },
  {
   "cell_type": "markdown",
   "id": "96a5cd10",
   "metadata": {},
   "source": [
    "Now, we create our equations:"
   ]
  },
  {
   "cell_type": "code",
   "execution_count": 4,
   "id": "c5c612bf",
   "metadata": {},
   "outputs": [],
   "source": [
    "eq1 = rho*u - A\n",
    "eq2 = rho*u**2 + p -B"
   ]
  },
  {
   "cell_type": "markdown",
   "id": "861cec96",
   "metadata": {},
   "source": [
    "## State Equation\n",
    "\n",
    "From our previous work, here is the state equation in  nondimensional form:\n",
    "    \n",
    "\\begin{equation}\n",
    "p = \\frac{\\gamma - 1}{\\gamma} \\rho T\n",
    "\\end{equation}   "
   ]
  },
  {
   "cell_type": "markdown",
   "id": "fa0549df",
   "metadata": {},
   "source": [
    "Using this equation adds two more variables, one of which is a constant for our work: $\\gamma = 1.4$. We need to add these terms to *SymPy*, then add the state equation to our working set:"
   ]
  },
  {
   "cell_type": "code",
   "execution_count": 5,
   "id": "437fe355",
   "metadata": {},
   "outputs": [],
   "source": [
    "T, gamma = var('T gamma')\n",
    "eq3 = (gamma/(gamma-1))*rho*T - p"
   ]
  },
  {
   "cell_type": "markdown",
   "id": "409aad73",
   "metadata": {},
   "source": [
    "## Definition of Total Enthalpy"
   ]
  },
  {
   "cell_type": "markdown",
   "id": "20832744",
   "metadata": {},
   "source": [
    "Next, we will use the total enthalpy to complete our equation set:\n",
    "\n",
    "\\begin{equation}\n",
    "H = h + \\frac{1}{2}\\left(u^2 + v^2 + w^2\\right)\n",
    "\\end{equation}\n",
    "\n",
    "Define a new variable:\n",
    "\n",
    "\\begin{equation}\n",
    "K = H - \\frac{1}{2}(v^2 + w^2)\n",
    "\\end{equation}\n",
    "\n",
    "Thus:\n",
    "\n",
    "\\begin{equation}\n",
    "K = h + \\frac{u^2}{2}\n",
    "\\end{equation}"
   ]
  },
  {
   "cell_type": "code",
   "execution_count": 6,
   "id": "7ad3a608",
   "metadata": {},
   "outputs": [],
   "source": [
    "h, K = var('h K')\n",
    "eq4 = h + (u**2)/2 - K"
   ]
  },
  {
   "cell_type": "markdown",
   "id": "6b5e189d",
   "metadata": {},
   "source": [
    "### Definition of Specific Heat Coefficient\n",
    "\n",
    "\\begin{equation}\n",
    "c_p = \\frac{\\gamma}{\\gamma-1}R_{gas}\n",
    "\\end{equation}"
   ]
  },
  {
   "cell_type": "code",
   "execution_count": 7,
   "id": "a51e498e",
   "metadata": {},
   "outputs": [],
   "source": [
    "c_p, R = var('c_p R')\n",
    "eq5 = (gamma/(gamma-1))*R - c_p"
   ]
  },
  {
   "cell_type": "markdown",
   "id": "b13bafd0",
   "metadata": {},
   "source": [
    "### Definition of Static Enthalpy\n",
    "\n",
    "\\begin{equation}\n",
    "h = c_p T\n",
    "\\end{equation}\n",
    "\n",
    "or\n",
    "\n",
    "\\begin{equation}\n",
    "\\rho c_p T = \\frac{\\rho R_{gas}}{\\gamma - 1}\n",
    "\\end{equation}"
   ]
  },
  {
   "cell_type": "code",
   "execution_count": 8,
   "id": "bef58952",
   "metadata": {},
   "outputs": [],
   "source": [
    "eq6 = c_p * T - h"
   ]
  },
  {
   "cell_type": "code",
   "execution_count": 9,
   "id": "e360af6d",
   "metadata": {},
   "outputs": [],
   "source": [
    "eq7 = solve([eq1,eq2,eq3,eq4],[rho,u,p,T])"
   ]
  },
  {
   "cell_type": "code",
   "execution_count": 14,
   "id": "e833236e",
   "metadata": {},
   "outputs": [
    {
     "data": {
      "text/latex": [
       "$\\displaystyle - \\frac{\\sqrt{2} A}{2 \\sqrt{K - h}}$"
      ],
      "text/plain": [
       "-sqrt(2)*A/(2*sqrt(K - h))"
      ]
     },
     "execution_count": 14,
     "metadata": {},
     "output_type": "execute_result"
    }
   ],
   "source": [
    "rho_c = (eq7[0][0])\n",
    "rho_c"
   ]
  },
  {
   "cell_type": "code",
   "execution_count": 15,
   "id": "de0cb6ac",
   "metadata": {},
   "outputs": [
    {
     "data": {
      "text/latex": [
       "$\\displaystyle - \\sqrt{2 K - 2 h}$"
      ],
      "text/plain": [
       "-sqrt(2*K - 2*h)"
      ]
     },
     "execution_count": 15,
     "metadata": {},
     "output_type": "execute_result"
    }
   ],
   "source": [
    "u_c = eq7[0][1]\n",
    "u_c"
   ]
  },
  {
   "cell_type": "code",
   "execution_count": 16,
   "id": "5334899c",
   "metadata": {},
   "outputs": [
    {
     "data": {
      "text/latex": [
       "$\\displaystyle A \\sqrt{2 K - 2 h} + B$"
      ],
      "text/plain": [
       "A*sqrt(2*K - 2*h) + B"
      ]
     },
     "execution_count": 16,
     "metadata": {},
     "output_type": "execute_result"
    }
   ],
   "source": [
    "p_c = eq7[0][2]\n",
    "p_c"
   ]
  },
  {
   "cell_type": "code",
   "execution_count": 17,
   "id": "540c8979",
   "metadata": {},
   "outputs": [
    {
     "data": {
      "text/latex": [
       "$\\displaystyle \\frac{2 \\left(- K + h\\right) \\left(\\gamma - 1\\right)}{\\gamma} - \\frac{\\sqrt{2} B \\sqrt{K - h} \\left(\\gamma - 1\\right)}{A \\gamma}$"
      ],
      "text/plain": [
       "2*(-K + h)*(gamma - 1)/gamma - sqrt(2)*B*sqrt(K - h)*(gamma - 1)/(A*gamma)"
      ]
     },
     "execution_count": 17,
     "metadata": {},
     "output_type": "execute_result"
    }
   ],
   "source": [
    "T_c = eq7[0][3]\n",
    "T_c"
   ]
  },
  {
   "cell_type": "markdown",
   "id": "dc63cbbd",
   "metadata": {},
   "source": [
    "That gives us six equations in the six unknowns we need to evaluate:\n",
    "    \n",
    "\\begin{equation}\n",
    "\\rho, u, p, T, c_p, h\n",
    "\\end{equation}"
   ]
  },
  {
   "cell_type": "markdown",
   "id": "09f47f97",
   "metadata": {},
   "source": [
    "*SymPy* could solve this set of equations, but the result would be pretty messy. WE can simplify the set somewhat with a little more work."
   ]
  },
  {
   "cell_type": "markdown",
   "id": "58e2d9e6",
   "metadata": {},
   "source": [
    "Looking at the equation set, we can eliminate the simple variables $C_p, v, w, H$ since whey fall out directly. \n",
    "\n",
    "\\begin{align}\n",
    "C_p &= \\frac{\\gamma}{(\\gamma-1)}R_{gas} \\\\\n",
    "v &= C/A \\\\\n",
    "w &= D/A \\\\\n",
    "H &= E/A \\\\\n",
    "\\end{align}\n",
    "\n",
    "Furthermore, $h$ is related to $T$ by a simple equation. \n",
    "\n",
    "\\begin{equation}\n",
    "h = c_p T\n",
    "\\end{equation}\n",
    "\n",
    "The definition of total enthalpy can be reduced a bit as well. We define a new variable, $K$ as:\n",
    "\n",
    "\\begin{equation}\n",
    "K = \\frac{1}{2}\\left(v^2 + w^2\\right) - H\n",
    "\\end{equation}\n",
    "\n",
    "\\begin{equation}\n",
    "K = \\frac{1}{2}\\left(\n",
    "\\frac{C^2}{A^2} + \\frac{D^2}{A^2}\n",
    "\\right) - \\frac{E}{A} \n",
    "\\end{equation}\n",
    "\n",
    "Let's recreate our equation set with these reductions:"
   ]
  },
  {
   "cell_type": "code",
   "execution_count": null,
   "id": "360e7ae1",
   "metadata": {},
   "outputs": [],
   "source": [
    "R, K = var('R K')\n",
    "Eq1 = rho*u - A\n",
    "Eq2 = rho*u**2 + p - B\n",
    "Eq3 = rho*R*T - p\n",
    "Eq4 = c_p*T + (u**2)/2 + K"
   ]
  },
  {
   "cell_type": "code",
   "execution_count": null,
   "id": "614cefb5",
   "metadata": {},
   "outputs": [],
   "source": [
    "res = solve(\n",
    "        [Eq1,Eq2,Eq3,Eq4],\n",
    "        [rho,u,p,T]\n",
    ")\n",
    "res"
   ]
  },
  {
   "cell_type": "markdown",
   "id": "94fb0140",
   "metadata": {},
   "source": [
    "Well, we still have some messy equations to work with. Let's try to simplify these. We will start by looking at the first results for $each of our primitives from the solution:"
   ]
  },
  {
   "cell_type": "code",
   "execution_count": null,
   "id": "5339ab01",
   "metadata": {},
   "outputs": [],
   "source": [
    "rho_c = res[0][0] # rho\n",
    "rho_c"
   ]
  },
  {
   "cell_type": "code",
   "execution_count": null,
   "id": "cab3c7bc",
   "metadata": {},
   "outputs": [],
   "source": [
    "u_c = res[0][1] # u\n",
    "u_c"
   ]
  },
  {
   "cell_type": "code",
   "execution_count": null,
   "id": "bb4ffcb5",
   "metadata": {},
   "outputs": [],
   "source": [
    "p_c = res[0][2] # p\n",
    "p_c"
   ]
  },
  {
   "cell_type": "code",
   "execution_count": null,
   "id": "a01ea610",
   "metadata": {},
   "outputs": [],
   "source": [
    "T_c = res[0][3] # T\n",
    "T_c"
   ]
  },
  {
   "cell_type": "markdown",
   "id": "4bafc529",
   "metadata": {},
   "source": [
    "At this point, we could solve for all of our primitive variables using the above equations. However, we can simplify things by introducing the axial *Mach Number*:\n",
    "\n",
    "\\begin{equation}\n",
    "M_x = \\frac{u}{\\sqrt{(\\gamma-1)T}}\n",
    "\\end{equation}\n",
    "\n",
    "Therefore:\n",
    "\n",
    "\\begin{equation}\n",
    "u^2 = (\\gamma - 1)T M_x^2\n",
    "\\end{equation}"
   ]
  },
  {
   "cell_type": "markdown",
   "id": "c1f1b7ee",
   "metadata": {},
   "source": [
    "Using this equation, we get this equation for $B$:\n",
    "    \n",
    "\\begin{equation}\n",
    "B = (\\gamma - 1)\\rho T M_x^2  + p\n",
    "\\end{equation}"
   ]
  },
  {
   "cell_type": "markdown",
   "id": "ee74f297",
   "metadata": {},
   "source": [
    "From the state equation, we find:\n",
    "\n",
    "\\begin{equation}\n",
    "\\rho T = \\frac{\\gamma p}{\\gamma - 1}\n",
    "\\end{equation}"
   ]
  },
  {
   "cell_type": "markdown",
   "id": "87726300",
   "metadata": {},
   "source": [
    "Substituting this, we now get:\n",
    "    \n",
    "\\begin{equation}\n",
    "B = p ( 1 + \\gamma M_x^2)\n",
    "\\end{equation}\n",
    "\n",
    "or:\n",
    "\\begin{equation}\n",
    "p = \\frac{B}{1 + \\gamma M_x^2}\n",
    "\\end{equation}"
   ]
  },
  {
   "cell_type": "markdown",
   "id": "bd0941cc",
   "metadata": {},
   "source": [
    "From the definition of total enthalpy:\n",
    "\n",
    "\\begin{equation}\n",
    "H = c_p T + \\frac{1}{2}\\left((\\gamma - 1)T M_x^2 + v^2 + w^2)\\right) \n",
    "\\end{equation}\n",
    "\n",
    "from the definition of $K$ above above:\n",
    "\n",
    "\\begin{equation}\n",
    "H = K - \\frac{1}{2}\\left(v^2 + w^2\\right)\n",
    "\\end{equation}\n",
    "\n",
    "or:\n",
    "\n",
    "\\begin{equation}\n",
    "\\left(v^2 + w^2\\right) = 2(H - K)\n",
    "\\end{equation}"
   ]
  },
  {
   "cell_type": "markdown",
   "id": "25b98d13",
   "metadata": {},
   "source": [
    "Plugging this back into our equation for $H$ above, we get this:\n",
    "\n",
    "\\begin{equation}\n",
    "c_p T + \\frac{1}{2}\\left((\\gamma - 1)T M_x^2\\right) - K = 0 \n",
    "\\end{equation}\n",
    "\n",
    "Rearranging, we get this equation for $T$:\n",
    "\n",
    "\\begin{equation}\n",
    "T = \\frac{K}{\\biggl\\{c_p + \\left(\\frac{(\\gamma - 1)}{2}M_x^2\\right)\\biggr\\}}\n",
    "\\end{equation}\n"
   ]
  },
  {
   "cell_type": "markdown",
   "id": "4ed92cf9",
   "metadata": {},
   "source": [
    "From the state equation, we get this equation:\n",
    "\n",
    "\\begin{equation}\n",
    "\\rho = \\frac{\\gamma p}{(\\gamma - 1) T} =\n",
    "\\end{equation}"
   ]
  },
  {
   "cell_type": "code",
   "execution_count": null,
   "id": "f03ce057",
   "metadata": {},
   "outputs": [],
   "source": [
    "Mx2 = var('Mx2')\n",
    "p2 = B/(1 + gamma * Mx2)\n",
    "T2 = K/(c_p + (gamma - 1)/2*Mx2)\n",
    "rho2 = gamma*p2/((gamma - 1)*T2)\n",
    "rho2"
   ]
  },
  {
   "cell_type": "markdown",
   "id": "6e718e0e",
   "metadata": {},
   "source": [
    "Substituting for $p$ and $T$, we get this:\n",
    "\n",
    "\\begin{equation}\n",
    "\\rho = \\frac{\\gamma B\\left(C_p + \\frac{\\gamma-1}{2}M_x^2\\right)}\n",
    "{K(\\gamma - 1)(1 + \\gamma M_x^2)}\n",
    "\\end{equation}"
   ]
  },
  {
   "cell_type": "code",
   "execution_count": null,
   "id": "2a8b9fb1",
   "metadata": {},
   "outputs": [],
   "source": [
    "usq2 = (A/rho2)**2\n",
    "usq2"
   ]
  },
  {
   "cell_type": "code",
   "execution_count": null,
   "id": "7c353d7a",
   "metadata": {},
   "outputs": [],
   "source": [
    "usq3 = ((gamma - 1)*T2*Mx2**2)\n",
    "usq3"
   ]
  },
  {
   "cell_type": "code",
   "execution_count": null,
   "id": "bc976e75",
   "metadata": {},
   "outputs": [],
   "source": [
    "f1 = usq2/usq3\n",
    "f1.simplify()"
   ]
  },
  {
   "cell_type": "markdown",
   "id": "2e4bdd03",
   "metadata": {},
   "source": [
    "Introduce a new term:\n",
    "\n",
    "\\begin{equation}\n",
    "\\alpha = \\frac{2A^2K(\\gamma-1)}{B^2\\gamma^2}\n",
    "\\end{equation}"
   ]
  },
  {
   "cell_type": "code",
   "execution_count": null,
   "id": "b5ad9f75",
   "metadata": {},
   "outputs": [],
   "source": [
    "\n",
    "alpha = var('alpha')\n",
    "f2 = f1*(B**2*gamma**2*alpha)/(2*A**2*K*(gamma - 1))\n",
    "f2.simplify()"
   ]
  },
  {
   "cell_type": "markdown",
   "id": "f873ca1a",
   "metadata": {},
   "source": [
    "This expression is equal to one, so we can write:\n",
    "\n",
    "\\begin{equation}\n",
    "\\alpha(M_x^2\\gamma + 1)^2 = M_x^2(M_x^2(\\gamma - 1) + 2c_p)\n",
    "\\end{equation}"
   ]
  },
  {
   "cell_type": "code",
   "execution_count": null,
   "id": "585509a3",
   "metadata": {},
   "outputs": [],
   "source": [
    "f3 = f2 - 1\n",
    "f3.simplify()"
   ]
  },
  {
   "cell_type": "markdown",
   "id": "bf4aa006",
   "metadata": {},
   "source": [
    "since this expression is equal to zero, we can reduce it:"
   ]
  },
  {
   "cell_type": "code",
   "execution_count": null,
   "id": "2e8d9802",
   "metadata": {},
   "outputs": [],
   "source": [
    "eq11 = f3*(Mx2**2*(Mx2*(gamma-1) + 2*c_p))\n",
    "eq12 = eq11.expand()\n",
    "eq12.simplify()"
   ]
  },
  {
   "cell_type": "markdown",
   "id": "aaa21c5f",
   "metadata": {},
   "source": [
    "Here is that equation in \"normal\" form:\n",
    "    \n",
    "\\begin{equation}\n",
    "{M_x^2}^3\\left(1-\\gamma\\right) +\n",
    "{M_x^2}^2\\left(\\alpha\\gamma^2-2c_p\\right) +\n",
    "{M_x^2}\\left(2\\alpha\\gamma\\right) +\n",
    "\\left(\\alpha\\right) = 0\n",
    "\\end{equation}"
   ]
  },
  {
   "cell_type": "code",
   "execution_count": null,
   "id": "03553d48",
   "metadata": {},
   "outputs": [],
   "source": [
    "aa = (1-gamma)\n",
    "aa"
   ]
  },
  {
   "cell_type": "code",
   "execution_count": null,
   "id": "4cbd573e",
   "metadata": {},
   "outputs": [],
   "source": [
    "bb = alpha*gamma**2 - 2*(c_p)\n",
    "bb"
   ]
  },
  {
   "cell_type": "code",
   "execution_count": null,
   "id": "501a0b56",
   "metadata": {},
   "outputs": [],
   "source": [
    "cc = 2*alpha*gamma\n",
    "cc"
   ]
  },
  {
   "cell_type": "code",
   "execution_count": null,
   "id": "8c2bb741",
   "metadata": {},
   "outputs": [],
   "source": [
    "dd = alpha\n",
    "dd"
   ]
  },
  {
   "cell_type": "markdown",
   "id": "04e555c9",
   "metadata": {},
   "source": [
    "This is a simple polynomial in $M^2_x$. Let's see what *SymPy* can do with such an equation."
   ]
  },
  {
   "cell_type": "code",
   "execution_count": null,
   "id": "868911c0",
   "metadata": {},
   "outputs": [],
   "source": [
    "x = var('x')\n",
    "poly = aa*x**3 + bb*x**2 + cc*x + dd\n",
    "poly"
   ]
  },
  {
   "cell_type": "markdown",
   "id": "0bab1b90",
   "metadata": {},
   "source": [
    "only one of these results has a real value:"
   ]
  },
  {
   "cell_type": "code",
   "execution_count": null,
   "id": "638d5eed",
   "metadata": {},
   "outputs": [],
   "source": [
    "M = solve([poly],[x])\n",
    "M"
   ]
  },
  {
   "cell_type": "markdown",
   "id": "cb5ef5c0",
   "metadata": {},
   "source": [
    "\\begin{equation}\n",
    "{M_x^2}^2(\\gamma B) + M_x^2(\\gamma A) + A = 0\n",
    "\\end{equation}"
   ]
  },
  {
   "cell_type": "markdown",
   "id": "a8e2e53f",
   "metadata": {},
   "source": [
    "## unverified code below ==============================================="
   ]
  },
  {
   "cell_type": "code",
   "execution_count": null,
   "id": "852be850",
   "metadata": {},
   "outputs": [],
   "source": [
    "phi = var('phi')\n",
    "Ksub = gamma*B**2/(2*(gamma-1)*A**2*K)\n",
    "Ksub"
   ]
  },
  {
   "cell_type": "code",
   "execution_count": null,
   "id": "c6655151",
   "metadata": {},
   "outputs": [],
   "source": [
    "test = T_c.subs(K,Ksub)\n",
    "test.simplify()"
   ]
  },
  {
   "cell_type": "markdown",
   "id": "6f8c56d8",
   "metadata": {},
   "source": [
    "## Definition of Mach Number\n",
    "\n",
    "We will focus only on the axial Mach Number $M_x$:\n",
    "\n",
    "\\begin{equation}\n",
    "M_x = \\frac{u}{a}\n",
    "\\end{equation}"
   ]
  },
  {
   "cell_type": "code",
   "execution_count": null,
   "id": "40b6bc70",
   "metadata": {},
   "outputs": [],
   "source": [
    "a, M_x = var('a M_x')\n",
    "Eq5 = M_x * a - u"
   ]
  },
  {
   "cell_type": "markdown",
   "id": "b7ffeade",
   "metadata": {},
   "source": [
    "## Speed of Sound\n",
    "\n",
    "\\begin{equation}\n",
    "a = \\sqrt{\\gamma R T}\n",
    "\\end{equation}"
   ]
  },
  {
   "cell_type": "markdown",
   "id": "c16abfc6",
   "metadata": {},
   "source": [
    "This result in $u$:\n",
    "\n",
    "\\begin{equation}\n",
    " u =  M_x \\sqrt{\\gamma RT}\n",
    "\\end{equation}\n",
    "\n",
    "With this equation, we can evaluate $\\rho u^2$:\n",
    "\n",
    "\\begin{equation}\n",
    "\\rho u^2 = M_x^2(\\gamma \\rho R T)\n",
    "\\end{equation}\n",
    "\n",
    "Substituting the state equation, we can get this result:\n",
    "\n",
    "\\begin{equation}\n",
    "B = p(1 + M_x^2\\gamma)\n",
    "\\end{equation}\n",
    "\n",
    "or\n",
    "\n",
    "\\begin{equation}\n",
    "p = \\frac{B}{1+ M_x^2\\gamma}\n",
    "\\end{equation}"
   ]
  },
  {
   "cell_type": "code",
   "execution_count": null,
   "id": "9513639e",
   "metadata": {},
   "outputs": [],
   "source": [
    "eq6 = B/(1+gamma*M_x**2) - p\n",
    "eq6"
   ]
  },
  {
   "cell_type": "markdown",
   "id": "172c509e",
   "metadata": {},
   "source": [
    "From the definition of the total enthalpy we can get this:\n",
    "\n",
    "\\begin{equation}\n",
    "c_p T = H - \\frac{1}{2}(u^2 + v^2 + w^2) \n",
    "\\end{equation}\n",
    "\n",
    "Let K be defined as follows:\n",
    "\n",
    "\\begin{equation}\n",
    "K = H - \\frac{1}{2}(v^2 + w^2)\n",
    "\\end{equation}\n",
    "\n",
    "Now we have this equation:\n",
    "\n",
    "\\begin{equation}\n",
    "\\frac{\\gamma}{\\gamma - 1}R T = K -\\frac{1}{2}M_X^2\\gamma R T\n",
    "\\end{equation}\n",
    "\n",
    "Rearranging:\n",
    "\n",
    "\\begin{equation}\n",
    "K = \\left(\\frac{1}{\\gamma - 1} +\\frac{1}{2}M_x^2\\right)\\gamma R T\n",
    "\\end{equation}\n",
    "\n",
    "\\begin{equation}\n",
    "K = \\left(\\frac{\\gamma}{\\gamma - 1} + \\frac{\\gamma M_x^2}{2}\\right) R T\n",
    "\\end{equation}"
   ]
  },
  {
   "cell_type": "markdown",
   "id": "ceaad82e",
   "metadata": {},
   "source": [
    "\\begin{equation}\n",
    "\n",
    "\\end{equation}"
   ]
  },
  {
   "cell_type": "markdown",
   "id": "d8db9f95",
   "metadata": {},
   "source": [
    "For isentropic flow of a perfect gas we have:\n",
    "\n",
    "\\begin{equation}\n",
    "\\frac{p}{\\rho^\\gamma} = constant\n",
    "\\end{equation}"
   ]
  },
  {
   "cell_type": "markdown",
   "id": "ab5ba3a3",
   "metadata": {},
   "source": [
    "\\begin{align}\n",
    "A &= \\rho u\\\\\n",
    "B &= \\rho u^2 + p \\\\\n",
    "\\end{align}\n",
    "\n",
    "Therefore:\n",
    "\n",
    "\\begin{equation}\n",
    "\\frac{A^2K}{B^2} =  \\frac{K\\rho^2 u^2}{\\rho^2 u^4 + 2 \\rho u^2 p + p^2}\n",
    "\\end{equation}\n",
    "\n"
   ]
  },
  {
   "cell_type": "code",
   "execution_count": null,
   "id": "05988b47",
   "metadata": {},
   "outputs": [],
   "source": [
    "A = rho * u\n",
    "B = rho * u**2 + p\n",
    "K= (1/(gamma - 1)+M_x**2/2)*gamma*Rgas*T\n",
    "p = B/(1 + gamma*M_x**2)\n",
    "\n",
    "phi = 2*(gamma -1)*A**2*K/(gamma*B**2)\n",
    "phi.simplify()\n"
   ]
  },
  {
   "cell_type": "code",
   "execution_count": null,
   "id": "8896abe5",
   "metadata": {},
   "outputs": [],
   "source": []
  }
 ],
 "metadata": {
  "kernelspec": {
   "display_name": "Python 3 (ipykernel)",
   "language": "python",
   "name": "python3"
  },
  "language_info": {
   "codemirror_mode": {
    "name": "ipython",
    "version": 3
   },
   "file_extension": ".py",
   "mimetype": "text/x-python",
   "name": "python",
   "nbconvert_exporter": "python",
   "pygments_lexer": "ipython3",
   "version": "3.10.8"
  },
  "toc": {
   "base_numbering": 1,
   "nav_menu": {},
   "number_sections": true,
   "sideBar": true,
   "skip_h1_title": false,
   "title_cell": "Table of Contents",
   "title_sidebar": "Contents",
   "toc_cell": false,
   "toc_position": {},
   "toc_section_display": true,
   "toc_window_display": false
  },
  "varInspector": {
   "cols": {
    "lenName": 16,
    "lenType": 16,
    "lenVar": 40
   },
   "kernels_config": {
    "python": {
     "delete_cmd_postfix": "",
     "delete_cmd_prefix": "del ",
     "library": "var_list.py",
     "varRefreshCmd": "print(var_dic_list())"
    },
    "r": {
     "delete_cmd_postfix": ") ",
     "delete_cmd_prefix": "rm(",
     "library": "var_list.r",
     "varRefreshCmd": "cat(var_dic_list()) "
    }
   },
   "types_to_exclude": [
    "module",
    "function",
    "builtin_function_or_method",
    "instance",
    "_Feature"
   ],
   "window_display": false
  }
 },
 "nbformat": 4,
 "nbformat_minor": 5
}
