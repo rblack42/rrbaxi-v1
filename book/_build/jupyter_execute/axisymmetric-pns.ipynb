{
 "cells": [
  {
   "cell_type": "markdown",
   "id": "b4caa915",
   "metadata": {},
   "source": [
    "# Axisymmetric PNS for Ogive-Cylinder"
   ]
  },
  {
   "cell_type": "markdown",
   "id": "9d86106f",
   "metadata": {},
   "source": [
    "The governing Navier-Stokes equations in cylindrical coordinates are given below:\n",
    "    \n",
    "\\begin{equation}\n",
    "{\\bf E}_x + {\\bf F}_r + \\frac{1}{r}{\\bf G}_\\theta = \\frac{1}{r}{\\bf R}\n",
    "\\end{equation}"
   ]
  },
  {
   "cell_type": "markdown",
   "id": "c28cb0e9",
   "metadata": {},
   "source": [
    "Where:"
   ]
  },
  {
   "cell_type": "markdown",
   "id": "a2e1dff9",
   "metadata": {},
   "source": [
    "\\begin{equation}\n",
    "{\\bf E} =\n",
    "\\begin{Bmatrix}\n",
    "\\rho u \\\\\n",
    "\\rho u^2 + P - \\frac{1}{Re}\\sigma_{xx} \\\\\n",
    "\\rho u v - \\frac{1}{Re}\\tau_{xr} \\\\\n",
    "\\rho u w - \\frac{1}{Re}\\tau_{x\\theta} \\\\\n",
    "\\rho u H + \\frac{1}{PrRe}\\mu T_x -\n",
    "    \\frac{1}{Re}(u\\sigma_{xx} +v\\tau_{xr} + w\\tau_{x\\theta}\n",
    "\\end{Bmatrix}\n",
    "\\end{equation}"
   ]
  },
  {
   "cell_type": "markdown",
   "id": "a6d33f9d",
   "metadata": {},
   "source": [
    "\\begin{equation}\n",
    "{\\bf F} =\n",
    "\\begin{Bmatrix}\n",
    "\\rho v \\\\\n",
    "\\rho u v - \\frac{1}{Re}\\tau_{xr} \\\\\n",
    "\\rho v^2 + P - \\frac{1}{Re}\\tau_{rr} \\\\\n",
    "\\rho v w - \\frac{1}{Re}\\tau_{r\\theta} \\\\\n",
    "\\rho v H + \\frac{1}{PrRe}\\mu T_r -\n",
    "    \\frac{1}{Re}(u\\tau_{xr} +v\\sigma_{rr} + w\\tau_{r\\theta})\n",
    "\\end{Bmatrix}\n",
    "\\end{equation}"
   ]
  },
  {
   "cell_type": "markdown",
   "id": "c866e879",
   "metadata": {},
   "source": [
    "\\begin{equation}\n",
    "{\\bf G} =\n",
    "\\begin{Bmatrix}\n",
    "\\rho  w \\\\\n",
    "\\rho u w - \\frac{1}{Re}\\tau_{x\\theta} \\\\\n",
    "\\rho v w - \\frac{1}{Re}\\tau_{r\\theta}) \\\\\n",
    "\\rho w^2 + P - \\frac{1}{Re}\\sigma_{\\theta\\theta} \\\\\n",
    "\\rho w H + \\frac{1}{PrRe}\\mu T_\\theta -\n",
    "    \\frac{1}{Re}(u\\tau_{x\\theta} +v\\tau_{r\\theta} + w\\sigma_{\\theta\\theta})\n",
    "\\end{Bmatrix}\n",
    "\\end{equation}"
   ]
  },
  {
   "cell_type": "markdown",
   "id": "19e08402",
   "metadata": {},
   "source": [
    "\\begin{equation}\n",
    "{\\bf R} =\n",
    "\\begin{Bmatrix}\n",
    "0 \\\\\n",
    "0 \\\\\n",
    "\\rho w^2 + P - \\frac{1}{Re}\\sigma_{\\theta\\theta} \\\\\n",
    "\\frac{1}{Re}\\tau_{r\\theta} - \\rho v w \\\\\n",
    "0\n",
    "\\end{Bmatrix}\n",
    "\\end{equation}"
   ]
  },
  {
   "cell_type": "markdown",
   "id": "85645b45",
   "metadata": {},
   "source": [
    "The shear stress terms age given by:\n",
    "\n",
    "\\begin{equation}\n",
    "\\sigma_{xx} = -P +\n",
    "\\lambda\\Bigl\\{\\frac{\\partial u}{\\partial x} +\n",
    "\\frac{\\partial v}{\\partial r} +\n",
    "\\frac{1}{r}\\frac{\\partial w}{\\partial \\theta} + \\frac{v}{r}\n",
    "\\Bigr\\}  + 2\\mu\\frac{\\partial u}{\\partial x}\n",
    "\\end{equation}"
   ]
  },
  {
   "cell_type": "markdown",
   "id": "2040a380",
   "metadata": {},
   "source": [
    "\\begin{equation}\n",
    "\\sigma_{rr} = -P +\n",
    "\\lambda \\Big\\{\n",
    "\\frac{\\partial u}{\\partial x} +\n",
    "\\frac{\\partial v}{\\partial r} +\n",
    "\\frac{1}{r}\n",
    "\\frac{\\partial w}{\\partial \\theta} + \\frac{v}{r} \n",
    "\\Bigr\\} + 2\\mu\\frac{\\partial v}{\\partial r}\n",
    "\\end{equation}"
   ]
  },
  {
   "cell_type": "markdown",
   "id": "098498f1",
   "metadata": {},
   "source": [
    "\\begin{equation}\n",
    "\\sigma_{\\theta\\theta} = -P +\n",
    "\\lambda \\Big\\{\n",
    "\\frac{\\partial u}{\\partial x} +\n",
    "\\frac{\\partial v}{\\partial r} +\n",
    "\\frac{1}{r}\n",
    "\\frac{\\partial w}{\\partial \\theta} + \\frac{v}{r} \n",
    "\\Bigr\\} + \\frac{2\\mu}{r}\\frac{\\partial w}{\\partial \\theta}\n",
    "\\end{equation}"
   ]
  },
  {
   "cell_type": "markdown",
   "id": "040007f2",
   "metadata": {},
   "source": [
    "\\begin{equation}\n",
    "\\tau_{xr} = \\mu\\Bigl\\{\n",
    "\\frac{\\partial u}{\\partial x} + \n",
    "\\frac{\\partial v}{\\partial r}\n",
    "\\Bigr\\}\n",
    "\\end{equation}"
   ]
  },
  {
   "cell_type": "markdown",
   "id": "ce3d645c",
   "metadata": {},
   "source": [
    "\\begin{equation}\n",
    "\\tau_{xr} = \\mu\\Bigl\\{\n",
    "\\frac{\\partial u}{\\partial x} + \n",
    "\\frac{\\partial v}{\\partial r}\n",
    "\\Bigr\\}\n",
    "\\end{equation}"
   ]
  },
  {
   "cell_type": "markdown",
   "id": "4ae631f2",
   "metadata": {},
   "source": [
    "\\begin{equation}\n",
    "\\tau_{r\\theta} = \\mu\\Bigl\\{\n",
    "\\frac{\\partial w}{\\partial r} + \n",
    "\\frac{1}{r}\n",
    "\\frac{\\partial v}{\\partial \\theta} -\n",
    "\\frac{w}{r}\n",
    "\\Bigr\\}\n",
    "\\end{equation}"
   ]
  },
  {
   "cell_type": "markdown",
   "id": "06dde6d1",
   "metadata": {},
   "source": [
    "\n",
    "## Generalized Coordinate Transformation"
   ]
  },
  {
   "cell_type": "markdown",
   "id": "c0d6b0cf",
   "metadata": {},
   "source": [
    "For the computational grid surrounding the ogive-cylinder body, we will create a coordinate system that extends from the body to a point outside of the shock cone:\n",
    "\n",
    "\\begin{equation}\n",
    "\\{x,r,\\theta\\} \\Leftrightarrow \\{\\xi,\\eta,\\zeta\\}\n",
    "\\end{equation}"
   ]
  },
  {
   "cell_type": "markdown",
   "id": "53e58444",
   "metadata": {},
   "source": [
    "\\begin{align}\n",
    "\\xi &= \\xi(x) \\\\\n",
    "\\eta &= \\eta(x,r,\\theta) \\\\\n",
    "\\zeta &= \\zeta(x,r,\\theta)\n",
    "\\end{align}"
   ]
  },
  {
   "cell_type": "markdown",
   "id": "37f3da2f",
   "metadata": {},
   "source": [
    "The partial derivatives become:\n",
    "    \n",
    "\\begin{equation}\n",
    "\\frac{\\partial}{\\partial x} = \\xi_x\\frac{\\partial}{\\partial\\xi} +\n",
    "\\eta_x\\frac{\\partial}{\\partial \\eta} +\n",
    "\\zeta_x\\frac{\\partial}{\\partial \\zeta}\n",
    "\\end{equation}"
   ]
  },
  {
   "cell_type": "markdown",
   "id": "7811c5b5",
   "metadata": {},
   "source": [
    "\\begin{equation}\n",
    "\\frac{\\partial}{\\partial r} = \\eta_r\\frac{\\partial}{\\partial\\eta} +\n",
    "\\zeta_r\\frac{\\partial}{\\partial \\zeta}\n",
    "\\end{equation}"
   ]
  },
  {
   "cell_type": "markdown",
   "id": "8a153aa3",
   "metadata": {},
   "source": [
    "\\begin{equation}\n",
    "\\frac{\\partial}{\\partial \\theta} = \\eta_\\theta\\frac{\\partial}{\\partial\\eta} +\n",
    "\\zeta_\\theta\\frac{\\partial}{\\partial \\zeta}\n",
    "\\end{equation}"
   ]
  },
  {
   "cell_type": "markdown",
   "id": "0de1712d",
   "metadata": {},
   "source": [
    "\\begin{equation}\n",
    "J = x_\\xi\\{ r_\\eta \\theta_\\zeta - r_\\zeta \\theta_\\eta \\}\n",
    "\\end{equation}"
   ]
  },
  {
   "cell_type": "markdown",
   "id": "7e83571f",
   "metadata": {},
   "source": [
    "\\begin{equation}\n",
    "\\xi_x{\\bf E_p^*}_\\xi +\n",
    "\\eta_x{\\bf E}_\\eta^* +\n",
    "\\zeta_x{\\bf E}_\\zeta^* +\n",
    "\\eta_r{\\bf F}_\\eta^* +\n",
    "\\zeta_r{\\bf F}_\\zeta^* +\n",
    "\\eta_\\theta{\\bf G}_\\eta^* +\n",
    "\\zeta_\\theta{\\bf G}_\\zeta^*\n",
    "= {\\bf R}\n",
    "\\end{equation}"
   ]
  },
  {
   "cell_type": "markdown",
   "id": "dc42af76",
   "metadata": {},
   "source": [
    "\\begin{equation}\n",
    "{\\bf E_p^*} =\n",
    "\\begin{Bmatrix}\n",
    "(\\rho u) r\\\\\n",
    "(\\rho u^2 + P)r  \\\\\n",
    "(\\rho u v)r \\\\\n",
    "(\\rho u w)r  \\\\\n",
    "\\rho u H)r \n",
    "\\end{Bmatrix}\n",
    "\\end{equation}"
   ]
  },
  {
   "cell_type": "markdown",
   "id": "f94e4c64",
   "metadata": {},
   "source": [
    "\\begin{equation}\n",
    "{\\bf E^*} =\n",
    "\\begin{Bmatrix}\n",
    "(\\rho u) r\\\\\n",
    "(\\rho u^2 + P - \\frac{1}{Re}\\sigma^*_{xx})r \\\\\n",
    "(\\rho u v)r - \\frac{1}{Re}\\tau^*_{xr})r \\\\\n",
    "(\\rho u w)r - \\frac{1}{Re}\\tau^*_{xr})r \\\\\n",
    "(\\rho u H - \\frac{1}{PrRe}\\mu T^*_x -\n",
    "    \\frac{1}{Re}(u\\sigma^*_{xx} +v\\tau^*_{xr} + w\\tau^*_{x\\theta})r\n",
    "\\end{Bmatrix}\n",
    "\\end{equation}"
   ]
  },
  {
   "cell_type": "markdown",
   "id": "977f0588",
   "metadata": {},
   "source": [
    "\\begin{equation}\n",
    "{\\bf F^*} =\n",
    "\\begin{Bmatrix}\n",
    "(\\rho v) r\\\\\n",
    "(\\rho u v - \\frac{1}{Re}\\tau^*_{xr})r \\\\\n",
    "(\\rho v^2 + P - \\frac{1}{Re}\\sigma^*_{rr})r \\\\\n",
    "(\\rho v w)r - \\frac{1}{Re}\\tau^*_{r\\theta})r \\\\\n",
    "(\\rho v H - \\frac{1}{PrRe}\\mu T^*_r -\n",
    "    \\frac{1}{Re}(u\\tau^*_{xr} +v\\sigma^*_{rr} + w\\tau^*_{r\\theta})r\n",
    "\\end{Bmatrix}\n",
    "\\end{equation}"
   ]
  },
  {
   "cell_type": "markdown",
   "id": "d42a9395",
   "metadata": {},
   "source": [
    "\\begin{equation}\n",
    "{\\bf G^*} =\n",
    "\\begin{Bmatrix}\n",
    "(\\rho w) r\\\\\n",
    "(\\rho u w - \\frac{1}{Re}\\tau^*_{x\\theta})r \\\\\n",
    "(\\rho v w - \\frac{1}{Re}\\tau^*_{r\\theta})r \\\\\n",
    "(\\rho w^2 - \\frac{1}{Re}\\sigma^*_{\\theta\\theta})r \\\\\n",
    "(\\rho w H - \\frac{1}{PrRe}\\mu T^*_\\theta -\n",
    "    \\frac{1}{Re}(u\\tau^*_{x\\theta} +v\\tau^*_{r\\theta} + w\\sigma^*_{\\theta\\theta})r\n",
    "\\end{Bmatrix}\n",
    "\\end{equation}"
   ]
  },
  {
   "cell_type": "markdown",
   "id": "a611cdd2",
   "metadata": {},
   "source": [
    "\\begin{equation}\n",
    "{\\bf R^*} =\n",
    "\\begin{Bmatrix}\n",
    "0 \\\\\n",
    "0 \\\\\n",
    "\\rho w^2 + P -\\frac{1}{Re}\\sigma_{\\theta\\theta}\n",
    "\\frac{1}{Re}\\tau_{r\\theta} - \\rho v w \\\\\n",
    "0\n",
    "\\end{Bmatrix}\n",
    "\\end{equation}"
   ]
  },
  {
   "cell_type": "markdown",
   "id": "b93a9477",
   "metadata": {},
   "source": [
    "The transformed shear stress terms now become:"
   ]
  },
  {
   "cell_type": "markdown",
   "id": "1f1bc499",
   "metadata": {},
   "source": [
    "\\begin{equation}\n",
    "\\sigma^*_{xx} = \n",
    "\\lambda (\\overline{\\nabla} \\cdot \\overline{\\bf V})^*  +\n",
    "2\\mu\\{\\eta_x u_\\eta + \\zeta_x u_\\zeta\\}\n",
    "\\end{equation}"
   ]
  },
  {
   "cell_type": "markdown",
   "id": "8dee7ab3",
   "metadata": {},
   "source": [
    "\\begin{equation}\n",
    "\\sigma^*_{rr} = \n",
    "\\lambda (\\overline{\\nabla} \\cdot \\overline{\\bf V})^*  +\n",
    "2\\mu\\{\\eta_r v_\\eta + \\zeta_r v_\\zeta\\}\n",
    "\\end{equation}"
   ]
  },
  {
   "cell_type": "markdown",
   "id": "8294521a",
   "metadata": {},
   "source": [
    "\\begin{equation}\n",
    "\\sigma^*_{\\theta\\theta} = \n",
    "\\lambda (\\overline{\\nabla} \\cdot \\overline{\\bf V})^*  +\n",
    "\\frac{2\\mu}{r}\\{\\eta_\\theta w_\\eta + \\zeta_\\theta w_\\zeta + v\\}\n",
    "\\end{equation}"
   ]
  },
  {
   "cell_type": "markdown",
   "id": "2484b4a9",
   "metadata": {},
   "source": [
    "\\begin{equation}\n",
    "\\tau^*_{xr} = \n",
    "\\mu\\{\\eta_r u_\\eta + \\zeta_r u_\\zeta + \\eta_x v_\\eta + \\zeta_x v_\\zeta\\}\n",
    "\\end{equation}"
   ]
  },
  {
   "cell_type": "markdown",
   "id": "ab37b4c0",
   "metadata": {},
   "source": [
    "\\begin{equation}\n",
    "\\tau^*_{x\\theta} = \n",
    "\\mu\\{\\eta_x w+\\eta + \\zeta_x w_\\zeta + \\frac{1}{r}(\\eta_\\theta u_\\eta + \\zeta_\\theta u_\\eta \\}\n",
    "\\end{equation}"
   ]
  },
  {
   "cell_type": "markdown",
   "id": "dedae95c",
   "metadata": {},
   "source": [
    "\\begin{equation}\n",
    "\\tau^*_{r\\theta} = \n",
    "\\mu\\{\\eta_r w_\\eta + \\zeta_r w_\\zeta + \\frac{1}{r}(\\eta_\\theta v_\\eta + \\zeta_\\theta v_\\zeta - w)\\}\n",
    "\\end{equation}"
   ]
  },
  {
   "cell_type": "markdown",
   "id": "c9ac6742",
   "metadata": {},
   "source": [
    "\\begin{equation}\n",
    "\\left(\\overline{\\nabla} \\cdot \\overline{\\bf V}\\right)^* =\n",
    "\\{\n",
    "\\eta_x u_\\eta + \n",
    "\\zeta_x u_\\zeta +\n",
    "\\eta_r v_\\eta + \n",
    "\\zeta_r v_\\zeta +\n",
    "\\frac{1}{r}(\n",
    "\\eta_\\theta w_\\eta + \n",
    "\\zeta_\\theta w_\\zeta + v\n",
    ")\n",
    "\\}\n",
    "\\end{equation}"
   ]
  },
  {
   "cell_type": "markdown",
   "id": "41a07883",
   "metadata": {},
   "source": [
    "## Axisymmetric Equations"
   ]
  },
  {
   "cell_type": "markdown",
   "id": "ff16d9fd",
   "metadata": {},
   "source": [
    "For initial testing, we will conside the axisymmetric case for the ogive-cylinder at zero angle of attack. This reduces the problem from a 3D one to a 2D 1. In this case all derivatives in the $\\theta$ ($\\zeta$) direction are zero and the corresponding **w** velocity is zero as well. We This reduces the equation set to this:\n",
    "\n",
    "\\begin{equation}\n",
    "\\xi_x{\\bf E}_\\xi + \\eta_x{\\bf E}_\\eta +\n",
    "\\eta_r{\\bf F}_\\eta\n",
    "= {\\bf R}\n",
    "\\end{equation}"
   ]
  },
  {
   "cell_type": "markdown",
   "id": "87f9bf40",
   "metadata": {},
   "source": [
    "\\begin{equation}\n",
    "{\\bf E} =\n",
    "\\begin{Bmatrix}\n",
    "\\rho u \\\\\n",
    "\\rho u^2 + P - \\frac{1}{Re}\\sigma_{xx} \\\\\n",
    "\\rho u v - \\frac{1}{Re}\\tau_{xr} \\\\\n",
    "\\rho u H + \\frac{1}{PrRe}\\mu T_x -\n",
    "    \\frac{1}{Re}(u\\sigma_{xx} +v\\tau_{xr}\n",
    "\\end{Bmatrix}\n",
    "\\end{equation}"
   ]
  },
  {
   "cell_type": "markdown",
   "id": "08b42976",
   "metadata": {},
   "source": [
    "\\begin{equation}\n",
    "{\\bf F} =\n",
    "\\begin{Bmatrix}\n",
    "\\rho v \\\\\n",
    "\\rho u v - \\frac{1}{Re}\\tau_{xr} \\\\\n",
    "\\rho v^2 + P - \\frac{1}{Re}\\tau_{rr} \\\\\n",
    "\\rho v H + \\frac{1}{PrRe}\\mu T_r -\n",
    "    \\frac{1}{Re}(u\\tau_{xr} +v\\sigma_{rr})\n",
    "\\end{Bmatrix}\n",
    "\\end{equation}"
   ]
  },
  {
   "cell_type": "markdown",
   "id": "4098a2fb",
   "metadata": {},
   "source": [
    "\\begin{equation}\n",
    "{\\bf R} =\n",
    "\\begin{Bmatrix}\n",
    "0 \\\\\n",
    "0 \\\\\n",
    "- \\rho v w \\\\\n",
    "0\n",
    "\\end{Bmatrix}\n",
    "\\end{equation}"
   ]
  },
  {
   "cell_type": "markdown",
   "id": "df671815",
   "metadata": {},
   "source": [
    "## Solving For Primative Variables"
   ]
  },
  {
   "cell_type": "markdown",
   "id": "577f4d98",
   "metadata": {},
   "source": [
    "\\begin{align}\n",
    "\\rho u &=  A \\\\\n",
    "\\rho u^2 + P &= B \\\\\n",
    "\\rho u v &= C \\\\\n",
    "\\rho u w &= D \\\\\n",
    "\\rho u H &= E\n",
    "\\end{align}\n",
    "\n",
    "\\begin{equation}\n",
    "M_x = \\frac{u}{c} = \\frac{u}{\\sqrt{(\\gamma - 1) T}}\n",
    "\\end{equation}\n",
    "or\n",
    "\\begin{equation}\n",
    "u^2 = (\\gamma - 1) T M_x^2\n",
    "\\end{equation}"
   ]
  },
  {
   "cell_type": "markdown",
   "id": "b5f35ec8",
   "metadata": {},
   "source": [
    "\\begin{equation}\n",
    "\\rho = \\frac{\\gamma P}{(\\gamma - 1)T}\n",
    "\\end{equation}"
   ]
  },
  {
   "cell_type": "markdown",
   "id": "12cab8c2",
   "metadata": {},
   "source": [
    "\\begin{equation}\n",
    "B = P + \\rho u^2 = P +\\rho\\{(\\gamma - 1)T M^2_x \\} = P\\{1 + \\gamma M_x^2\\}\n",
    "\\end{equation}"
   ]
  },
  {
   "cell_type": "markdown",
   "id": "25cc34d3",
   "metadata": {},
   "source": [
    "\\begin{equation}\n",
    "T = H -\\frac{1}{2}\\bigl\\{(\\gamma-1)T\n",
    "\\end{equation}"
   ]
  },
  {
   "cell_type": "code",
   "execution_count": null,
   "id": "c93a4b2c",
   "metadata": {},
   "outputs": [],
   "source": []
  },
  {
   "cell_type": "code",
   "execution_count": null,
   "id": "87dcda69",
   "metadata": {},
   "outputs": [],
   "source": []
  },
  {
   "cell_type": "code",
   "execution_count": null,
   "id": "4f3620b3",
   "metadata": {},
   "outputs": [],
   "source": []
  },
  {
   "cell_type": "code",
   "execution_count": null,
   "id": "5b01da79",
   "metadata": {},
   "outputs": [],
   "source": []
  },
  {
   "cell_type": "code",
   "execution_count": null,
   "id": "320f1462",
   "metadata": {},
   "outputs": [],
   "source": []
  },
  {
   "cell_type": "code",
   "execution_count": null,
   "id": "5987b307",
   "metadata": {},
   "outputs": [],
   "source": []
  },
  {
   "cell_type": "code",
   "execution_count": null,
   "id": "944ddc15",
   "metadata": {},
   "outputs": [],
   "source": []
  },
  {
   "cell_type": "code",
   "execution_count": null,
   "id": "6be59a65",
   "metadata": {},
   "outputs": [],
   "source": []
  },
  {
   "cell_type": "code",
   "execution_count": null,
   "id": "9aed9588",
   "metadata": {},
   "outputs": [],
   "source": []
  },
  {
   "cell_type": "code",
   "execution_count": null,
   "id": "08b6d832",
   "metadata": {},
   "outputs": [],
   "source": []
  },
  {
   "cell_type": "code",
   "execution_count": null,
   "id": "016e4661",
   "metadata": {},
   "outputs": [],
   "source": []
  },
  {
   "cell_type": "code",
   "execution_count": null,
   "id": "6784cb48",
   "metadata": {},
   "outputs": [],
   "source": []
  },
  {
   "cell_type": "code",
   "execution_count": null,
   "id": "fbbee4dd",
   "metadata": {},
   "outputs": [],
   "source": []
  },
  {
   "cell_type": "code",
   "execution_count": null,
   "id": "b6b918ff",
   "metadata": {},
   "outputs": [],
   "source": []
  }
 ],
 "metadata": {
  "kernelspec": {
   "display_name": "Python 3 (ipykernel)",
   "language": "python",
   "name": "python3"
  },
  "language_info": {
   "codemirror_mode": {
    "name": "ipython",
    "version": 3
   },
   "file_extension": ".py",
   "mimetype": "text/x-python",
   "name": "python",
   "nbconvert_exporter": "python",
   "pygments_lexer": "ipython3",
   "version": "3.10.7"
  },
  "toc": {
   "base_numbering": 1,
   "nav_menu": {},
   "number_sections": true,
   "sideBar": true,
   "skip_h1_title": false,
   "title_cell": "Table of Contents",
   "title_sidebar": "Contents",
   "toc_cell": false,
   "toc_position": {},
   "toc_section_display": true,
   "toc_window_display": false
  },
  "varInspector": {
   "cols": {
    "lenName": 16,
    "lenType": 16,
    "lenVar": 40
   },
   "kernels_config": {
    "python": {
     "delete_cmd_postfix": "",
     "delete_cmd_prefix": "del ",
     "library": "var_list.py",
     "varRefreshCmd": "print(var_dic_list())"
    },
    "r": {
     "delete_cmd_postfix": ") ",
     "delete_cmd_prefix": "rm(",
     "library": "var_list.r",
     "varRefreshCmd": "cat(var_dic_list()) "
    }
   },
   "types_to_exclude": [
    "module",
    "function",
    "builtin_function_or_method",
    "instance",
    "_Feature"
   ],
   "window_display": false
  }
 },
 "nbformat": 4,
 "nbformat_minor": 5
}