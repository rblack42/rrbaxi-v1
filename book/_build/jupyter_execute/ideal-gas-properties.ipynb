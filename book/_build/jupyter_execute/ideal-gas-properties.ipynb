{
 "cells": [
  {
   "cell_type": "markdown",
   "id": "5340ded6",
   "metadata": {},
   "source": [
    "# Ideal Gas Properties"
   ]
  },
  {
   "cell_type": "markdown",
   "id": "1abf630c",
   "metadata": {},
   "source": [
    "In this section, we will derive a few equations that describe the properties of an ideal gas. To assist in this work, we will use *Python* *SymPy* to validate the equations. Note that *SymPy* does not care if the equations look \"neat\" so I will need to jockey things to get the needed form. Remember that all equations in *SymPy* need to be of the form $exp = 0$. (The right hand side is assumed.)\n",
    "\n",
    "To get started, we first set up the *SymPy* functions we will be using."
   ]
  },
  {
   "cell_type": "code",
   "execution_count": 1,
   "id": "b56d9fae",
   "metadata": {},
   "outputs": [],
   "source": [
    "from sympy import var, solve, simplify, expand, collect"
   ]
  },
  {
   "cell_type": "markdown",
   "id": "1d43a322",
   "metadata": {},
   "source": [
    "I wil be using [Principles of Ideal-Fluid Aerodynamics](karamcheta1966), as a reference for the equations for an ideal gas:"
   ]
  },
  {
   "cell_type": "markdown",
   "id": "9e03d685",
   "metadata": {},
   "source": [
    "## State Equation\n",
    "\n",
    "In dimensional form, the state equation is given by:\n",
    "\n",
    "\\begin{equation}                                                            \\hat{p} = \\hat{\\rho} \\hat{R} \\hat{T}\n",
    "\\end{equation}\n",
    "\n",
    "The hat symbol indicates a dimensional property.\n",
    "\n",
    "It is convenient to nondimensionalize the governing equations using reference property values, usually those found in the free-stream."
   ]
  },
  {
   "cell_type": "markdown",
   "id": "57e71d47",
   "metadata": {},
   "source": [
    "### Nondimensionalizing Variables\n",
    "\n",
    "We nondimensionalize all variables in this study using free-stream reference values:\n",
    "\n",
    "\\begin{align}\n",
    "p &= \\frac{\\hat{p}}{\\hat{p}_{ref}} \\\\\n",
    "\\rho &= \\frac{\\hat{\\rho}}{\\hat{\\rho}_\\infty} \\\\\n",
    "u &= \\frac{\\hat{u}}{\\hat{u}_\\infty} \\\\\n",
    "T &= \\frac{\\hat{T}}{\\hat{T}_{ref}} \\\\\n",
    "H &= \\frac{\\hat{H}}{\\hat{H}_{ref}}\n",
    "\\end{align}"
   ]
  },
  {
   "cell_type": "markdown",
   "id": "528d9358",
   "metadata": {},
   "source": [
    "where\n",
    "\n",
    "\\begin{align}\n",
    "\\hat{H}_{ref} &= \\hat{U}^2_\\infty \\\\\n",
    "\\hat{T}_{ref} &= \\frac{\\hat{U}^2_\\infty}{\\hat{C_p}} \\\\\n",
    "\\hat{p}_{ref} &= \\hat{\\rho}_\\infty\\hat{U}^2_\\infty\n",
    "\\end{align}"
   ]
  },
  {
   "cell_type": "markdown",
   "id": "3da12924",
   "metadata": {},
   "source": [
    "Now we will let *SymPy* generate the nondimensional form of this equation:"
   ]
  },
  {
   "cell_type": "code",
   "execution_count": 2,
   "id": "a7b7657b",
   "metadata": {},
   "outputs": [],
   "source": [
    "rho, rho_ref = var('rho rho_ref')\n",
    "T, T_ref = var('T T_ref')\n",
    "Cp_ref = var('Cp_ref')"
   ]
  },
  {
   "cell_type": "code",
   "execution_count": 3,
   "id": "7184c788",
   "metadata": {},
   "outputs": [],
   "source": [
    "p, p_ref = var('p p_ref')\n",
    "R = var('R_ref')\n",
    "u, u_ref = var('u u_ref')"
   ]
  },
  {
   "cell_type": "markdown",
   "id": "774bb3f3",
   "metadata": {},
   "source": [
    "Now, we create expressions for the dimensional properties:"
   ]
  },
  {
   "cell_type": "code",
   "execution_count": 4,
   "id": "135b2beb",
   "metadata": {},
   "outputs": [],
   "source": [
    "u_h = u*u_ref\n",
    "T_h = T*u_ref**2/Cp_ref \n",
    "p_h = p*(rho_ref*u_ref**2)\n",
    "rho_h = rho*rho_ref"
   ]
  },
  {
   "cell_type": "markdown",
   "id": "88fdb640",
   "metadata": {},
   "source": [
    "Now, let's use the state equation:"
   ]
  },
  {
   "cell_type": "code",
   "execution_count": 5,
   "id": "010162ed",
   "metadata": {},
   "outputs": [
    {
     "data": {
      "text/latex": [
       "$\\displaystyle p - \\frac{R_{ref} T \\rho}{Cp_{ref}}$"
      ],
      "text/plain": [
       "p - R_ref*T*rho/Cp_ref"
      ]
     },
     "execution_count": 5,
     "metadata": {},
     "output_type": "execute_result"
    }
   ],
   "source": [
    "state = p_h - rho_h*R*T_h\n",
    "eq1 = state/(rho_ref*u_ref**2)\n",
    "eq1.simplify()"
   ]
  },
  {
   "cell_type": "markdown",
   "id": "391e5ac5",
   "metadata": {},
   "source": [
    "From ideal gas theory:\n",
    "\n",
    "\\begin{equation}\n",
    "c^*_p - c^*_v = R^*\n",
    "\\end{equation}\n"
   ]
  },
  {
   "cell_type": "markdown",
   "id": "0141d7ba",
   "metadata": {},
   "source": [
    "\n",
    "Dividing by $c^*_p$ gives\n",
    "\n",
    "\\begin{align}\n",
    "\\frac{R^*}{c^*_p} &= 1 - \\frac{c^*_v}{c^*_p}\\\\\n",
    "&= 1 - \\frac{1}{\\gamma}\n",
    "&= \\frac{\\gamma - 1}{\\gamma}\n",
    "\\end{align}"
   ]
  },
  {
   "cell_type": "code",
   "execution_count": 6,
   "id": "24b3009b",
   "metadata": {},
   "outputs": [
    {
     "data": {
      "text/latex": [
       "$\\displaystyle \\frac{- T \\gamma \\rho + p \\left(\\gamma - 1\\right)}{\\gamma - 1}$"
      ],
      "text/plain": [
       "(-T*gamma*rho + p*(gamma - 1))/(gamma - 1)"
      ]
     },
     "execution_count": 6,
     "metadata": {},
     "output_type": "execute_result"
    }
   ],
   "source": [
    "gamma = var('gamma')\n",
    "eq2 = eq1.subs(R_ref,Cp_ref*gamma/(gamma-1))\n",
    "eq2.simplify()"
   ]
  },
  {
   "cell_type": "code",
   "execution_count": 7,
   "id": "7a2727fb",
   "metadata": {},
   "outputs": [
    {
     "data": {
      "text/plain": [
       "{p: T*gamma*rho/(gamma - 1)}"
      ]
     },
     "execution_count": 7,
     "metadata": {},
     "output_type": "execute_result"
    }
   ],
   "source": [
    "nstate = solve([eq2],[p])\n",
    "nstate"
   ]
  },
  {
   "cell_type": "markdown",
   "id": "3d7e8aec",
   "metadata": {},
   "source": [
    "Getting *SymPy* to display the final result proved difficult, so I will just give it here:\n",
    "\n",
    "### Nondimensional State Equation\n",
    "\n",
    "\\begin{equation}\n",
    "p = \\frac{\\gamma}{\\gamma - 1}\\rho T\n",
    "\\end{equation}"
   ]
  },
  {
   "cell_type": "markdown",
   "id": "484220f8",
   "metadata": {},
   "source": [
    "Using these expressions we get these nondimensional variables:\n",
    "\n",
    "\\begin{align}\n",
    "p &= \\frac{P^*}{\\rho^*_{ref} {U^{*^2}}_\\infty} \\\\\n",
    "\\rho &= \\frac{\\rho^*}{\\rho^*_\\infty} \\\\\n",
    "T &= \\frac{c_p^* T^*}{{U^{*^2}_\\infty}} \\\\\n",
    "H &= \\frac{H^*}{{U^{*^2}}_\\infty}\n",
    "\\end{align}}\n",
    "\n",
    "### Non-Dimensional State Equation\n",
    "\n",
    "\\begin{equation}\n",
    "\\rho^*_\\infty {{U^*}^2}_\\infty(p) =\n",
    "\\rho^*_\\infty(\\rho)R^*\\frac{{{U^*}^2}_\\infty}{c^*_p}(T)\n",
    "\\end{equation}\n",
    "\n",
    "\\begin{equation}\n",
    "\\rho^*_\\infty {{U^*}^2}_\\infty(p) =\n",
    "\\frac{\\rho^*_\\infty R^*{{U^*}^2}_\\infty}{c^*_p}(\\rho T)\n",
    "\\end{equation}\n",
    "\n",
    "\\begin{equation}\n",
    "p = \\rho T \\frac{R^*_\\infty}{c^*_p} \n",
    "\\end{equation}"
   ]
  },
  {
   "cell_type": "markdown",
   "id": "926f035e",
   "metadata": {},
   "source": [
    "Which gives this form for the state equation:\n",
    "\n",
    "\\begin{equation}\n",
    "p = \\frac{\\gamma - 1}{\\gamma} \\rho T\n",
    "\\end{equation}"
   ]
  },
  {
   "cell_type": "markdown",
   "id": "45ebdc82",
   "metadata": {},
   "source": [
    "## Speed of Sound\n",
    "\n",
    "\\begin{equation}\n",
    "a = \\sqrt{\\frac{\\gamma p}{\\rho}}\n",
    "\\end{equation}\n",
    "\n",
    "but:\n",
    "\n",
    "\\begin{equation}\n",
    "\\frac{p}{\\rho} = \\frac{\\gamma - 1}{\\gamma}T\n",
    "\\end{equation}\n",
    "\n",
    "\\begin{equation}\n",
    "a = \\sqrt{(\\gamma-1)T}\n",
    "\\end{equation}"
   ]
  },
  {
   "cell_type": "markdown",
   "id": "3ff582bc",
   "metadata": {},
   "source": [
    "## Mach Number\n",
    "\n",
    "\\begin{equation}\n",
    "M_x = \\frac{u}{a}\n",
    "\\end{equation}\n",
    "\n",
    "\\begin{equation}\n",
    "u^2 = (\\gamma - 1)T M_x^2\n",
    "\\end{equation}\n",
    "\n",
    "From the definition of $B$ we get this:\n",
    "\n",
    "\\begin{align}\n",
    "B &= p + \\rho u^2 \\\\\n",
    " &= p + (\\gamma - 1)\\rho T M_x^2 \\\\\n",
    " &= p + \\gamma p M_x^2 \\\\\n",
    " &= p(1 + \\gamma M_x^2)\n",
    "\\end{align}Therefore:\n",
    "\n",
    "\\begin{equation}\n",
    "p = \\frac{B}{1 + \\gamma M_x^2}\n",
    "\\end{equation}"
   ]
  },
  {
   "cell_type": "markdown",
   "id": "8ef09a87",
   "metadata": {},
   "source": [
    "We now have enough equations to look at how we will solve the governing equations in nondimensional form.\n"
   ]
  },
  {
   "cell_type": "markdown",
   "id": "3e5a26a4",
   "metadata": {},
   "source": [
    "From the definition of total enthalpy we get this:\n",
    "\n",
    "\\begin{equation}\n",
    "T =  H -\\frac{1}{2}\\left( (\\gamma - 1)T M_x^2 + v^2 + w^2 \\right) \n",
    "\\end{equation}\n",
    "\n",
    "Now define a new term $K$ as follows:\n",
    "\n",
    "\\begin{equation}\n",
    "K = H - \\frac{1}{2}\\left(v^2 + w^2\\right)\n",
    "\\end{equation}\n",
    "\n",
    "Then:\n",
    "\n",
    "\\begin{equation}\n",
    "T = K -\\frac{1}{2}(\\gamma - 1)T M_x^2\n",
    "\\end{equation}\n",
    "\n",
    "or\n",
    "\n",
    "\\begin{equation}\n",
    "T\\left(1 + \\frac{(\\gamma - 1)M_x^2}{2}\\right) = K \n",
    "\\end{equation}\n",
    "\n",
    "Rearranging:\n",
    "\n",
    "\\begin{equation}\n",
    "T = \\frac{K}{\\left(1 + \\frac{(\\gamma - 1)M_x^2}{2}\\right)}\n",
    "\\end{equation}"
   ]
  },
  {
   "cell_type": "markdown",
   "id": "b20c57c0",
   "metadata": {},
   "source": [
    "From the state equation, we have:\n",
    "\n",
    "\\begin{equation}\n",
    "\\rho = \\frac{\\gamma p}{(\\gamma - 1)T}\n",
    "\\end{equation}\n",
    "\n",
    "Substituting for $p$ and $T$, we get this equation:\n",
    "\n",
    "\\begin{equation}\n",
    "\\rho = \\frac{\\gamma B\\left(1 + \\frac{\\gamma - 1}{2} M_x^2\\right)}{K(\\gamma - 1)(1 +\\gamma M_x^2)}\n",
    "\\end{equation}"
   ]
  },
  {
   "cell_type": "markdown",
   "id": "fdd5d38e",
   "metadata": {},
   "source": [
    "From the definition of $A$ we get:\n",
    "    \n",
    "\\begin{equation}\n",
    "u = \\frac{A}{\\rho} = \\frac{AK(\\gamma - 1)(1 +\\gamma M_x^2)}{\\gamma B\\left(1 + \\frac{\\gamma - 1}{2} M_x^2\\right)}\n",
    "\\end{equation}\n",
    "\n",
    "Let's simplify this a bit by grouping terms:\n",
    "\n",
    "\\begin{equation}\n",
    "\\alpha = \\frac{AK(\\gamma - 1)}{\\gamma B}\n",
    "\\end{equation}\n",
    "\n",
    "With this, our reduced equation for $u$ becomes:\n",
    "\n",
    "\\begin{equation}\n",
    "u = \\frac{\\alpha(1 +\\gamma M_x^2)}{\\left(1 + \\frac{\\gamma - 1}{2} M_x^2\\right)}\n",
    "\\end{equation}"
   ]
  },
  {
   "cell_type": "markdown",
   "id": "b379312c",
   "metadata": {},
   "source": [
    "Now, from our definition of the Mach Number:\n",
    "\n",
    "\\begin{equation}\n",
    "u^2 = (\\gamma - 1)T M_x^2\n",
    "\\end{equation}\n",
    "\n",
    "Eliminating $T$, we get this equation:\n",
    "\n",
    "\\begin{equation}\n",
    "u^2 = \\frac{(\\gamma - 1)K M_x^2}{\\left(1 + \\frac{(\\gamma - 1)}{2}M_x^2\\right)}\n",
    "\\end{equation}"
   ]
  },
  {
   "cell_type": "markdown",
   "id": "afbcfafc",
   "metadata": {},
   "source": [
    "Combining these two equations for $u^2$, we get this:\n",
    "\n",
    "\\begin{equation}\n",
    "\\frac{(\\gamma - 1)K M_x^2}{\\left(1 + \\frac{(\\gamma - 1)}{2}M_x^2\\right)} =\n",
    "\\Biggl\\{\n",
    "\\frac{\\alpha(1 +\\gamma M_x^2)}{\\left(1 + \\frac{\\gamma - 1}{2} M_x^2\\right)}\n",
    "\\Biggr\\}^2\n",
    "\\end{equation}"
   ]
  },
  {
   "cell_type": "markdown",
   "id": "f8f39f20",
   "metadata": {},
   "source": [
    "Rearranging:\n",
    "\n",
    "\\begin{equation}\n",
    "\\alpha^2(1 + \\gamma M_x^2)^2 = \\biggl(1 + \\frac{\\gamma - 1}{2} M_x^2\\bigg)(\\gamma - 1)K M_x^2\n",
    "\\end{equation}"
   ]
  },
  {
   "cell_type": "markdown",
   "id": "edf212c0",
   "metadata": {},
   "source": [
    "\\begin{equation}\n",
    "\\frac{\\alpha^2}{(\\gamma - 1)K}(1 + \\gamma M_x^2)^2\n",
    "\\end{equation}"
   ]
  },
  {
   "cell_type": "markdown",
   "id": "0a0a7ddd",
   "metadata": {},
   "source": [
    "Let's let **sypy** reduce this to an equation for $M_x^2$:"
   ]
  },
  {
   "cell_type": "code",
   "execution_count": 8,
   "id": "2bb36c19",
   "metadata": {},
   "outputs": [
    {
     "data": {
      "text/latex": [
       "$\\displaystyle MX_{2}^{2} \\left(- \\frac{K \\gamma^{2}}{2} + K \\gamma - \\frac{K}{2} + \\alpha^{2} \\gamma^{2}\\right) + MX_{2} \\left(- K \\gamma + K + 2 \\alpha^{2} \\gamma\\right) + \\alpha^{2}$"
      ],
      "text/plain": [
       "MX2**2*(-K*gamma**2/2 + K*gamma - K/2 + alpha**2*gamma**2) + MX2*(-K*gamma + K + 2*alpha**2*gamma) + alpha**2"
      ]
     },
     "execution_count": 8,
     "metadata": {},
     "output_type": "execute_result"
    }
   ],
   "source": [
    "\n",
    "gamma, alpha, K, A, B, MX2 = var('gamma alpha K A B MX2')\n",
    "eq10 = alpha**2*(1 + gamma*MX2)**2 - (1 + (gamma-1)/2*MX2)*(gamma-1)*K*MX2\n",
    "eq11 = collect(eq10, MX2)\n",
    "eq12 = eq11.expand()\n",
    "eq13 = collect(eq12,MX2)\n",
    "eq13"
   ]
  },
  {
   "cell_type": "code",
   "execution_count": 9,
   "id": "48aacb07",
   "metadata": {},
   "outputs": [
    {
     "data": {
      "text/latex": [
       "$\\displaystyle K \\left(- \\frac{\\gamma^{2}}{2} + \\gamma - \\frac{1}{2}\\right) + \\alpha^{2} \\gamma^{2}$"
      ],
      "text/plain": [
       "K*(-gamma**2/2 + gamma - 1/2) + alpha**2*gamma**2"
      ]
     },
     "execution_count": 9,
     "metadata": {},
     "output_type": "execute_result"
    }
   ],
   "source": [
    "A = eq13.coeff(MX2,2)\n",
    "collect(A,K)"
   ]
  },
  {
   "cell_type": "markdown",
   "id": "069eb704",
   "metadata": {},
   "source": [
    "Collecting terms of $M_x^2$ we get:\n",
    "\n",
    "\\begin{equation}\n",
    "(M_x^2)^2(K\\gamma + \\alpha^2\\gamma^2 - \\frac{\\gamma^2 K}{2}) + \n",
    "(M_x^2)(\\gamma K + K + 2\\alpha^2\\gamma  +\n",
    "\\alpha^2\n",
    "\\end{equation}"
   ]
  },
  {
   "cell_type": "code",
   "execution_count": 10,
   "id": "7213f82b",
   "metadata": {},
   "outputs": [
    {
     "data": {
      "text/latex": [
       "$\\displaystyle - \\frac{\\gamma^{2}}{2} + \\gamma - \\frac{1}{2}$"
      ],
      "text/plain": [
       "-gamma**2/2 + gamma - 1/2"
      ]
     },
     "execution_count": 10,
     "metadata": {},
     "output_type": "execute_result"
    }
   ],
   "source": [
    "eqt1 = -((gamma - 1)**2)/2\n",
    "eqt1.expand()"
   ]
  },
  {
   "cell_type": "code",
   "execution_count": 11,
   "id": "9469d245",
   "metadata": {},
   "outputs": [
    {
     "data": {
      "text/latex": [
       "$\\displaystyle K \\left(1 - \\gamma\\right) + 2 \\alpha^{2} \\gamma$"
      ],
      "text/plain": [
       "K*(1 - gamma) + 2*alpha**2*gamma"
      ]
     },
     "execution_count": 11,
     "metadata": {},
     "output_type": "execute_result"
    }
   ],
   "source": [
    "B = eq13.coeff(MX2,1)\n",
    "collect(B,K)"
   ]
  },
  {
   "cell_type": "code",
   "execution_count": 12,
   "id": "db9813ab",
   "metadata": {},
   "outputs": [
    {
     "data": {
      "text/latex": [
       "$\\displaystyle \\frac{- K \\gamma + K + 2 \\alpha^{2} \\gamma + \\sqrt{- K \\left(\\gamma - 1\\right) \\left(- K \\gamma + K + 2 \\alpha^{2} \\gamma + 2 \\alpha^{2}\\right)}}{K \\gamma^{2} - 2 K \\gamma + K - 2 \\alpha^{2} \\gamma^{2}}$"
      ],
      "text/plain": [
       "(-K*gamma + K + 2*alpha**2*gamma + sqrt(-K*(gamma - 1)*(-K*gamma + K + 2*alpha**2*gamma + 2*alpha**2)))/(K*gamma**2 - 2*K*gamma + K - 2*alpha**2*gamma**2)"
      ]
     },
     "execution_count": 12,
     "metadata": {},
     "output_type": "execute_result"
    }
   ],
   "source": [
    "res = solve([eq13], [MX2])\n",
    "res[0][0].simplify()"
   ]
  },
  {
   "cell_type": "code",
   "execution_count": null,
   "id": "a608a32c",
   "metadata": {},
   "outputs": [],
   "source": []
  }
 ],
 "metadata": {
  "kernelspec": {
   "display_name": "Python 3 (ipykernel)",
   "language": "python",
   "name": "python3"
  },
  "language_info": {
   "codemirror_mode": {
    "name": "ipython",
    "version": 3
   },
   "file_extension": ".py",
   "mimetype": "text/x-python",
   "name": "python",
   "nbconvert_exporter": "python",
   "pygments_lexer": "ipython3",
   "version": "3.10.8"
  },
  "toc": {
   "base_numbering": 1,
   "nav_menu": {},
   "number_sections": true,
   "sideBar": true,
   "skip_h1_title": false,
   "title_cell": "Table of Contents",
   "title_sidebar": "Contents",
   "toc_cell": false,
   "toc_position": {},
   "toc_section_display": true,
   "toc_window_display": false
  },
  "varInspector": {
   "cols": {
    "lenName": 16,
    "lenType": 16,
    "lenVar": 40
   },
   "kernels_config": {
    "python": {
     "delete_cmd_postfix": "",
     "delete_cmd_prefix": "del ",
     "library": "var_list.py",
     "varRefreshCmd": "print(var_dic_list())"
    },
    "r": {
     "delete_cmd_postfix": ") ",
     "delete_cmd_prefix": "rm(",
     "library": "var_list.r",
     "varRefreshCmd": "cat(var_dic_list()) "
    }
   },
   "types_to_exclude": [
    "module",
    "function",
    "builtin_function_or_method",
    "instance",
    "_Feature"
   ],
   "window_display": false
  }
 },
 "nbformat": 4,
 "nbformat_minor": 5
}