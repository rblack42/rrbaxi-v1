{
 "cells": [
  {
   "cell_type": "markdown",
   "id": "7cfa4665",
   "metadata": {},
   "source": [
    "# Basic Concepts"
   ]
  },
  {
   "cell_type": "markdown",
   "id": "0eb86283",
   "metadata": {},
   "source": [
    "This study will involve analyzing the flow of air over a simple body of revolution. We will be describing that air by specifying some basic properties that we can measure. For this reason, it makes sense t start our study by looking at the*units of measure* we will be using."
   ]
  },
  {
   "cell_type": "markdown",
   "id": "c3fdacbc",
   "metadata": {},
   "source": [
    "## Units of Measure"
   ]
  },
  {
   "cell_type": "markdown",
   "id": "7bba2f59",
   "metadata": {},
   "source": [
    "There are two measurement systems in common use today: the *English System* and the *Metric System*. (Also called the *British System* and the *Standard International System*.) The *units of measure* used in these two systems are shown below:\n",
    "\n",
    "| Unit |English | Metric |\n",
    "|:----:|:------:|:------:|\n",
    "| Mass | slug | kg|\n",
    "| Length | ft | meter |\n",
    "| Time | second | second|\n",
    "| Force | lbf | Newton |\n",
    "\n",
    "Force and mass are related by Newton's Second Law:\n",
    "\n",
    "\\begin{equation}\n",
    "force = mass * acceleration\\ (f=ma)\n",
    "\\end{equation}"
   ]
  },
  {
   "cell_type": "markdown",
   "id": "13590ec7",
   "metadata": {},
   "source": [
    "So, what is a \"slug\", and what is a \"Newton\"? Neither term is in common use, except by engineers and scientists. Let's consider how we measure the *weight* of an object.\n",
    "\n",
    "According to Newton's Law, the *weight* of n object is a measure of the force that object exerts on a scale of some ind. The force is the result of the pull of gravity on all objects near the Earth. \n",
    "\n",
    "The acceleration due to gravity varies with the distance from the center of the Earth. For research purposes we use a [Standard Gravity](https://en.wikipedia.org/wiki/Standard_gravity):\n",
    "\n",
    "| Unit | English | Metric |\n",
    ":-----:|:-------:|:------:|\n",
    "| acceleration of gravity | 32.17405 $\\frac{ft}{sec^2}$ | 9.80665 $\\frac{m}{sec^2}$ |"
   ]
  },
  {
   "cell_type": "markdown",
   "id": "4764a3a7",
   "metadata": {},
   "source": [
    "Using Newton's Second Law and these values, we can figure out what a *slug* and a *Newton* are.\n",
    "\n",
    "Suppose we have an object that weight 100 lbf in the English system. That gives us a mass of:\n",
    "\n",
    "\\begin{equation}\n",
    "mass = 100 \\frac{100}{32.17405}\\frac{lbf\\ sec^2}{ft}\n",
    "\\end{equation}"
   ]
  },
  {
   "cell_type": "markdown",
   "id": "839229ca",
   "metadata": {},
   "source": [
    "A mass of one $\\frac{lbf\\ sec^2}{ft}$ is called a $slug$:"
   ]
  },
  {
   "cell_type": "code",
   "execution_count": 1,
   "id": "9ec5f353",
   "metadata": {},
   "outputs": [
    {
     "data": {
      "text/plain": [
       "3.1080948777042368"
      ]
     },
     "execution_count": 1,
     "metadata": {},
     "output_type": "execute_result"
    }
   ],
   "source": [
    "english_mass = 100/32.17405\n",
    "english_mass"
   ]
  },
  {
   "cell_type": "markdown",
   "id": "113b8630",
   "metadata": {},
   "source": [
    "The mass is 3.11028 $\\frac{lbf\\ sec^2}{ft}$ or 3.11028 $slug$"
   ]
  },
  {
   "cell_type": "markdown",
   "id": "32bb15b2",
   "metadata": {},
   "source": [
    "The conversion factor from $lbf$ to $Newton$ is 4.44822. Therefore, that same mass in the metric system is:"
   ]
  },
  {
   "cell_type": "code",
   "execution_count": 2,
   "id": "12996f14",
   "metadata": {},
   "outputs": [
    {
     "ename": "NameError",
     "evalue": "name 'mass' is not defined",
     "output_type": "error",
     "traceback": [
      "\u001b[0;31m---------------------------------------------------------------------------\u001b[0m",
      "\u001b[0;31mNameError\u001b[0m                                 Traceback (most recent call last)",
      "Cell \u001b[0;32mIn [2], line 1\u001b[0m\n\u001b[0;32m----> 1\u001b[0m metric_mass \u001b[38;5;241m=\u001b[39m \u001b[43mmass\u001b[49m \u001b[38;5;241m*\u001b[39m \u001b[38;5;241m4.44822\u001b[39m\n\u001b[1;32m      2\u001b[0m metric_mass\n",
      "\u001b[0;31mNameError\u001b[0m: name 'mass' is not defined"
     ]
    }
   ],
   "source": [
    "metric_mass = mass * 4.44822\n",
    "metric_mass"
   ]
  },
  {
   "cell_type": "markdown",
   "id": "2c21321a",
   "metadata": {},
   "source": [
    "So the mass of 3.11028 $slug$ is identical to a mass of 13.82549 $Newtons$.\n",
    "\n",
    "All of these basic measures are standardized by an internation body of scientists. "
   ]
  },
  {
   "cell_type": "markdown",
   "id": "6ab4532a",
   "metadata": {},
   "source": [
    "## Dimensional Analysis"
   ]
  },
  {
   "cell_type": "markdown",
   "id": "981e4c40",
   "metadata": {},
   "source": [
    "When performing engineering calculations, it is critically important that the equations used be consistent in the units of measure they use. Part of making sure things work correctly involves someting called *dimensional analysis*. This is a simple process where we tract the basic units attached to every property we involve in a calculation to make sure we are not doing math on inconsistent values. \n",
    "\n",
    "In this analysis we use simple symbols to represent the units involved: $MLT\\Theta$. These represent:\n",
    "\n",
    "- M - Mass\n",
    "- L - Length\n",
    "- T - Time\n",
    "- $\\Theta$ - Temperature\n",
    "\n",
    "Let's look at how these symbols can be used."
   ]
  },
  {
   "cell_type": "markdown",
   "id": "fc66a9f9",
   "metadata": {},
   "source": [
    "### Weight"
   ]
  },
  {
   "cell_type": "markdown",
   "id": "61562155",
   "metadata": {},
   "source": [
    "Acceleration is measured in distance per second squared: $\\frac{L}{T^2}$. Using *Newton's Second Law* we know that a force is the product of mass times the acceleration due to gravity. Therefore, the weight of an object will have units of $\\frac{ML}{T^2}$."
   ]
  },
  {
   "cell_type": "markdown",
   "id": "6003d3a2",
   "metadata": {},
   "source": [
    "### Density"
   ]
  },
  {
   "cell_type": "markdown",
   "id": "fe499630",
   "metadata": {},
   "source": [
    "The *density* of something is the amount of that substance per unit of volume. Thus, the units of *density* are $\\frac{M}{L^3}$"
   ]
  },
  {
   "cell_type": "markdown",
   "id": "6e3a0165",
   "metadata": {},
   "source": [
    "### Energy"
   ]
  },
  {
   "cell_type": "markdown",
   "id": "48c3e97f",
   "metadata": {},
   "source": [
    "Another important property we study is *energy*. There are several different forms of *energy*: \n",
    "\n",
    "- Potential Energy - the \"potential\" for an object to have motion, such as lifting a weight.\n",
    "- Kinetic Energy - the energy derived from an object in motion. The basic units of *energy* are weight times length: $\\frac{ML^2}{T^2}$"
   ]
  },
  {
   "cell_type": "markdown",
   "id": "3d9e4645",
   "metadata": {},
   "source": [
    "### Temperature"
   ]
  },
  {
   "cell_type": "markdown",
   "id": "2dfd85ad",
   "metadata": {},
   "source": [
    "Another common property is the *temperature* of an object. At the atomic level, *temperature* is a measure of the *kinetic energy* of the molecules of the object. The higher the *temperature* the faster the molecules move around. "
   ]
  }
 ],
 "metadata": {
  "kernelspec": {
   "display_name": "Python 3 (ipykernel)",
   "language": "python",
   "name": "python3"
  },
  "language_info": {
   "codemirror_mode": {
    "name": "ipython",
    "version": 3
   },
   "file_extension": ".py",
   "mimetype": "text/x-python",
   "name": "python",
   "nbconvert_exporter": "python",
   "pygments_lexer": "ipython3",
   "version": "3.10.8"
  },
  "toc": {
   "base_numbering": 1,
   "nav_menu": {},
   "number_sections": true,
   "sideBar": true,
   "skip_h1_title": false,
   "title_cell": "Table of Contents",
   "title_sidebar": "Contents",
   "toc_cell": false,
   "toc_position": {},
   "toc_section_display": true,
   "toc_window_display": false
  },
  "varInspector": {
   "cols": {
    "lenName": 16,
    "lenType": 16,
    "lenVar": 40
   },
   "kernels_config": {
    "python": {
     "delete_cmd_postfix": "",
     "delete_cmd_prefix": "del ",
     "library": "var_list.py",
     "varRefreshCmd": "print(var_dic_list())"
    },
    "r": {
     "delete_cmd_postfix": ") ",
     "delete_cmd_prefix": "rm(",
     "library": "var_list.r",
     "varRefreshCmd": "cat(var_dic_list()) "
    }
   },
   "types_to_exclude": [
    "module",
    "function",
    "builtin_function_or_method",
    "instance",
    "_Feature"
   ],
   "window_display": false
  }
 },
 "nbformat": 4,
 "nbformat_minor": 5
}