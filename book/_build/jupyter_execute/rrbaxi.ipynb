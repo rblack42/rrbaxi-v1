{
 "cells": [
  {
   "cell_type": "markdown",
   "id": "8aab1c2c",
   "metadata": {},
   "source": [
    "# RRBAXI Decoded"
   ]
  },
  {
   "cell_type": "markdown",
   "id": "1c198d79",
   "metadata": {},
   "source": [
    "## Coordinate Transformation"
   ]
  },
  {
   "cell_type": "markdown",
   "id": "3d6163e3",
   "metadata": {},
   "source": [
    "\\begin{align}\n",
    "(x,r,\\theta) &= (\\xi, \\eta, \\phi) \\\\\n",
    "\\xi &= x \\\\\n",
    "\\eta &= \\frac{r(x) - r_b(x)}{r_s(x) - r_b(x)} \\\\\n",
    "\\phi &= \\theta\n",
    "\\end{align}"
   ]
  },
  {
   "cell_type": "markdown",
   "id": "0ee41549",
   "metadata": {},
   "source": [
    "## Partial Derivatives\n",
    "\n",
    "The partial derivatives of the coordinate transformations are shown next:\n",
    "\n",
    "\\begin{equation}\n",
    "\\xi_x = 1 \\\\\n",
    "\\phi_\\theta = 1\n",
    "\\end{equation}\n",
    "\n",
    "The equations for $\\eta$ are a bit more complicated:"
   ]
  },
  {
   "cell_type": "markdown",
   "id": "3486964c",
   "metadata": {},
   "source": [
    "\\begin{equation}\n",
    "\\eta = \\frac{f(x)}{g(x)}\n",
    "\\end{equation}\n",
    "\n",
    "\\begin{equation}\n",
    "\\eta_x = \\frac{g f_x - f g_x}{g^2}\n",
    "\\end{equation}\n",
    "\n",
    "\\begin{equation}\n",
    "\\eta_x = \\frac{1}{g}(f_x - \\eta g_x)\n",
    "\\end{equation}\n",
    "\n",
    "\\begin{align}\n",
    "f &= r(x) - r_b(x) \\\\\n",
    "f_x &= -\\frac{\\partial r_b}{\\partial x} \\\\\n",
    "g &= r_s - r_b \\\\\n",
    "g_x &= \\frac{\\partial r_s}{\\partial x} - \\frac{\\partial r_b}{\\partial x}\n",
    "\\end{align}\n",
    "\n",
    "therefore"
   ]
  },
  {
   "cell_type": "markdown",
   "id": "37725c26",
   "metadata": {},
   "source": [
    "\\begin{equation}\n",
    "\\eta_x = \\frac{1}{g}\\biggl\\{\n",
    "-\\frac{\\partial r_b}{\\partial x} - \n",
    "\\eta \\left(\\frac{\\partial r_s}{\\partial x} - \\frac{\\partial r_b}{\\partial x}\\biggr\\}\n",
    "\\right)\n",
    "\\end{equation}\n",
    "\n",
    "\\begin{equation}\n",
    "\\eta_x = \\frac{1}{g}\\biggl\\{\n",
    "(\\eta - 1)\\frac{\\partial r_b}{\\partial x} - \n",
    "\\eta \\left(\\frac{\\partial r_s}{\\partial x}\\biggr\\}\n",
    "\\right)\n",
    "\\end{equation}"
   ]
  },
  {
   "cell_type": "markdown",
   "id": "1c4407b4",
   "metadata": {},
   "source": [
    "Let's try this with **sympy**:"
   ]
  },
  {
   "cell_type": "code",
   "execution_count": 1,
   "id": "c032d2d3",
   "metadata": {},
   "outputs": [],
   "source": [
    "import sympy\n",
    "x = sympy.symbols('x')\n",
    "r = sympy.Function('r')(x)\n",
    "r_s = sympy.Function('r_s')(x)\n",
    "r_b = sympy.Function('r_b')(x)"
   ]
  },
  {
   "cell_type": "code",
   "execution_count": 2,
   "id": "6735ff8c",
   "metadata": {},
   "outputs": [
    {
     "data": {
      "text/latex": [
       "$\\displaystyle \\frac{\\left(r{\\left(x \\right)} - r_{b}{\\left(x \\right)}\\right) \\left(\\frac{d}{d x} r_{b}{\\left(x \\right)} - \\frac{d}{d x} r_{s}{\\left(x \\right)}\\right) + \\left(r_{b}{\\left(x \\right)} - r_{s}{\\left(x \\right)}\\right) \\left(- \\frac{d}{d x} r{\\left(x \\right)} + \\frac{d}{d x} r_{b}{\\left(x \\right)}\\right)}{\\left(r_{b}{\\left(x \\right)} - r_{s}{\\left(x \\right)}\\right)^{2}}$"
      ],
      "text/plain": [
       "((r(x) - r_b(x))*(Derivative(r_b(x), x) - Derivative(r_s(x), x)) + (r_b(x) - r_s(x))*(-Derivative(r(x), x) + Derivative(r_b(x), x)))/(r_b(x) - r_s(x))**2"
      ]
     },
     "execution_count": 2,
     "metadata": {},
     "output_type": "execute_result"
    }
   ],
   "source": [
    "eta = (r - r_b)/(r_s - r_b)\n",
    "eq2 = sympy.diff(eta,x)\n",
    "eq2.simplify()"
   ]
  },
  {
   "cell_type": "markdown",
   "id": "fc9dd0ae",
   "metadata": {},
   "source": [
    "\\begin{equation}\n",
    "\\eta_x = \n",
    "\\frac{\\eta}{r_s - r_b}\n",
    "\\left(\\frac{\\partial r_b}{\\partial x} - \\frac{\\partial r_s}{\\partial x}\\right) -\n",
    "\\frac{\\frac{\\partial r_b}{\\partial x}}{r_s - r_b}\n",
    "\\end{equation}"
   ]
  },
  {
   "cell_type": "markdown",
   "id": "12d28b08",
   "metadata": {},
   "source": [
    "\\begin{equation}\n",
    "\\eta_x = \n",
    "\\frac{1}{r_s - r_b}\n",
    "\\left((\\eta - 1)\\frac{\\partial r_b}{\\partial x} - \\eta\\frac{\\partial r_s}{\\partial x}\n",
    "\\right)\n",
    "\\end{equation}\n",
    "\n",
    "\\begin{equation}\n",
    "\\eta_r = \\frac{1}{r_s - r_b}\n",
    "\\end{equation}"
   ]
  },
  {
   "cell_type": "markdown",
   "id": "ca9c770f",
   "metadata": {},
   "source": [
    "## Governing Equation"
   ]
  },
  {
   "cell_type": "markdown",
   "id": "8b423909",
   "metadata": {},
   "source": [
    "The governing equations can be written in conservative form:\n",
    "\n",
    "\\begin{equation}\n",
    "\\frac{\\partial U}{\\partial t} +\n",
    "\\frac{\\partial E}{\\partial x} + \n",
    "\\frac{\\partial F}{\\partial r} +\n",
    "\\frac{1}{r}R = 0\n",
    "\\end{equation}"
   ]
  },
  {
   "cell_type": "markdown",
   "id": "492dda8f",
   "metadata": {},
   "source": [
    "\\begin{equation}\n",
    "\\frac{\\partial U}{\\partial t} +\n",
    "\\frac{\\partial E}{\\partial \\xi} + \\eta_x\\frac{\\partial E}{\\partial\\eta} +\n",
    "\\eta_r \\frac{\\partial F}{\\partial \\eta} + \\frac{R}{r} = 0\n",
    "\\end{equation}"
   ]
  },
  {
   "cell_type": "markdown",
   "id": "16ca5c89",
   "metadata": {},
   "source": [
    "\\begin{equation} \n",
    "U = \\begin{bmatrix}\n",
    "\\rho \\\\\n",
    "\\rho u \\\\\n",
    "\\rho v\n",
    "\\end{bmatrix}\n",
    "\\end{equation}"
   ]
  },
  {
   "cell_type": "markdown",
   "id": "eaf8f8bb",
   "metadata": {},
   "source": [
    "\\begin{equation}\n",
    "\\nabla\\cdot V = \\eta_x u_\\eta +\\eta_r v_\\eta + \\frac{v}{r}\n",
    "\\end{equation}"
   ]
  },
  {
   "cell_type": "markdown",
   "id": "cd1c09c6",
   "metadata": {},
   "source": [
    "\\begin{equation}\n",
    "\\sigma_{xx} = \\frac{2\\mu}{Re}\\eta_x u_\\eta -\\frac{2\\mu}{3 Re}\\nabla\\cdot V\n",
    "\\end{equation}\n",
    "\n",
    "\\begin{equation}\n",
    "\\tau_{xr} = \\frac{\\mu}{Re}\\eta_x u_\\eta -\\frac{2\\mu}{3 Re}\\nabla\\cdot V\n",
    "\\end{equation} \n",
    "\n",
    "\\begin{equation}\n",
    "\\sigma_{rr} = \\frac{2\\mu}{Re}\\eta_x v_\\eta -\\frac{2\\mu}{3Re}\\nabla\\cdot V\n",
    "\\end{equation}\n",
    "\n",
    "\\begin{equation}\n",
    "\\sigma_{\\phi\\phi} = -p +\\frac{2\\mu}{Re}\\frac{v}{r} -\\frac{2\\mu}{3Re}\\nabla\\cdot V\n",
    "\\end{equation}"
   ]
  },
  {
   "cell_type": "markdown",
   "id": "61c6537e",
   "metadata": {},
   "source": [
    "\\begin{equation}\n",
    "E = \\begin{bmatrix}\n",
    "\\rho u \\\\\n",
    "\\rho u^2 + p - \\sigma_{xx} \\\\\n",
    "\\rho u v - \\tau_{xr}\n",
    "\\end{bmatrix}\n",
    "\\end{equation}\n",
    "\n",
    "\\begin{equation}\n",
    "F = \\begin{bmatrix}\n",
    "\\rho v \\\\\n",
    "\\rho u v - \\tau_{xr} \\\\\n",
    "\\rho v^2 + p -\\sigma_{rr}\n",
    "\\end{bmatrix}\n",
    "\\end{equation}\n",
    "\n",
    "\\begin{equation}\n",
    "R = \\begin{bmatrix}\n",
    "\\rho v \\\\\n",
    "\\rho u v - \\tau_{xr} \\\\\n",
    "\\rho vv - \\sigma_{rr} - \\sigma_{\\phi\\phi}\n",
    "\\end{bmatrix}\n",
    "\\end{equation}"
   ]
  },
  {
   "cell_type": "markdown",
   "id": "016af921",
   "metadata": {},
   "source": [
    "## Parabolized Navier-Stokes"
   ]
  },
  {
   "cell_type": "markdown",
   "id": "734e5dbc",
   "metadata": {},
   "source": [
    "For the parabolized Navier-Stokes equations, we will drop the time-dependent term, and set up a marching solution in the $\\xi$ direction. We will drop the shear stress terms from the $E_\\xi$ term."
   ]
  },
  {
   "cell_type": "markdown",
   "id": "5d23e47f",
   "metadata": {},
   "source": [
    "\\begin{equation}\n",
    "E^* = \\begin{bmatrix}\n",
    "\\rho u \\\\\n",
    "\\rho u^2 + p \\\\\n",
    "\\rho u v\n",
    "\\end{bmatrix}\n",
    "\\end{equation}"
   ]
  },
  {
   "cell_type": "markdown",
   "id": "db28524e",
   "metadata": {},
   "source": [
    "### Solving $E^*$ for primative variables\n",
    "\n",
    "In the PNS test code, we assume constant total enthalpy. \n",
    "\n",
    "\\begin{equation}\n",
    "p = \\rho R^* T\n",
    "\\end{equation}\n",
    "\n",
    "\\begin{equation}\n",
    "c_p = \\frac{\\gamma}{\\gamma - 1}R^*\n",
    "\\end{equation}\n",
    "\n",
    "\\begin{equation}\n",
    "h = c_p T\n",
    "\\end{equation}\n",
    "\n",
    "Therefore:\n",
    "\n",
    "\\begin{equation}\n",
    "p = \\frac{\\gamma - 1}{\\gamma} \\rho h\n",
    "\\end{equation}\n",
    "\n",
    "\\begin{equation}\n",
    "H^* = h + \\frac{u^2+ v^2}{2}\n",
    "\\end{equation}\n",
    "\n",
    "\\begin{equation}\n",
    "c = \\sqrt{(\\gamma - 1)h}\n",
    "\\end{equation}"
   ]
  },
  {
   "cell_type": "code",
   "execution_count": 3,
   "id": "469eecf3",
   "metadata": {},
   "outputs": [
    {
     "ename": "SyntaxError",
     "evalue": "invalid syntax (3251070195.py, line 1)",
     "output_type": "error",
     "traceback": [
      "\u001b[0;36m  Cell \u001b[0;32mIn [3], line 1\u001b[0;36m\u001b[0m\n\u001b[0;31m    At this point, we have eight equations in eight unknowns.\u001b[0m\n\u001b[0m       ^\u001b[0m\n\u001b[0;31mSyntaxError\u001b[0m\u001b[0;31m:\u001b[0m invalid syntax\n"
     ]
    }
   ],
   "source": [
    "At this point, we have eight equations in eight unknowns. "
   ]
  },
  {
   "cell_type": "markdown",
   "id": "251df139",
   "metadata": {},
   "source": [
    "\\begin{equation}\n",
    "H = \\frac{1}{2} + \\frac{1}{(\\gamma - 1)M^2}\n",
    "\\end{equation}\n",
    "\n",
    "\\begin{equation}\n",
    "p = \\frac{1}{\\gamma M^2}\n",
    "\\end{equation}"
   ]
  },
  {
   "cell_type": "markdown",
   "id": "9953430a",
   "metadata": {},
   "source": [
    "Let:\n",
    "\n",
    "\\begin{equation}\n",
    "a = \\rho u \\\\\n",
    "b = \\rho u^2 + p \\\\\n",
    "c = \\rho u v\n",
    "\\end{equation}"
   ]
  },
  {
   "cell_type": "markdown",
   "id": "93753f9e",
   "metadata": {},
   "source": [
    "Let's let **sympy** solve this:"
   ]
  },
  {
   "cell_type": "code",
   "execution_count": 11,
   "id": "dce09589",
   "metadata": {},
   "outputs": [],
   "source": [
    "c_p,R,gamma = sympy.symbols('c_p R gamma')"
   ]
  },
  {
   "cell_type": "code",
   "execution_count": 13,
   "id": "0a8492e6",
   "metadata": {},
   "outputs": [
    {
     "data": {
      "text/latex": [
       "$\\displaystyle c_{p} = \\frac{R \\gamma}{\\gamma - 1}$"
      ],
      "text/plain": [
       "Eq(c_p, R*gamma/(gamma - 1))"
      ]
     },
     "execution_count": 13,
     "metadata": {},
     "output_type": "execute_result"
    }
   ],
   "source": [
    "eq1 = sympy.Eq(c_p,gamma/(gamma-1)*R)\n",
    "eq1"
   ]
  },
  {
   "cell_type": "code",
   "execution_count": 17,
   "id": "b8fb2b76",
   "metadata": {},
   "outputs": [],
   "source": [
    "a, M_x, u, v, p, rho, T, H, h = \\\n",
    "    sympy.symbols('a M_x u v p rho T H h')"
   ]
  },
  {
   "cell_type": "code",
   "execution_count": 20,
   "id": "4efb2ddf",
   "metadata": {},
   "outputs": [
    {
     "data": {
      "text/latex": [
       "$\\displaystyle h + 0.5 u^{2} + 0.5 v^{2} = H$"
      ],
      "text/plain": [
       "Eq(h + 0.5*u**2 + 0.5*v**2, H)"
      ]
     },
     "execution_count": 20,
     "metadata": {},
     "output_type": "execute_result"
    }
   ],
   "source": [
    "eq2 = sympy.Eq(h + 0.5*(u**2 + v**2),H)\n",
    "eq2"
   ]
  },
  {
   "cell_type": "code",
   "execution_count": 23,
   "id": "9fd42d70",
   "metadata": {},
   "outputs": [
    {
     "data": {
      "text/latex": [
       "$\\displaystyle \\sqrt{R T \\gamma} = a$"
      ],
      "text/plain": [
       "Eq(sqrt(R*T*gamma), a)"
      ]
     },
     "execution_count": 23,
     "metadata": {},
     "output_type": "execute_result"
    }
   ],
   "source": [
    "eq3 = sympy.Eq(sympy.sqrt(gamma*R*T),a)\n",
    "eq3"
   ]
  },
  {
   "cell_type": "code",
   "execution_count": 25,
   "id": "41a3ecdc",
   "metadata": {},
   "outputs": [
    {
     "data": {
      "text/latex": [
       "$\\displaystyle u = M_{x} a$"
      ],
      "text/plain": [
       "Eq(u, M_x*a)"
      ]
     },
     "execution_count": 25,
     "metadata": {},
     "output_type": "execute_result"
    }
   ],
   "source": [
    "eq4 = sympy.Eq(u,a * M_x)\n",
    "eq4"
   ]
  },
  {
   "cell_type": "code",
   "execution_count": 26,
   "id": "013e0eb3",
   "metadata": {},
   "outputs": [
    {
     "data": {
      "text/latex": [
       "$\\displaystyle u^{2}$"
      ],
      "text/plain": [
       "u**2"
      ]
     },
     "execution_count": 26,
     "metadata": {},
     "output_type": "execute_result"
    }
   ],
   "source": [
    "u.subs "
   ]
  },
  {
   "cell_type": "code",
   "execution_count": null,
   "id": "3214da41",
   "metadata": {},
   "outputs": [],
   "source": []
  }
 ],
 "metadata": {
  "kernelspec": {
   "display_name": "Python 3 (ipykernel)",
   "language": "python",
   "name": "python3"
  },
  "language_info": {
   "codemirror_mode": {
    "name": "ipython",
    "version": 3
   },
   "file_extension": ".py",
   "mimetype": "text/x-python",
   "name": "python",
   "nbconvert_exporter": "python",
   "pygments_lexer": "ipython3",
   "version": "3.10.8"
  },
  "toc": {
   "base_numbering": 1,
   "nav_menu": {},
   "number_sections": true,
   "sideBar": true,
   "skip_h1_title": false,
   "title_cell": "Table of Contents",
   "title_sidebar": "Contents",
   "toc_cell": false,
   "toc_position": {},
   "toc_section_display": true,
   "toc_window_display": false
  },
  "varInspector": {
   "cols": {
    "lenName": 16,
    "lenType": 16,
    "lenVar": 40
   },
   "kernels_config": {
    "python": {
     "delete_cmd_postfix": "",
     "delete_cmd_prefix": "del ",
     "library": "var_list.py",
     "varRefreshCmd": "print(var_dic_list())"
    },
    "r": {
     "delete_cmd_postfix": ") ",
     "delete_cmd_prefix": "rm(",
     "library": "var_list.r",
     "varRefreshCmd": "cat(var_dic_list()) "
    }
   },
   "types_to_exclude": [
    "module",
    "function",
    "builtin_function_or_method",
    "instance",
    "_Feature"
   ],
   "window_display": false
  }
 },
 "nbformat": 4,
 "nbformat_minor": 5
}