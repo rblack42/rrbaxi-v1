{
 "cells": [
  {
   "cell_type": "markdown",
   "id": "522a5f43",
   "metadata": {},
   "source": [
    "# The Navier-Stokes Equations in Cylinderical Coordinates"
   ]
  },
  {
   "cell_type": "markdown",
   "id": "1aaac7cf",
   "metadata": {},
   "source": [
    "Define a cylindrical coordinate system $(x,r,\\phi)$. In this system, a velocity vector is defined as:\n",
    "   \n",
    "\\begin{equation}\n",
    "\\overrightarrow{V} = \n",
    "u\\hat{e}_x + v\\hat{e}_r + w\\hat{e}_\\phi\n",
    "\\end{equation}\n",
    "\n",
    "where $\\hat{e}_x$, $\\hat{e}_r$, and $\\hat{e}_\\phi$ are unit vectors.\n",
    "\n",
    "The *del* operator $\\overrightarrow{\\nabla}$ is given by:\n",
    "\n",
    "\\begin{equation}\n",
    "\\overrightarrow{\\nabla} = \n",
    "\\hat{e}_x\\frac{\\partial}{\\partial x} +\n",
    "\\hat{e}_r\\frac{\\partial}{\\partial r} +\n",
    "\\frac{\\hat{e}_\\phi}{r}\\frac{\\partial}{\\partial \\phi}\n",
    "\\end{equation}"
   ]
  },
  {
   "cell_type": "markdown",
   "id": "9ecd3cc1",
   "metadata": {},
   "source": [
    "## Derivation of Unit Vector Derivatives\n",
    "\n",
    "A position vector $\\overrightarrow{r}$ in cartesian coordinates is given by\n",
    "\n",
    "\\begin{equation}\n",
    "\\overrightarrow{r} = x\\hat{i} + y\\hat{j} + z\\hat{k}\n",
    "\\end{equation}\n",
    "\n",
    "The transformation from cartesian to cylindrical coordinates is given by:\n",
    "\n",
    "\\begin{align}\n",
    "x &= x \\\\\n",
    "y &= r\\cos\\phi \\\\\n",
    "z &= r\\sin\\phi\n",
    "\\end{align}\n",
    "\n",
    "Which gives this:\n",
    "\n",
    "\\begin{equation}\n",
    "\\overrightarrow{r} = x\\hat{i} + r\\cos\\phi\\hat{j} + r\\sin\\phi\\hat{k}\n",
    "\\end{equation}\n",
    "\n",
    "We can now form the derivatives, noting that $r$ is not dependent on either $x$ or $\\phi$:"
   ]
  },
  {
   "cell_type": "markdown",
   "id": "916f2dfc",
   "metadata": {},
   "source": [
    "\\begin{equation}\n",
    "\\hat{e}_x = \\frac{\\partial \\overrightarrow{r}}{\\partial x} = \\hat{i}\n",
    "\\end{equation}"
   ]
  },
  {
   "cell_type": "markdown",
   "id": "9a06ebd2",
   "metadata": {},
   "source": [
    "\\begin{equation}\n",
    "\\hat{e}_r = \\frac{\\partial \\overrightarrow{r}}{\\partial r} =\n",
    "\\cos\\phi\\hat{j} + \\sin\\phi\\hat{k}\n",
    "\\end{equation}"
   ]
  },
  {
   "cell_type": "markdown",
   "id": "236c99d1",
   "metadata": {},
   "source": [
    "\\begin{equation}\n",
    "\\hat{e}_\\phi = \\frac{\\partial \\overrightarrow{r}}{\\partial \\phi} =\n",
    "-\\sin\\phi\\hat{j} + \\cos\\phi\\hat{k}\n",
    "\\end{equation}"
   ]
  },
  {
   "cell_type": "markdown",
   "id": "ae53ae4a",
   "metadata": {},
   "source": [
    "From these equations, the derivatives of the unit vectors become:\n",
    "\n",
    "\\begin{equation}\n",
    "\\frac{\\partial\\hat{e}_x}{\\partial x} = \\frac{\\partial\\hat{e}_x}{\\partial r} = \\frac{\\partial\\hat{e}_x}{\\partial\\phi} = 0\n",
    "\\end{equation}"
   ]
  },
  {
   "cell_type": "markdown",
   "id": "8ae0b63c",
   "metadata": {},
   "source": [
    "\\begin{equation}\n",
    "\\frac{\\partial\\hat{e}_r}{\\partial x} = 0\n",
    "\\end{equation}"
   ]
  },
  {
   "cell_type": "markdown",
   "id": "3e941e3a",
   "metadata": {},
   "source": [
    "\\begin{equation}\n",
    "\\frac{\\partial\\hat{e}_r}{\\partial \\phi} = - \\sin\\phi\\hat{j} + \\cos\\phi\\hat{k} = \\hat{e}_\\phi\n",
    "\\end{equation}"
   ]
  },
  {
   "cell_type": "markdown",
   "id": "8fdc5a31",
   "metadata": {},
   "source": [
    "\\begin{equation}\n",
    "\\frac{\\partial \\hat{e}_\\phi}{\\partial x} = \n",
    "\\frac{\\partial \\hat{e}_\\phi}{\\partial r} = 0\n",
    "\\end{equation}"
   ]
  },
  {
   "cell_type": "markdown",
   "id": "1d561f5c",
   "metadata": {},
   "source": [
    "\\begin{equation}\n",
    "\\frac{\\partial\\hat{e}_\\phi}{\\partial\\phi} =\n",
    "-\\cos\\phi\\hat{j} - sin\\phi\\hat{k} = -\\hat{e}_r\n",
    "\\end{equation}"
   ]
  },
  {
   "cell_type": "markdown",
   "id": "418478df",
   "metadata": {},
   "source": [
    "We can ow write the derivatives of a general vector function $\\overrightarrow{F}$ as follows:\n",
    "\n",
    "\\begin{equation}\n",
    "\\overrightarrow{F} = F_1\\hat{e}_x + F_2\\hat{e}_r + F_3\\hat{e}_\\phi\n",
    "\\end{equation}\n",
    "\n",
    "\\begin{equation}\n",
    "\\frac{\\partial\\overrightarrow F}{\\partial x} =\n",
    "\\frac{\\partial F_1}{\\partial x}\\hat{e}_x +\n",
    "\\frac{\\partial F_2}{\\partial x}\\hat{e}_r +\n",
    "\\frac{\\partial F_3}{\\partial x}\\hat{e}_\\phi\n",
    "\\end{equation}\n",
    "\n",
    "\\begin{equation}\n",
    "\\frac{\\partial\\overrightarrow F}{\\partial r} =\n",
    "\\frac{\\partial F_1}{\\partial r}\\hat{e}_x +\n",
    "\\frac{\\partial F_2}{\\partial r}\\hat{e}_r +\n",
    "\\frac{\\partial F_3}{\\partial r}\\hat{e}_\\phi\n",
    "\\end{equation}\n",
    "\n",
    "\\begin{equation}\n",
    "\\frac{\\partial\\overrightarrow F}{\\partial \\phi} =\n",
    "\\frac{\\partial F_1}{\\partial \\phi}\\hat{e}_x +\n",
    "\\left(\\frac{\\partial F_2}{\\partial \\phi} - F_3\\right)\\hat{e}_r +\n",
    "\\left(\\frac{\\partial F_3}{\\partial \\phi} - F_2\\right)\\hat{e}_\\phi\n",
    "\\end{equation}"
   ]
  },
  {
   "cell_type": "markdown",
   "id": "432fa603",
   "metadata": {},
   "source": [
    "Using these equations we can come up with our governing equations:"
   ]
  },
  {
   "cell_type": "markdown",
   "id": "82005ab2",
   "metadata": {},
   "source": [
    "## Continuity Equation\n",
    "\n",
    "\\begin{equation}\n",
    "\\frac{\\partial\\rho}{\\partial t} +\n",
    "\\frac{\\partial\\rho u}{\\partial x} +\n",
    "\\frac{1}{r}\\frac{\\partial \\rho v r}{\\partial r} +\n",
    "\\frac{1}{r}\\frac{\\partial\\rho w}{\\partial\\phi} = 0\n",
    "\\end{equation}\n",
    "\n",
    "In writing the rest of the equations, we use the continuity equation to create the *conservative* form of the final equations."
   ]
  },
  {
   "cell_type": "markdown",
   "id": "38c34acc",
   "metadata": {},
   "source": [
    "## X Momentum Equation\n",
    "\n",
    "\\begin{equation}\n",
    "\\frac{\\partial \\rho u}{\\partial t} +\n",
    "\\frac{\\partial \\rho u^2}{\\partial x} +\n",
    "\\frac{\\partial \\rho uv}{\\partial r} +\n",
    "\\frac{\\rho w}{r}\\frac{\\partial u}{\\partial\\phi} = \n",
    "-\\frac{\\partial p}{\\partial x} +\n",
    "\\frac{1}{Re}\\left\\{\n",
    "\\frac{\\partial\\sigma_{xx}}{\\partial x} +\n",
    "\\frac{\\partial\\tau_{xr}}{\\partial r} +\n",
    "\\right\\}\n",
    "\\end{equation}"
   ]
  },
  {
   "cell_type": "markdown",
   "id": "09c30f82",
   "metadata": {},
   "source": [
    "## r Momentum Equation\n",
    "\n",
    "\\begin{equation}\n",
    "\\rho\\frac{\\partial v}{\\partial t} +\n",
    "\\rho u\\frac{\\partial v}{\\partial x} +\n",
    "\\rho v\\frac{\\partial v}{\\partial r} +\n",
    "\\frac{\\rho w}{r}\\left(\n",
    "\\frac{\\partial v}{\\partial\\phi} - w\n",
    "\\right) =\n",
    "-\\frac{1}{r}\\frac{\\partial p}{\\partial r} +\n",
    "\\frac{1}{Re}\\left\\{\n",
    "\\frac{\\partial\\tau_{xr}}{\\partial x} +\n",
    "\\frac{\\partial\\sigma_{rr}}{\\partial r} +\n",
    "\\frac{1}{r}\\left(\\frac{\\partial\\tau_{r\\phi}}{\\partial \\phi} - \\sigma_{\\phi\\phi} + \\sigma_{rr}\\right)\n",
    "\\right\\}\n",
    "\\end{equation}"
   ]
  },
  {
   "cell_type": "markdown",
   "id": "05df7cf9",
   "metadata": {},
   "source": [
    "## $\\phi$ Momentum E\n",
    "quation\n",
    "\n",
    "\\begin{equation}\n",
    "\\rho\\frac{\\partial w}{\\partial t} +\n",
    "\\rho u\\frac{\\partial w}{\\partial x} +\n",
    "\\rho v\\frac{\\partial w}{\\partial r} +\n",
    "\\frac{\\rho w}{r}\n",
    "\\left(\n",
    "\\frac{\\partial w}{\\partial\\phi} + v\n",
    "\\right) =\n",
    "-\\frac{1}{r}\\frac{\\partial p}{\\partial \\phi} +\n",
    "\\frac{1}{Re}\\left\\{\n",
    "\\frac{\\partial\\tau_{x\\phi}}{\\partial x} +\n",
    "\\frac{\\partial\\tau_{r\\phi}}{\\partial r} +\n",
    "\\frac{1}{r}\\left(\\frac{\\partial\\sigma_{\\phi\\phi}}{\\partial \\phi} + 2\\tau_{r\\phi}\\right)\n",
    "\\right\\} =\n",
    "\\end{equation}"
   ]
  },
  {
   "cell_type": "markdown",
   "id": "1868dc71",
   "metadata": {},
   "source": [
    "## Energy Equation\n",
    "\n",
    "\\begin{equation}\n",
    "\\rho\\frac{\\partial}{\\partial t}\n",
    "\\left(H - \\frac{p}{\\rho}\\right) +\n",
    "\\rho u\\frac{\\partial}{\\partial x}\n",
    "\\left(H - \\frac{p}{\\rho}\\right) +\n",
    "\\rho v\\frac{\\partial}{\\partial r}\n",
    "\\left(H - \\frac{p}{\\rho}\\right) +\n",
    "\\frac{\\rho w}{r}\\frac{\\partial}{\\partial \\phi}\n",
    "\\left(H - \\frac{p}{\\rho}\\right) =\n",
    "\\frac{1}{PrRe}\n",
    "\\left\\{\n",
    "\\frac{\\partial}{\\partial x}\n",
    "\\left(\n",
    "\\mu \\frac{\\partial T}{\\partial x}\n",
    "\\right) +\n",
    "\\frac{1}{r}\\frac{\\partial}{\\partial r}\n",
    "\\frac{\\partial}{\\partial x}\n",
    "\\left(\n",
    "\\mu\\frac{\\partial T}{\\partial r}\n",
    "\\right) +\n",
    "\\frac{1}{r^2}\\frac{\\partial}{\\partial \\phi}\n",
    "\\left(\n",
    "\\mu\\frac{\\partial T}{\\partial \\phi}\n",
    "\\right)\n",
    "\\right\\} -\n",
    "\\frac{\\partial}{\\partial x}(up) -\n",
    "\\frac{1}{r}\\frac{\\partial rvp}{\\partial r} -\n",
    "\\frac{1}{r}\\frac{\\partial wp}{\\partial\\phi} +\n",
    "\\frac{1}{Re}\n",
    "\\left\\{\n",
    "\\frac{\\partial}{\\partial x}\\left(\n",
    "u\\sigma_{xx} + v\\tau_{xr} + w\\tau_{x\\phi}\n",
    "\\right) +\n",
    "\\frac{1}{r}\n",
    "\\frac{\\partial}{\\partial r}\\left(\n",
    "ru\\tau_{xr} + rv\\sigma_{rr} + rw\\tau_{r\\phi}\n",
    "\\right) +\n",
    "\\frac{1}{r}\n",
    "\\frac{\\partial}{\\partial \\phi}\\left(\n",
    "u\\tau_{x\\phi} + v\\tau_{r\\phi} + w\\sigma_{\\phi\\phi}\n",
    "\\right)\n",
    "\\right\\}\n",
    "\\end{equation}"
   ]
  },
  {
   "cell_type": "markdown",
   "id": "d5001ea3",
   "metadata": {},
   "source": [
    "## State Equation\n",
    "\n",
    "\\begin{equation}\n",
    "p = \\frac{\\gamma - 1}{\\gamma}\\rho t\n",
    "\\end{equation}"
   ]
  },
  {
   "cell_type": "markdown",
   "id": "41dd1dd9",
   "metadata": {},
   "source": [
    "## Vector Form\n",
    "\n",
    "\\begin{equation}\n",
    "{\\bf E}_x + {\\bf F}_r + {\\bf G}_\\phi = {\\bf R}\n",
    "\\end{equation}\n",
    "\n",
    "\n",
    "where:"
   ]
  },
  {
   "cell_type": "markdown",
   "id": "50ca0ea2",
   "metadata": {},
   "source": [
    "\\begin{equation}\n",
    "\\frac{\\partial{(\\bf E_I - E_V})}{\\partial x} +\n",
    "\\frac{\\partial{(\\bf F_I - F_V})}{\\partial r} +\n",
    "\\frac{1}{r}\\frac{\\partial{(\\bf G_I - G_V})}{\\partial y} + \\frac{1}{r}R\n",
    "= 0\n",
    "\\end{equation}"
   ]
  },
  {
   "cell_type": "markdown",
   "id": "8713f576",
   "metadata": {},
   "source": [
    "\\begin{equation}\n",
    "{\\bf E_I} =\n",
    "\\begin{bmatrix}\n",
    "\\rho u r\\\\\n",
    "r \\left(\\rho u^2 + p\\right) \\\\\n",
    "\\rho u v r \\\\\n",
    "\\rho u w r \\\\\n",
    "\\rho u H r\n",
    "\\end{bmatrix}\n",
    "\\end{equation}"
   ]
  },
  {
   "cell_type": "markdown",
   "id": "73e6e9b5",
   "metadata": {},
   "source": [
    "\\begin{equation}\n",
    "{\\bf E_V} =\n",
    "\\begin{bmatrix}\n",
    "0 \\\\\n",
    "\\sigma_{xx} \\\\\n",
    "\\tau_{xr} \\\\\n",
    "\\tau_{\\theta z} \\\\\n",
    "u\\sigma_{xx} + v\\tau_{xr} + w\\tau_{\\theta x} + - q_x\n",
    "\\end{bmatrix}\n",
    "\\end{equation}"
   ]
  },
  {
   "cell_type": "markdown",
   "id": "1c32d0c1",
   "metadata": {},
   "source": [
    "\\begin{equation}\n",
    "{\\bf F_I} =\n",
    "\\begin{bmatrix}\n",
    "\\rho v \\\\\n",
    "\\rho u v \\\\\n",
    "\\rho v^2 + p \\\\\n",
    "\\rho v w \\\\\n",
    "\\rho v H\n",
    "\\end{bmatrix}\n",
    "\\end{equation}"
   ]
  },
  {
   "cell_type": "markdown",
   "id": "383b006d",
   "metadata": {},
   "source": [
    "\\begin{equation}\n",
    "{\\bf F_V} =\n",
    "\\begin{bmatrix}\n",
    "0 \\\\\n",
    "\\tau_{xr} \\\\\n",
    "\\sigma_{rr} \\\\\n",
    "\\tau_{\\theta r} \\\\\n",
    "u\\tau_{xr} + v\\sigma_{rr} + w\\tau_{\\theta r} - q_r\n",
    "\\end{bmatrix}\n",
    "\\end{equation}"
   ]
  },
  {
   "cell_type": "markdown",
   "id": "c53b4c21",
   "metadata": {},
   "source": [
    "\\begin{equation}\n",
    "{\\bf G_I} =\n",
    "\\begin{bmatrix}\n",
    "\\rho w \\\\\n",
    "\\rho u w \\\\\n",
    "\\rho v w \\\\\n",
    "\\rho w^2 + p \\\\\n",
    "\\rho w H\n",
    "\\end{bmatrix}\n",
    "\\end{equation}"
   ]
  },
  {
   "cell_type": "markdown",
   "id": "7eeb36cd",
   "metadata": {},
   "source": [
    "\\begin{equation}\n",
    "{\\bf G_V} =\n",
    "\\begin{bmatrix}\n",
    "0 \\\\\n",
    "\\tau_{x\\theta} \\\\\n",
    "\\tau_{r\\theta} \\\\\n",
    "\\sigma_{\\theta\\theta} \\\\\n",
    "u\\tau_{x\\theta} + v\\tau_{r\\theta} + w\\sigma_{\\theta\\theta} - q_z\n",
    "\\end{bmatrix}\n",
    "\\end{equation}"
   ]
  },
  {
   "cell_type": "markdown",
   "id": "d6218137",
   "metadata": {},
   "source": [
    "\\begin{equation}\n",
    "{\\bf R} =\n",
    "\\begin{bmatrix}\n",
    "\\rho v \\\\\n",
    "\\rho u v - \\tau_{xr} \\\\\n",
    "\\rho w^2 - \\sigma_{rr} - \\sigma_{\\theta\\theta} \\\\\n",
    "2\\rho v w - 2 \\tau_{r\\theta} \\\\\n",
    "\\rho v H + q_r - u\\tau_{xr} -v\\sigma_{rr} - w\\tau_{r\\theta}\n",
    "\\end{bmatrix}\n",
    "\\end{equation}"
   ]
  },
  {
   "cell_type": "markdown",
   "id": "183b398c",
   "metadata": {},
   "source": [
    "\\begin{equation}\n",
    "E_t = \n",
    "\\frac{T}{\\gamma(\\gamma - 1)M^2} +\n",
    "\\frac{1}{2}( u^2 + v^2 + w^2)\n",
    "\\end{equation}"
   ]
  },
  {
   "cell_type": "markdown",
   "id": "76b3e8d7",
   "metadata": {},
   "source": [
    "\\begin{equation}\n",
    "H = E + \\frac{p}{\\rho}\n",
    "\\end{equation}"
   ]
  },
  {
   "cell_type": "markdown",
   "id": "45a6be3f",
   "metadata": {},
   "source": [
    "\\begin{equation}\n",
    "\\sigma_{xx} =\n",
    "\\frac{2\\mu}{3Re} \\left[\n",
    "2\\frac{\\partial u}{\\partial x} -\n",
    "\\frac{\\partial v}{\\partial r} -\n",
    "\\frac{1}{r}(\n",
    "\\frac{\\partial w}{\\partial \\theta} + v\n",
    "\\right)\n",
    "\\end{equation}"
   ]
  },
  {
   "cell_type": "markdown",
   "id": "ff711cb4",
   "metadata": {},
   "source": [
    "\\begin{equation}\n",
    "\\sigma_{yy} =\n",
    "\\frac{2\\mu}{3Re_L} \\left(\n",
    "2\\frac{\\partial v}{\\partial x} -\n",
    "\\frac{\\partial u}{\\partial y} -\n",
    "\\frac{\\partial w}{\\partial z}\n",
    "\\right)\n",
    "\\end{equation}"
   ]
  },
  {
   "cell_type": "markdown",
   "id": "02c6875c",
   "metadata": {},
   "source": [
    "\\begin{equation}\n",
    "\\sigma_{zz} =\n",
    "\\frac{2\\mu}{3Re_L} \\left(\n",
    "2\\frac{\\partial w}{\\partial z} -\n",
    "\\frac{\\partial u}{\\partial x} -\n",
    "\\frac{\\partial v}{\\partial y}\n",
    "\\right)\n",
    "\\end{equation}"
   ]
  },
  {
   "cell_type": "markdown",
   "id": "ed4207a9",
   "metadata": {},
   "source": [
    "\\begin{equation}\n",
    "\\tau_{xy} =\n",
    "\\frac{\\mu}{Re_L} \\left(\n",
    "\\frac{\\partial u}{\\partial y} +\n",
    "\\frac{\\partial v}{\\partial x}\n",
    "\\right)\n",
    "\\end{equation}"
   ]
  },
  {
   "cell_type": "markdown",
   "id": "4a199647",
   "metadata": {},
   "source": [
    "\\begin{equation}\n",
    "\\tau_{xz} =\n",
    "\\frac{\\mu}{Re_L} \\left(\n",
    "\\frac{\\partial u}{\\partial z} +\n",
    "\\frac{\\partial w}{\\partial x}\n",
    "\\right)\n",
    "\\end{equation}"
   ]
  },
  {
   "cell_type": "markdown",
   "id": "a62e3c76",
   "metadata": {},
   "source": [
    "\\begin{equation}\n",
    "\\tau_{yz} =\n",
    "\\frac{\\mu}{Re_L} \\left(\n",
    "\\frac{\\partial v}{\\partial z} +\n",
    "\\frac{\\partial w}{\\partial y}\n",
    "\\right)\n",
    "\\end{equation}"
   ]
  },
  {
   "cell_type": "markdown",
   "id": "0799b72c",
   "metadata": {},
   "source": [
    "\\begin{equation}\n",
    "q_x = \\frac{\\mu}{(\\gamma-1)M_\\infty Re_L Pr}\n",
    "\\frac{\\partial T}{\\partial x}\n",
    "\\end{equation}"
   ]
  },
  {
   "cell_type": "markdown",
   "id": "ad89f647",
   "metadata": {},
   "source": [
    "\\begin{equation}\n",
    "q_y = \\frac{\\mu}{(\\gamma-1)M_\\infty Re_L Pr}\n",
    "\\frac{\\partial T}{\\partial y}\n",
    "\\end{equation}"
   ]
  },
  {
   "cell_type": "markdown",
   "id": "41ff75ae",
   "metadata": {},
   "source": [
    "\\begin{equation}\n",
    "q_z = \\frac{\\mu}{(\\gamma-1)M_\\infty Re_L Pr}\n",
    "\\frac{\\partial T}{\\partial z}\n",
    "\\end{equation}"
   ]
  },
  {
   "cell_type": "code",
   "execution_count": null,
   "id": "e39211ea",
   "metadata": {},
   "outputs": [],
   "source": []
  }
 ],
 "metadata": {
  "kernelspec": {
   "display_name": "Python 3 (ipykernel)",
   "language": "python",
   "name": "python3"
  },
  "language_info": {
   "codemirror_mode": {
    "name": "ipython",
    "version": 3
   },
   "file_extension": ".py",
   "mimetype": "text/x-python",
   "name": "python",
   "nbconvert_exporter": "python",
   "pygments_lexer": "ipython3",
   "version": "3.10.7"
  },
  "toc": {
   "base_numbering": 1,
   "nav_menu": {},
   "number_sections": true,
   "sideBar": true,
   "skip_h1_title": false,
   "title_cell": "Table of Contents",
   "title_sidebar": "Contents",
   "toc_cell": false,
   "toc_position": {},
   "toc_section_display": true,
   "toc_window_display": false
  },
  "varInspector": {
   "cols": {
    "lenName": 16,
    "lenType": 16,
    "lenVar": 40
   },
   "kernels_config": {
    "python": {
     "delete_cmd_postfix": "",
     "delete_cmd_prefix": "del ",
     "library": "var_list.py",
     "varRefreshCmd": "print(var_dic_list())"
    },
    "r": {
     "delete_cmd_postfix": ") ",
     "delete_cmd_prefix": "rm(",
     "library": "var_list.r",
     "varRefreshCmd": "cat(var_dic_list()) "
    }
   },
   "types_to_exclude": [
    "module",
    "function",
    "builtin_function_or_method",
    "instance",
    "_Feature"
   ],
   "window_display": false
  }
 },
 "nbformat": 4,
 "nbformat_minor": 5
}