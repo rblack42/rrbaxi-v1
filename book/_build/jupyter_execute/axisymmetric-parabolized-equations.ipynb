{
 "cells": [
  {
   "cell_type": "markdown",
   "id": "3c195269",
   "metadata": {},
   "source": [
    "# Governing Equations"
   ]
  },
  {
   "cell_type": "markdown",
   "id": "8c582be9",
   "metadata": {},
   "source": [
    "## General Form"
   ]
  },
  {
   "cell_type": "markdown",
   "id": "3fc57738",
   "metadata": {},
   "source": [
    "\\begin{equation}\n",
    "\\frac{\\partial U}{\\partial t} +\n",
    "    \\frac{\\partial A}{\\partial z} +\n",
    "    \\frac{\\partial B}{\\partial z} +\n",
    "    \\frac{1}{r}\\frac{\\partial C}{\\partial\\theta} +\n",
    "    \\frac{1}{r}D = 0\n",
    "\\end{equation}"
   ]
  },
  {
   "cell_type": "markdown",
   "id": "05bbb76b",
   "metadata": {},
   "source": [
    "\\begin{equation}\n",
    "A = \\begin{Bmatrix}\n",
    "\\rho u\\\\\n",
    "\\rho u u + p - \\tau_{zz} \\\\\n",
    "\\rho u v -\\tau_{rz} \\\\\n",
    "\\rho u w - \\tau_{\\theta z} \\\\\n",
    "\\rho u H + q_z -u\\tau_{zz} - v\\tau_{rz} - w\\tau_{\\theta z}\n",
    "\\end{Bmatrix}\n",
    "\\end{equation}"
   ]
  },
  {
   "cell_type": "markdown",
   "id": "6d5a3ce6",
   "metadata": {},
   "source": [
    "\\begin{equation}\n",
    "B = \\begin{Bmatrix}\n",
    "\\rho v \\\\\n",
    "\\rho u v - \\tau_{rz} \\\\\n",
    "\\rho v v + p - \\tau_{rr} \\\\\n",
    "\\rho v w - \\tau_{\\theta r}\\\\\n",
    "\\rho v H + q_r - u\\tau_{rz} -v\\tau_{rr} - w\\tau_{\\theta r} \n",
    "\\end{Bmatrix}\n",
    "\\end{equation}"
   ]
  },
  {
   "cell_type": "markdown",
   "id": "a4f7477c",
   "metadata": {},
   "source": [
    "\\begin{equation}\n",
    "C = \\begin{Bmatrix}\n",
    "\\rho w \\\\\n",
    "\\rho u w  - \\tau_{\\theta z} \\\\\n",
    "\\rho v w - \\tau_{\\theta r}  \\\\\n",
    "\\rho w w + p - \\tau_{\\theta\\theta} \\\\\n",
    "\\rho w H + q_\\theta - u\\tau_{\\theta z} - v\\theta_{\\theta r} - w\\theta_{\\theta\\theta} \n",
    "\\end{Bmatrix}\n",
    "\\end{equation}"
   ]
  },
  {
   "cell_type": "markdown",
   "id": "069ed037",
   "metadata": {},
   "source": [
    "\\begin{equation}\n",
    "D = \\begin{Bmatrix}\n",
    "\\rho v \\\\\n",
    "\\rho u v - \\tau_{rz} \\\\\n",
    "\\rho v v - \\rho w w - \\tau_{rr} + \\tau_{\\theta\\theta} \\\\\n",
    "2\\rho v w - 2\\tau_{\\theta r} \\\\\n",
    "\\rho v H + q_r - u\\tau_{rz} - v\\tau_{rr} - w\\tau_{\\theta r}\n",
    "\\end{Bmatrix}\n",
    "\\end{equation}"
   ]
  },
  {
   "cell_type": "markdown",
   "id": "7b436894",
   "metadata": {},
   "source": [
    "where:\n",
    "\n",
    "\\begin{align}\n",
    "E &= \\frac{T}{\\gamma(\\gamma - 1)M^2} + \\frac{1}{2}(u^2 + v^2 + w^2) \\\\\n",
    "H &= E + p/\\rho \\\\\n",
    "\\gamma &= 1.4\n",
    "\\end{align}"
   ]
  },
  {
   "cell_type": "markdown",
   "id": "c6f4af72",
   "metadata": {},
   "source": [
    "## Shear Stress Terms\n",
    "\n",
    "\\begin{align}\n",
    "\\tau_{zz} &= \\frac{2\\mu}{3Re}\\left[\n",
    "    2\\frac{\\partial u}{\\partial z} \n",
    "    - \\frac{\\partial v}{\\partial r} \n",
    "    - \\frac{1}{r}\\Big(\\frac{\\partial w}{\\partial\\theta} + v \\Big)\n",
    "\\right] \\\\\n",
    "\\tau_{rr} &= \\frac{2\\mu}{3Re}\\left[\n",
    "    -\\frac{\\partial u}{\\partial z} \n",
    "    + 2\\frac{\\partial v}{\\partial r} \n",
    "    - \\frac{1}{r}\\Big(\\frac{\\partial w}{\\partial\\theta} + v \\Big)   \n",
    "\\right] \\\\\n",
    "\\tau_{\\theta\\theta} &= \\frac{2\\mu}{3Re}\\left[\n",
    "    -\\frac{\\partial u}{\\partial z} \n",
    "    - \\frac{\\partial v}{\\partial r} \n",
    "    + 2\\frac{1}{r}\\Big(\\frac{\\partial w}{\\partial\\theta} + v \\Big)\n",
    "\\right] \\\\\n",
    "\\tau_{rz} &= \\frac{\\mu}{Re}\\left[\n",
    "    \\frac{\\partial u}{\\partial r} \n",
    "    + \\frac{\\partial v}{\\partial z} \n",
    "\\right] \\\\\n",
    "\\tau_{\\theta z} &= \\frac{\\mu}{Re}\\left[\n",
    "\\frac{\\partial w}{\\partial z} + \\frac{1}{r}\\frac{\\partial u}{\\partial\\theta}\n",
    "\\right] \\\\\n",
    "\\tau_{\\theta r} &= \\frac{\\mu}{Re}\\left[\n",
    "\\frac{1}{r}\\Big(\\frac{\\partial v}{\\partial\\theta} - w\\Big) + \\frac{\\partial w}{\\partial r}\n",
    "\\right] \\\\\n",
    "\\end{align}"
   ]
  },
  {
   "cell_type": "markdown",
   "id": "af86dd75",
   "metadata": {},
   "source": [
    "\\begin{align}\n",
    "q_z &= \\frac{-\\mu}{Pr(\\gamma - 1)M^2Re}\\frac{\\partial T}{\\partial z} \\\\\n",
    "q_z &= \\frac{-\\mu}{Pr(\\gamma - 1)M^2Re}\\frac{\\partial T}{\\partial r} \\\\\n",
    "q_z &= \\frac{-\\mu}{Pr(\\gamma - 1)M^2Re}\\frac{\\partial T}{\\partial\\theta}\n",
    "\\end{align}\n",
    "\n",
    "where:\n",
    "\\begin{equation}\n",
    "Pr = 0.72\n",
    "\\end{equation}"
   ]
  },
  {
   "cell_type": "markdown",
   "id": "dd2e81e6",
   "metadata": {},
   "source": [
    "\\begin{equation}\n",
    "p = \\frac{\\rho T}{\\gamma M^2}\n",
    "\\end{equation}"
   ]
  },
  {
   "cell_type": "markdown",
   "id": "e60eafb2",
   "metadata": {},
   "source": [
    "The unknowns in this equation set are:\n",
    "    \n",
    "\\begin{align}\n",
    "\\rho &- density\n",
    "u &- axial velocity\n",
    "v &- radial velocity\n",
    "w &- azmuthal velocity\n",
    "p &- static pressure\n",
    "T &- static temperature\n",
    "H &- total enthalpy\n",
    "E &- total energy\n",
    "\\mu &- viscosity\n",
    "M &- Mach Number\n",
    "\\end{align}\n",
    "\n",
    "That is ten equations. We have shown only seven equations. We need two more:\n",
    "\n",
    "### Sutherland's Law\n",
    "\n",
    "\\begin{equation}\n",
    "\\mu = \\mu(T)\n",
    "\\end{equation}\n",
    "\n",
    "### Mach Number\n",
    "\n",
    "\\begin{align}\n",
    "c = \\sqrt{\\frac{\\gamma p}{\\rho}}\n",
    "\\end{align}\n",
    "\n",
    "\\begin{equation}\n",
    "V = \\sqrt{u^2 + v^2 + w^2}\n",
    "\\end{equation}\n",
    "\n",
    "\\begin{equation}\n",
    "M = \\frac{V}{c}\n",
    "\\end{equation}\n"
   ]
  },
  {
   "cell_type": "code",
   "execution_count": null,
   "id": "14e131a0",
   "metadata": {},
   "outputs": [],
   "source": []
  }
 ],
 "metadata": {
  "kernelspec": {
   "display_name": "Python 3 (ipykernel)",
   "language": "python",
   "name": "python3"
  },
  "language_info": {
   "codemirror_mode": {
    "name": "ipython",
    "version": 3
   },
   "file_extension": ".py",
   "mimetype": "text/x-python",
   "name": "python",
   "nbconvert_exporter": "python",
   "pygments_lexer": "ipython3",
   "version": "3.10.8"
  },
  "toc": {
   "base_numbering": 1,
   "nav_menu": {},
   "number_sections": true,
   "sideBar": true,
   "skip_h1_title": false,
   "title_cell": "Table of Contents",
   "title_sidebar": "Contents",
   "toc_cell": false,
   "toc_position": {},
   "toc_section_display": true,
   "toc_window_display": false
  },
  "varInspector": {
   "cols": {
    "lenName": 16,
    "lenType": 16,
    "lenVar": 40
   },
   "kernels_config": {
    "python": {
     "delete_cmd_postfix": "",
     "delete_cmd_prefix": "del ",
     "library": "var_list.py",
     "varRefreshCmd": "print(var_dic_list())"
    },
    "r": {
     "delete_cmd_postfix": ") ",
     "delete_cmd_prefix": "rm(",
     "library": "var_list.r",
     "varRefreshCmd": "cat(var_dic_list()) "
    }
   },
   "types_to_exclude": [
    "module",
    "function",
    "builtin_function_or_method",
    "instance",
    "_Feature"
   ],
   "window_display": false
  }
 },
 "nbformat": 4,
 "nbformat_minor": 5
}