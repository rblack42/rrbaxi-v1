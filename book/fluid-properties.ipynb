{
 "cells": [
  {
   "cell_type": "markdown",
   "id": "787b9b81",
   "metadata": {},
   "source": [
    "# Fluid Properties"
   ]
  },
  {
   "cell_type": "markdown",
   "id": "ebac5e8a",
   "metadata": {},
   "source": [
    "The various fluid properties we study have wildly different magnitudes and units of measure. Making sure all units correct in our calculations can be a challenge. Even worse, we can run into difficulties with numerical precision since computers are limited in the range of values they can handle.\n",
    "\n",
    "The most common solution to these issues is to eliminate the units of measure, and create a set of *nondimensional* properties whose magnitudes should be more reasonable for our calculations. \n",
    "\n",
    "In this section, we will set up these nondimensional properties."
   ]
  },
  {
   "cell_type": "markdown",
   "id": "1f8b7ac2",
   "metadata": {},
   "source": [
    "In our study, we have these fluid properties:\n",
    "    \n",
    "    \n",
    "|Property|Symbol|Units|\n",
    "|:---------:|:--------:|:--------------:|\n",
    "| density  | $\\rho$ | $\\frac{slugs}{ft^3}$ |\n",
    "| pressure | $p$ | $\\frac{lb_f}{ft^2}$ |\n",
    "| Temperature | $T$ | $^o R$ |\n",
    "| Velocity | $V$ | $\\frac{ft}{sec}$ |\n",
    "| Thermal Conductivity | $k$ | $\\frac{lb_f}{sec ^o R}$ |\n",
    "| Kinematic Viscosity | $\\mu$ | $\\frac{lb_f sec}{ft^2}$ |"
   ]
  },
  {
   "cell_type": "markdown",
   "id": "495c7d77",
   "metadata": {},
   "source": [
    "We can use the *Python* **pint** package to work with these units. Here is some code that will let us manage units:"
   ]
  },
  {
   "cell_type": "code",
   "execution_count": 1,
   "id": "994f4ba0",
   "metadata": {},
   "outputs": [],
   "source": [
    "from pint import UnitRegistry"
   ]
  },
  {
   "cell_type": "markdown",
   "id": "76ed84cb",
   "metadata": {},
   "source": [
    "The *UnitRegistry* is a class that will create an object that understands how units can be converted between systems of measure. Only one instance of this class can be created for any project. We will do that setup work next:"
   ]
  },
  {
   "cell_type": "code",
   "execution_count": 2,
   "id": "213bbfa5",
   "metadata": {},
   "outputs": [],
   "source": [
    "u = UnitRegistry()"
   ]
  },
  {
   "cell_type": "markdown",
   "id": "fb307729",
   "metadata": {},
   "source": [
    "We can demonstrate the use of this registry by defining the gas constant $R$ for air. From Wikipedia [Gas Constant](https://en.wikipedia.org/wiki/Gas_constant) we find that the *Specific Gas Constant* for air has a value of 1716.46 $\\frac{ ft lb_f}{slugs ^oR}$. Here is how we express that value using **pint**:"
   ]
  },
  {
   "cell_type": "code",
   "execution_count": 3,
   "id": "b435510a",
   "metadata": {},
   "outputs": [
    {
     "data": {
      "text/html": [
       "1716.46 foot force_pound/(degree_Rankine slug)"
      ],
      "text/latex": [
       "$1716.46\\ \\frac{\\mathrm{foot} \\cdot \\mathrm{force\\_pound}}{\\left(\\mathrm{degree\\_Rankine} \\cdot \\mathrm{slug}\\right)}$"
      ],
      "text/plain": [
       "1716.46 <Unit('foot * force_pound / degree_Rankine / slug')>"
      ]
     },
     "execution_count": 3,
     "metadata": {},
     "output_type": "execute_result"
    }
   ],
   "source": [
    "Rgas = 1716.46*u.ft*u.lbf/(u.slug*u.rankine)\n",
    "Rgas"
   ]
  },
  {
   "cell_type": "markdown",
   "id": "c54c3045",
   "metadata": {},
   "source": [
    "Internally, **pint** uses \"base\" units, which are metric. We can generate the correct values for the properties in these base units using the **to_base_units()** method:"
   ]
  },
  {
   "cell_type": "code",
   "execution_count": 4,
   "id": "cfc8229f",
   "metadata": {},
   "outputs": [
    {
     "data": {
      "text/html": [
       "287.03583366911994 meter<sup>2</sup>/(kelvin second<sup>2</sup>)"
      ],
      "text/latex": [
       "$287.03583366911994\\ \\frac{\\mathrm{meter}^{2}}{\\left(\\mathrm{kelvin} \\cdot \\mathrm{second}^{2}\\right)}$"
      ],
      "text/plain": [
       "287.03583366911994 <Unit('meter ** 2 / kelvin / second ** 2')>"
      ]
     },
     "execution_count": 4,
     "metadata": {},
     "output_type": "execute_result"
    }
   ],
   "source": [
    "Rgas.to_base_units()"
   ]
  },
  {
   "cell_type": "markdown",
   "id": "88a1c9fb",
   "metadata": {},
   "source": [
    "There are additional properties we will need. The *Specific Heat* properties are defined as follows:\n",
    "\n",
    "\\begin{equation}\n",
    "R_{gas} = c_p - c_v \n",
    "\\end{equation}\n",
    "\n",
    "Where $c_p$ is the *specific heat at constant pressure* and $c_v$ is the *specific heat at constant volume. These two properties are commonly related as follows:\n",
    "\n",
    "\\begin{equation}\n",
    "\\gamma = \\frac{c_p}{c_v} = 1.4\\ (for Air)\n",
    "\\end{equation}"
   ]
  },
  {
   "cell_type": "markdown",
   "id": "f2019dcd",
   "metadata": {},
   "source": [
    "From *Wikipedia [Specific Heat Capacity](https://en.wikipedia.org/wiki/Specific_heat_capacity#Imperial_engineering_units) we find this value: $c_p$ = 520.3 $\\frac{joule}{kg ^oK}$.\n",
    "\n",
    "This value is valid for temperatures at room temperature. Unfortunately, this value varies with temperature. "
   ]
  },
  {
   "cell_type": "code",
   "execution_count": 5,
   "id": "5bf3562a",
   "metadata": {},
   "outputs": [
    {
     "data": {
      "text/html": [
       "520.3 meter<sup>2</sup>/(kelvin second<sup>2</sup>)"
      ],
      "text/latex": [
       "$520.3\\ \\frac{\\mathrm{meter}^{2}}{\\left(\\mathrm{kelvin} \\cdot \\mathrm{second}^{2}\\right)}$"
      ],
      "text/plain": [
       "520.3 <Unit('meter ** 2 / kelvin / second ** 2')>"
      ]
     },
     "execution_count": 5,
     "metadata": {},
     "output_type": "execute_result"
    }
   ],
   "source": [
    "c_p = 520.3 * u.joule/(u.kg*u.kelvin)\n",
    "c_p.to_base_units()"
   ]
  },
  {
   "cell_type": "markdown",
   "id": "52161245",
   "metadata": {},
   "source": [
    "Even though the units for $c_p$ did not look the same as those used for $R_{gas}, **pint** showed they are the same (only expressed in different measuring systems)."
   ]
  },
  {
   "cell_type": "markdown",
   "id": "4626719b",
   "metadata": {},
   "source": [
    "## Example Test Data"
   ]
  },
  {
   "cell_type": "markdown",
   "id": "233074e1",
   "metadata": {},
   "source": [
    "In my original study, I used test data from wind-tunnel tests conducted at the *USAF Arnold Engineering Development Center* for flow over an ogive-cylinder. The test data included these values:\n",
    "\n",
    "- Mach Number: 5.95\n",
    "- $T_0$: 830 $^oR$\n",
    "- $P_\\infty$:  0.167 psi\n",
    "- $q_\\infty$: 4.13 psi\n",
    "- $\\frac{Re}{ft}$: 4.9e6"
   ]
  },
  {
   "cell_type": "code",
   "execution_count": 8,
   "id": "aa0a9abb",
   "metadata": {},
   "outputs": [
    {
     "data": {
      "text/html": [
       "0.167 force_pound/inch<sup>2</sup>"
      ],
      "text/latex": [
       "$0.167\\ \\frac{\\mathrm{force\\_pound}}{\\mathrm{inch}^{2}}$"
      ],
      "text/plain": [
       "0.167 <Unit('force_pound / inch ** 2')>"
      ]
     },
     "execution_count": 8,
     "metadata": {},
     "output_type": "execute_result"
    }
   ],
   "source": [
    "p = 0.167 * u.lbf/u.inch**2\n",
    "p"
   ]
  },
  {
   "cell_type": "markdown",
   "id": "eb92d09e",
   "metadata": {},
   "source": [
    "### Test Temperature"
   ]
  },
  {
   "cell_type": "markdown",
   "id": "ccadf47d",
   "metadata": {},
   "source": [
    "We need to determine the working temperature for this test:\n",
    "\n",
    "The stagnation temperature $T_0$ is defined as:\n",
    "\n",
    "\\begin{equation}\n",
    "\\frac{T_0}{T} = 1 + \\frac{\\gamma - 1}{2} M^2\n",
    "\\end{equation}\n"
   ]
  },
  {
   "cell_type": "code",
   "execution_count": 9,
   "id": "fe56b730",
   "metadata": {},
   "outputs": [
    {
     "data": {
      "text/html": [
       "102.71641606336243 degree_Rankine"
      ],
      "text/latex": [
       "$102.71641606336243\\ \\mathrm{degree\\_Rankine}$"
      ],
      "text/plain": [
       "102.71641606336243 <Unit('degree_Rankine')>"
      ]
     },
     "execution_count": 9,
     "metadata": {},
     "output_type": "execute_result"
    }
   ],
   "source": [
    "gamma = 1.4\n",
    "Mach = 5.95\n",
    "Tref = 830*u.rankine/(1 + (gamma - 1)/2 * Mach**2)\n",
    "Tref"
   ]
  },
  {
   "cell_type": "markdown",
   "id": "7f17f14a",
   "metadata": {},
   "source": [
    "To calculate the value for $c_p$ we need to do a bit of setup with **pint**:"
   ]
  },
  {
   "cell_type": "markdown",
   "id": "101624c3",
   "metadata": {},
   "source": [
    "### Equation of State"
   ]
  },
  {
   "cell_type": "markdown",
   "id": "809a0b7d",
   "metadata": {},
   "source": [
    "All gases obey the *State Equation:\n",
    "    \n",
    "\\begin{equation}\n",
    "p = \\rho R_{gas} T\n",
    "\\end{equation}\n",
    "\n",
    "Since we have the working pressure and temperature, we can find the density:"
   ]
  },
  {
   "cell_type": "code",
   "execution_count": 10,
   "id": "9d1a36e3",
   "metadata": {},
   "outputs": [
    {
     "data": {
      "text/html": [
       "0.07029622181113201 kilogram/meter<sup>3</sup>"
      ],
      "text/latex": [
       "$0.07029622181113201\\ \\frac{\\mathrm{kilogram}}{\\mathrm{meter}^{3}}$"
      ],
      "text/plain": [
       "0.07029622181113201 <Unit('kilogram / meter ** 3')>"
      ]
     },
     "execution_count": 10,
     "metadata": {},
     "output_type": "execute_result"
    }
   ],
   "source": [
    "rho = p / (Rgas * Tref)\n",
    "rho.to_base_units()"
   ]
  },
  {
   "cell_type": "markdown",
   "id": "0940fb0b",
   "metadata": {},
   "source": [
    "### Speed of Sound"
   ]
  },
  {
   "cell_type": "markdown",
   "id": "36433d1e",
   "metadata": {},
   "source": [
    "The speed of sound is defined as:\n",
    "\n",
    "\\begin{equation}\n",
    "c = \\sqrt{\\gamma\\frac{p}{\\rho}}\n",
    "\\end{equation}"
   ]
  },
  {
   "cell_type": "code",
   "execution_count": 11,
   "id": "cca096bc",
   "metadata": {},
   "outputs": [
    {
     "data": {
      "text/html": [
       "151.4313356731396 meter/second"
      ],
      "text/latex": [
       "$151.4313356731396\\ \\frac{\\mathrm{meter}}{\\mathrm{second}}$"
      ],
      "text/plain": [
       "151.4313356731396 <Unit('meter / second')>"
      ]
     },
     "execution_count": 11,
     "metadata": {},
     "output_type": "execute_result"
    }
   ],
   "source": [
    "c = (gamma*p/rho)**0.5\n",
    "c.to_base_units()"
   ]
  },
  {
   "cell_type": "markdown",
   "id": "34338724",
   "metadata": {},
   "source": [
    "From the wind-tunnel *Mach Number*, we can now calculate the test velocity:"
   ]
  },
  {
   "cell_type": "code",
   "execution_count": 14,
   "id": "fd1a1158",
   "metadata": {},
   "outputs": [
    {
     "data": {
      "text/html": [
       "901.0164472551808 meter/second"
      ],
      "text/latex": [
       "$901.0164472551808\\ \\frac{\\mathrm{meter}}{\\mathrm{second}}$"
      ],
      "text/plain": [
       "901.0164472551808 <Unit('meter / second')>"
      ]
     },
     "execution_count": 14,
     "metadata": {},
     "output_type": "execute_result"
    }
   ],
   "source": [
    "Mach = 5.95\n",
    "Vref = Mach * c\n",
    "Vref.to_base_units()"
   ]
  },
  {
   "cell_type": "markdown",
   "id": "0f088865",
   "metadata": {},
   "source": [
    "I wonder what that is in miles-per-hour!"
   ]
  },
  {
   "cell_type": "code",
   "execution_count": 15,
   "id": "112b4d15",
   "metadata": {},
   "outputs": [
    {
     "data": {
      "text/html": [
       "2015.5163906030352 mile_per_hour"
      ],
      "text/latex": [
       "$2015.5163906030352\\ \\mathrm{mile\\_per\\_hour}$"
      ],
      "text/plain": [
       "2015.5163906030352 <Unit('mile_per_hour')>"
      ]
     },
     "execution_count": 15,
     "metadata": {},
     "output_type": "execute_result"
    }
   ],
   "source": [
    "Vref.to('mph')"
   ]
  },
  {
   "cell_type": "markdown",
   "id": "77892d42",
   "metadata": {},
   "source": [
    "The dynamic pressure $q_\\infty$ is defined as:\n",
    "\n",
    "\\begin{equation}\n",
    "q = \\frac{1}{2}\\rho u^2\n",
    "\\end{equation}"
   ]
  },
  {
   "cell_type": "markdown",
   "id": "13436ea6",
   "metadata": {},
   "source": [
    "From this eqution, we can calculate the velocity a different way as a check:"
   ]
  },
  {
   "cell_type": "code",
   "execution_count": 16,
   "id": "cf5663ca",
   "metadata": {},
   "outputs": [
    {
     "data": {
      "text/html": [
       "900.0849979827469 meter/second"
      ],
      "text/latex": [
       "$900.0849979827469\\ \\frac{\\mathrm{meter}}{\\mathrm{second}}$"
      ],
      "text/plain": [
       "900.0849979827469 <Unit('meter / second')>"
      ]
     },
     "execution_count": 16,
     "metadata": {},
     "output_type": "execute_result"
    }
   ],
   "source": [
    "Qref = 4.13* u.lbf/u.inch**2\n",
    "Uref = (2*Qref/rho)**0.5\n",
    "Uref.to_base_units()"
   ]
  },
  {
   "cell_type": "markdown",
   "id": "a603c62e",
   "metadata": {},
   "source": [
    "Those two calculations are pretty close."
   ]
  },
  {
   "cell_type": "markdown",
   "id": "b6224fca",
   "metadata": {},
   "source": [
    "### Specific Heat "
   ]
  },
  {
   "cell_type": "markdown",
   "id": "73399ea6",
   "metadata": {},
   "source": [
    "In addition to these data values, the wind tunnel value for $c_p$ is given by this formula:\n",
    "\n",
    "\\begin{equation}\n",
    "c_p =  (3.15789e-5 T + 0.098947) \\frac{btu}{lbm ^oR}\n",
    "\\end{equation}"
   ]
  },
  {
   "cell_type": "code",
   "execution_count": 17,
   "id": "1f90ac7c",
   "metadata": {},
   "outputs": [
    {
     "data": {
      "text/html": [
       "1055.056 kilogram meter<sup>2</sup>/second<sup>2</sup>"
      ],
      "text/latex": [
       "$1055.056\\ \\frac{\\mathrm{kilogram} \\cdot \\mathrm{meter}^{2}}{\\mathrm{second}^{2}}$"
      ],
      "text/plain": [
       "1055.056 <Unit('kilogram * meter ** 2 / second ** 2')>"
      ]
     },
     "execution_count": 17,
     "metadata": {},
     "output_type": "execute_result"
    }
   ],
   "source": [
    "btu = u.Quantity(\"1 BTU\")\n",
    "btu.to_base_units()"
   ]
  },
  {
   "cell_type": "code",
   "execution_count": 18,
   "id": "cfe646ac",
   "metadata": {},
   "outputs": [
    {
     "data": {
      "text/html": [
       "0.4535923700000001 kilogram"
      ],
      "text/latex": [
       "$0.4535923700000001\\ \\mathrm{kilogram}$"
      ],
      "text/plain": [
       "0.4535923700000001 <Unit('kilogram')>"
      ]
     },
     "execution_count": 18,
     "metadata": {},
     "output_type": "execute_result"
    }
   ],
   "source": [
    "lbm = 1*u.lbf/u.gravity\n",
    "lbm.to_base_units()"
   ]
  },
  {
   "cell_type": "code",
   "execution_count": 19,
   "id": "ad1c936a",
   "metadata": {},
   "outputs": [
    {
     "data": {
      "text/html": [
       "427.851962914573 meter<sup>2</sup>/(kelvin second<sup>2</sup>)"
      ],
      "text/latex": [
       "$427.851962914573\\ \\frac{\\mathrm{meter}^{2}}{\\left(\\mathrm{kelvin} \\cdot \\mathrm{second}^{2}\\right)}$"
      ],
      "text/plain": [
       "427.851962914573 <Unit('meter ** 2 / kelvin / second ** 2')>"
      ]
     },
     "execution_count": 19,
     "metadata": {},
     "output_type": "execute_result"
    }
   ],
   "source": [
    "Cp =  (3.15789e-5 * Tref.magnitude + 0.098947)  * btu/(lbm*u.rankine)\n",
    "Cp.to_base_units()"
   ]
  },
  {
   "cell_type": "markdown",
   "id": "731d4e23",
   "metadata": {},
   "source": [
    "### Reynolds Number"
   ]
  },
  {
   "cell_type": "markdown",
   "id": "da88a2db",
   "metadata": {},
   "source": [
    "The equation defining the *Reynolds Number* is:\n",
    "\n",
    "\\begin{equation}\n",
    "Re = \\frac{\\rho U L_{ref}}{\\mu}\n",
    "\\end{equation}"
   ]
  },
  {
   "cell_type": "markdown",
   "id": "7c2ae4eb",
   "metadata": {},
   "source": [
    "The test model is an ogive-cylinder, 50 inches long. According to the test data, that would produce a *Reynolds Number* of"
   ]
  },
  {
   "cell_type": "code",
   "execution_count": 20,
   "id": "bbe10ec4",
   "metadata": {},
   "outputs": [
    {
     "data": {
      "text/plain": [
       "3470833.3333333335"
      ]
     },
     "execution_count": 20,
     "metadata": {},
     "output_type": "execute_result"
    }
   ],
   "source": [
    "Re = 4.9e6 * 8.5/12\n",
    "Re"
   ]
  },
  {
   "cell_type": "markdown",
   "id": "d96b44a9",
   "metadata": {},
   "source": [
    "This value is actually higher than the value I found in the original study. That value was \n",
    "$Re = 2179168.0$\n",
    "\n",
    "TODO: Check this with AEDC"
   ]
  },
  {
   "cell_type": "markdown",
   "id": "8a0332a0",
   "metadata": {},
   "source": [
    "### Viscosity"
   ]
  },
  {
   "cell_type": "markdown",
   "id": "f5660ab6",
   "metadata": {},
   "source": [
    "We can calculate the viscosity coefficient by using the definition of the *Reynolds Number*:\n",
    "    \n",
    "\\begin{equation}\n",
    "Re = \\frac{\\rho u L}{\\mu}\n",
    "\\end{equation}"
   ]
  },
  {
   "cell_type": "code",
   "execution_count": 21,
   "id": "61fc1c60",
   "metadata": {},
   "outputs": [
    {
     "data": {
      "text/html": [
       "3.939885359034857×10<sup>-6</sup> kilogram/(meter second)"
      ],
      "text/latex": [
       "$3.939885359034857\\times 10^{-6}\\ \\frac{\\mathrm{kilogram}}{\\left(\\mathrm{meter} \\cdot \\mathrm{second}\\right)}$"
      ],
      "text/plain": [
       "3.939885359034857e-06 <Unit('kilogram / meter / second')>"
      ]
     },
     "execution_count": 21,
     "metadata": {},
     "output_type": "execute_result"
    }
   ],
   "source": [
    "L = 8.5/12*u.foot\n",
    "mu = (rho * Vref * L)/Re\n",
    "mu.to_base_units()"
   ]
  },
  {
   "cell_type": "markdown",
   "id": "210d0921",
   "metadata": {},
   "source": [
    "From the original study, the reference viscosity was given as:"
   ]
  },
  {
   "cell_type": "code",
   "execution_count": 28,
   "id": "f3e25b05",
   "metadata": {},
   "outputs": [
    {
     "data": {
      "text/html": [
       "1.1384960144047902×10<sup>-6</sup> kilogram/(meter second)"
      ],
      "text/latex": [
       "$1.1384960144047902\\times 10^{-6}\\ \\frac{\\mathrm{kilogram}}{\\left(\\mathrm{meter} \\cdot \\mathrm{second}\\right)}$"
      ],
      "text/plain": [
       "1.1384960144047902e-06 <Unit('kilogram / meter / second')>"
      ]
     },
     "execution_count": 28,
     "metadata": {},
     "output_type": "execute_result"
    }
   ],
   "source": [
    "Mu_ref = 7.65034e-7 * lbm/(u.ft*u.second)\n",
    "Mu_ref.to_base_units()"
   ]
  },
  {
   "cell_type": "code",
   "execution_count": 29,
   "id": "13eb7b13",
   "metadata": {},
   "outputs": [
    {
     "data": {
      "text/html": [
       "6.275186416857328×10<sup>-6</sup> kilogram/(meter second)"
      ],
      "text/latex": [
       "$6.275186416857328\\times 10^{-6}\\ \\frac{\\mathrm{kilogram}}{\\left(\\mathrm{meter} \\cdot \\mathrm{second}\\right)}$"
      ],
      "text/plain": [
       "6.275186416857328e-06 <Unit('kilogram / meter / second')>"
      ]
     },
     "execution_count": 29,
     "metadata": {},
     "output_type": "execute_result"
    }
   ],
   "source": [
    "REc = 2179168.0\n",
    "Muc = (rho * Vref * L)/REc\n",
    "Muc.to_base_units()"
   ]
  },
  {
   "cell_type": "markdown",
   "id": "2ac33a2e",
   "metadata": {},
   "source": [
    "Again, the value calculated here does not match data used in the original study.\n",
    "\n",
    "TOTO: Check with AEDC"
   ]
  },
  {
   "cell_type": "code",
   "execution_count": 33,
   "id": "387b423a",
   "metadata": {},
   "outputs": [
    {
     "data": {
      "text/html": [
       "1.5421400225568374 inch"
      ],
      "text/latex": [
       "$1.5421400225568374\\ \\mathrm{inch}$"
      ],
      "text/plain": [
       "1.5421400225568374 <Unit('inch')>"
      ]
     },
     "execution_count": 33,
     "metadata": {},
     "output_type": "execute_result"
    }
   ],
   "source": [
    "L_ref = REc*Mu_ref/(rho * Vref)\n",
    "L_ref.to('inch')"
   ]
  },
  {
   "cell_type": "markdown",
   "id": "9c99e104",
   "metadata": {},
   "source": [
    "From that calculation, the reference length does not look right either. \n",
    "\n",
    "TOTO: Check with AEDC"
   ]
  },
  {
   "cell_type": "markdown",
   "id": "c2e62ce9",
   "metadata": {},
   "source": [
    "## Dimensional Property Summary"
   ]
  },
  {
   "cell_type": "markdown",
   "id": "1a0618db",
   "metadata": {},
   "source": [
    "For reference, here is a summary of the values we calculated (subject to corrections based on new data later!)"
   ]
  },
  {
   "cell_type": "code",
   "execution_count": 47,
   "id": "636ddc5e",
   "metadata": {},
   "outputs": [],
   "source": [
    "props = {}\n",
    "props['density'] = rho\n",
    "props['pressure'] = p\n",
    "props['temperature'] = Tref\n",
    "props['viscosity'] = mu\n",
    "props['mach'] = Mach\n",
    "props['RE'] = Re\n",
    "props['Rgas'] = Rgas\n",
    "props['c_p'] = c_p\n",
    "props['gamma'] = gamma"
   ]
  },
  {
   "cell_type": "code",
   "execution_count": 46,
   "id": "f0152f08",
   "metadata": {},
   "outputs": [
    {
     "name": "stdout",
     "output_type": "stream",
     "text": [
      "density = 0.07029622181113201 kilogram / meter ** 3\n",
      "pressure = 1151.4244679591168 kilogram / meter / second ** 2\n",
      "temperature = 57.064675590756906 kelvin\n",
      "viscosity = 3.939885359034857e-06 kilogram / meter / second\n",
      "mach = 5.95\n",
      "RE = 3470833.3333333335\n",
      "Rgas = 287.03583366911994 meter ** 2 / kelvin / second ** 2\n",
      "c_p = 520.3 meter ** 2 / kelvin / second ** 2\n",
      "gamma = 1.4 dimensionless\n"
     ]
    }
   ],
   "source": [
    "for key in props:\n",
    "    try:\n",
    "        print(key,'=',props[key].to_base_units())\n",
    "    except:\n",
    "        print(key,'=',props[key])"
   ]
  },
  {
   "cell_type": "code",
   "execution_count": null,
   "id": "b95daacf",
   "metadata": {},
   "outputs": [],
   "source": []
  }
 ],
 "metadata": {
  "kernelspec": {
   "display_name": "Python 3 (ipykernel)",
   "language": "python",
   "name": "python3"
  },
  "language_info": {
   "codemirror_mode": {
    "name": "ipython",
    "version": 3
   },
   "file_extension": ".py",
   "mimetype": "text/x-python",
   "name": "python",
   "nbconvert_exporter": "python",
   "pygments_lexer": "ipython3",
   "version": "3.10.7"
  },
  "toc": {
   "base_numbering": 1,
   "nav_menu": {},
   "number_sections": true,
   "sideBar": true,
   "skip_h1_title": false,
   "title_cell": "Table of Contents",
   "title_sidebar": "Contents",
   "toc_cell": false,
   "toc_position": {},
   "toc_section_display": true,
   "toc_window_display": false
  },
  "varInspector": {
   "cols": {
    "lenName": 16,
    "lenType": 16,
    "lenVar": 40
   },
   "kernels_config": {
    "python": {
     "delete_cmd_postfix": "",
     "delete_cmd_prefix": "del ",
     "library": "var_list.py",
     "varRefreshCmd": "print(var_dic_list())"
    },
    "r": {
     "delete_cmd_postfix": ") ",
     "delete_cmd_prefix": "rm(",
     "library": "var_list.r",
     "varRefreshCmd": "cat(var_dic_list()) "
    }
   },
   "types_to_exclude": [
    "module",
    "function",
    "builtin_function_or_method",
    "instance",
    "_Feature"
   ],
   "window_display": false
  }
 },
 "nbformat": 4,
 "nbformat_minor": 5
}
