{
 "cells": [
  {
   "cell_type": "markdown",
   "id": "8aab1c2c",
   "metadata": {},
   "source": [
    "# RRBAXI Decoded"
   ]
  },
  {
   "cell_type": "markdown",
   "id": "80bcd623",
   "metadata": {},
   "source": [
    "\\begin{equation}\n",
    "\\frac{\\partial U}{\\partial \\xi} =\n",
    "-\\eta_x \\frac{\\partial E}{\\partial \\xi} -\n",
    "\\eta_r \\frac{\\partial F}{\\partial \\eta} + H\n",
    "\\end{equation}"
   ]
  },
  {
   "cell_type": "raw",
   "id": "afa04109",
   "metadata": {},
   "source": [
    "\\begin{equation}\n",
    "r = rb + \\eta(r_s - r_b)\n",
    "\\end{equation}\n"
   ]
  },
  {
   "cell_type": "markdown",
   "id": "eaf8f8bb",
   "metadata": {},
   "source": [
    "\\begin{equation} \n",
    "U = \\begin{bmatrix}\n",
    "\\rho u r \\\\\n",
    "(\\rho u^2  + p)r \\\\\n",
    "\\rho u v\n",
    "\\end{bmatrix}\n",
    "\\end{equation}\n",
    "\n",
    "\\begin{equation}\n",
    "\\eta_r = \\frac{1}{(r_s - r_b)}\n",
    "\\end{equation}\n",
    "\n",
    "\\begin{equation}\n",
    "\\eta_x = (\\eta - 1)\\frac{\\partial r}{\\partial x} - \\eta\\frac{\\partial\\eta}{\\partial r}\n",
    "\\end{equation}\n",
    "\n",
    "\\begin{equation}\n",
    "\\nabla\\cdot V = \\eta_x u_\\eta +\\eta_r v_\\eta + \\frac{v}{r}\n",
    "\\end{equation}"
   ]
  },
  {
   "cell_type": "markdown",
   "id": "cd1c09c6",
   "metadata": {},
   "source": [
    "\\begin{equation}\n",
    "\\tau_{xx} =2\\mu\\eta_x u_\\eta -\\frac{2}{3}\\mu\\nabla\\cdot V\n",
    "\\end{equation}\n",
    "\n",
    "\\begin{equation}\n",
    "\\sigma_{xr} = \\mu\\eta_x u_\\eta -\\frac{2}{3}\\mu\\nabla\\cdot V\n",
    "\\end{equation} \n",
    "\n",
    "\\begin{equation}\n",
    "\\tau_{rr} = 2\\mu\\eta_x v_\\eta -\\frac{2}{3}\\mu\\nabla\\cdot V\n",
    "\\end{equation}\n",
    "\n",
    "\\begin{equation}\n",
    "\\sigma_{\\phi\\phi} = -p +2\\mu\\frac{v}{r} -\\frac{2}{3}\\mu\\nabla\\cdot V\n",
    "\\end{equation}"
   ]
  },
  {
   "cell_type": "markdown",
   "id": "61c6537e",
   "metadata": {},
   "source": [
    "\\begin{equation}\n",
    "E = \\begin{bmatrix}\n",
    "\\rho ur \\\\\n",
    "\\rho u^2 + (p - \\tau_{xx}) r \\\\\n",
    "\\rho u v - \\sigma_{xr} r\n",
    "\\end{bmatrix}\n",
    "\\end{equation}\n",
    "\n",
    "\\begin{equation}\n",
    "F = \\begin{bmatrix}\n",
    "\\rho vr \\\\\n",
    "\\rho u v - \\sigma_{xr} r \\\\\n",
    "\\rho v^2 +(p -\\tau_{rr})r\n",
    "\\end{bmatrix}\n",
    "\\end{equation}\n",
    "\n",
    "\\begin{equation}\n",
    "H = \\begin{bmatrix}\n",
    "0 \\\\\n",
    "0 \\\\\n",
    "- \\sigma_{\\phi\\phi}\n",
    "\\end{bmatrix}\n",
    "\\end{equation}"
   ]
  },
  {
   "cell_type": "code",
   "execution_count": null,
   "id": "b6b20d40",
   "metadata": {},
   "outputs": [],
   "source": []
  }
 ],
 "metadata": {
  "kernelspec": {
   "display_name": "Python 3 (ipykernel)",
   "language": "python",
   "name": "python3"
  },
  "language_info": {
   "codemirror_mode": {
    "name": "ipython",
    "version": 3
   },
   "file_extension": ".py",
   "mimetype": "text/x-python",
   "name": "python",
   "nbconvert_exporter": "python",
   "pygments_lexer": "ipython3",
   "version": "3.10.7"
  },
  "toc": {
   "base_numbering": 1,
   "nav_menu": {},
   "number_sections": true,
   "sideBar": true,
   "skip_h1_title": false,
   "title_cell": "Table of Contents",
   "title_sidebar": "Contents",
   "toc_cell": false,
   "toc_position": {},
   "toc_section_display": true,
   "toc_window_display": false
  },
  "varInspector": {
   "cols": {
    "lenName": 16,
    "lenType": 16,
    "lenVar": 40
   },
   "kernels_config": {
    "python": {
     "delete_cmd_postfix": "",
     "delete_cmd_prefix": "del ",
     "library": "var_list.py",
     "varRefreshCmd": "print(var_dic_list())"
    },
    "r": {
     "delete_cmd_postfix": ") ",
     "delete_cmd_prefix": "rm(",
     "library": "var_list.r",
     "varRefreshCmd": "cat(var_dic_list()) "
    }
   },
   "types_to_exclude": [
    "module",
    "function",
    "builtin_function_or_method",
    "instance",
    "_Feature"
   ],
   "window_display": false
  }
 },
 "nbformat": 4,
 "nbformat_minor": 5
}
