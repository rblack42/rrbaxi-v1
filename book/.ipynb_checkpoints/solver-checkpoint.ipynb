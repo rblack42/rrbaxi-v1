{
 "cells": [
  {
   "cell_type": "markdown",
   "id": "7a4ec14b",
   "metadata": {},
   "source": [
    "# Solving For Primative Variables"
   ]
  },
  {
   "cell_type": "markdown",
   "id": "39f87b04",
   "metadata": {},
   "source": [
    "The governing equations are set to generate these variables as the solution proceeds:"
   ]
  },
  {
   "cell_type": "markdown",
   "id": "b44c972f",
   "metadata": {},
   "source": [
    "\\begin{align}\n",
    "A &= \\rho u\\\\\n",
    "B &= \\rho u^2 + P \\\\\n",
    "C &= \\rho u v \\\\\n",
    "D &= \\rho u w \\\\\n",
    "E &= \\rho u H\n",
    "\\end{align}"
   ]
  },
  {
   "cell_type": "markdown",
   "id": "67904c35",
   "metadata": {},
   "source": [
    "We need to set up a routine that will reduce these variables to the basic flow properties. To do this, we need some additional equations. We will use **sympy** to set up these equations."
   ]
  },
  {
   "cell_type": "code",
   "execution_count": 12,
   "id": "793aed24",
   "metadata": {},
   "outputs": [],
   "source": [
    "from sympy import var, Eq, sqrt"
   ]
  },
  {
   "cell_type": "code",
   "execution_count": 13,
   "id": "92d6b9bb",
   "metadata": {},
   "outputs": [],
   "source": [
    "c_p, gamma, R = var('c_p gamma R')"
   ]
  },
  {
   "cell_type": "code",
   "execution_count": 14,
   "id": "437fe355",
   "metadata": {},
   "outputs": [
    {
     "data": {
      "text/latex": [
       "$\\displaystyle \\frac{R \\gamma}{\\gamma - 1}$"
      ],
      "text/plain": [
       "R*gamma/(gamma - 1)"
      ]
     },
     "execution_count": 14,
     "metadata": {},
     "output_type": "execute_result"
    }
   ],
   "source": [
    "c_p = (gamma/(gamma-1)*R)\n",
    "c_p"
   ]
  },
  {
   "cell_type": "code",
   "execution_count": 15,
   "id": "9e0290f3",
   "metadata": {},
   "outputs": [
    {
     "data": {
      "text/latex": [
       "$\\displaystyle \\sqrt{\\frac{\\gamma p}{\\rho}}$"
      ],
      "text/plain": [
       "sqrt(gamma*p/rho)"
      ]
     },
     "execution_count": 15,
     "metadata": {},
     "output_type": "execute_result"
    }
   ],
   "source": [
    "a,p,rho = var('a p rho')\n",
    "a = sqrt(gamma*p/rho)\n",
    "a"
   ]
  },
  {
   "cell_type": "code",
   "execution_count": 16,
   "id": "bef58952",
   "metadata": {},
   "outputs": [
    {
     "data": {
      "text/latex": [
       "$\\displaystyle \\frac{R T \\gamma}{\\gamma - 1}$"
      ],
      "text/plain": [
       "R*T*gamma/(gamma - 1)"
      ]
     },
     "execution_count": 16,
     "metadata": {},
     "output_type": "execute_result"
    }
   ],
   "source": [
    "h, T = var('h T')\n",
    "h = c_p * T\n",
    "h"
   ]
  },
  {
   "cell_type": "code",
   "execution_count": 19,
   "id": "768cfe1f",
   "metadata": {},
   "outputs": [
    {
     "data": {
      "text/latex": [
       "$\\displaystyle R T \\rho$"
      ],
      "text/plain": [
       "R*T*rho"
      ]
     },
     "execution_count": 19,
     "metadata": {},
     "output_type": "execute_result"
    }
   ],
   "source": [
    "p, rho = var('p rho')\n",
    "p = rho*R*T\n",
    "p"
   ]
  },
  {
   "cell_type": "code",
   "execution_count": 20,
   "id": "40b6bc70",
   "metadata": {},
   "outputs": [
    {
     "data": {
      "text/latex": [
       "$\\displaystyle M_{x} \\sqrt{\\frac{\\gamma p}{\\rho}}$"
      ],
      "text/plain": [
       "M_x*sqrt(gamma*p/rho)"
      ]
     },
     "execution_count": 20,
     "metadata": {},
     "output_type": "execute_result"
    }
   ],
   "source": [
    "u, M_x = var('u M_x')\n",
    "u = M_x * a\n",
    "u"
   ]
  },
  {
   "cell_type": "code",
   "execution_count": 21,
   "id": "40c5d403",
   "metadata": {},
   "outputs": [
    {
     "data": {
      "text/latex": [
       "$\\displaystyle M_{x}^{2} \\frac{\\gamma p}{\\rho}$"
      ],
      "text/plain": [
       "M_x**2*(gamma*p/rho)"
      ]
     },
     "execution_count": 21,
     "metadata": {},
     "output_type": "execute_result"
    }
   ],
   "source": [
    "u*u"
   ]
  },
  {
   "cell_type": "code",
   "execution_count": 23,
   "id": "9c0be7a5",
   "metadata": {},
   "outputs": [
    {
     "data": {
      "text/latex": [
       "$\\displaystyle M_{x}^{2} \\gamma p + R T \\rho$"
      ],
      "text/plain": [
       "M_x**2*gamma*p + R*T*rho"
      ]
     },
     "execution_count": 23,
     "metadata": {},
     "output_type": "execute_result"
    }
   ],
   "source": [
    "B = var('B')\n",
    "B = rho*u*u + p\n",
    "B.simplify()"
   ]
  },
  {
   "cell_type": "code",
   "execution_count": 27,
   "id": "31877c47",
   "metadata": {},
   "outputs": [
    {
     "data": {
      "text/latex": [
       "$\\displaystyle \\frac{M_{x}^{2} \\gamma p}{R T \\rho} + 1$"
      ],
      "text/plain": [
       "M_x**2*gamma*p/(R*T*rho) + 1"
      ]
     },
     "execution_count": 27,
     "metadata": {},
     "output_type": "execute_result"
    }
   ],
   "source": [
    "eq1 = (B/p).simplify()\n",
    "eq1"
   ]
  },
  {
   "cell_type": "code",
   "execution_count": 32,
   "id": "09d584d5",
   "metadata": {},
   "outputs": [
    {
     "data": {
      "text/latex": [
       "$\\displaystyle M_{x}^{2} \\gamma p + R T \\rho$"
      ],
      "text/plain": [
       "M_x**2*gamma*p + R*T*rho"
      ]
     },
     "execution_count": 32,
     "metadata": {},
     "output_type": "execute_result"
    }
   ],
   "source": [
    "eq2 = B.subs(p,rho*R*T)\n",
    "eq2.simplify()"
   ]
  },
  {
   "cell_type": "code",
   "execution_count": null,
   "id": "f2944117",
   "metadata": {},
   "outputs": [],
   "source": []
  }
 ],
 "metadata": {
  "kernelspec": {
   "display_name": "Python 3 (ipykernel)",
   "language": "python",
   "name": "python3"
  },
  "language_info": {
   "codemirror_mode": {
    "name": "ipython",
    "version": 3
   },
   "file_extension": ".py",
   "mimetype": "text/x-python",
   "name": "python",
   "nbconvert_exporter": "python",
   "pygments_lexer": "ipython3",
   "version": "3.10.7"
  },
  "toc": {
   "base_numbering": 1,
   "nav_menu": {},
   "number_sections": true,
   "sideBar": true,
   "skip_h1_title": false,
   "title_cell": "Table of Contents",
   "title_sidebar": "Contents",
   "toc_cell": false,
   "toc_position": {},
   "toc_section_display": true,
   "toc_window_display": false
  },
  "varInspector": {
   "cols": {
    "lenName": 16,
    "lenType": 16,
    "lenVar": 40
   },
   "kernels_config": {
    "python": {
     "delete_cmd_postfix": "",
     "delete_cmd_prefix": "del ",
     "library": "var_list.py",
     "varRefreshCmd": "print(var_dic_list())"
    },
    "r": {
     "delete_cmd_postfix": ") ",
     "delete_cmd_prefix": "rm(",
     "library": "var_list.r",
     "varRefreshCmd": "cat(var_dic_list()) "
    }
   },
   "types_to_exclude": [
    "module",
    "function",
    "builtin_function_or_method",
    "instance",
    "_Feature"
   ],
   "window_display": false
  }
 },
 "nbformat": 4,
 "nbformat_minor": 5
}
