{
 "cells": [
  {
   "cell_type": "markdown",
   "id": "cb6ea6fc",
   "metadata": {},
   "source": [
    "# Axisymmetric Navier Stokes Equations\n",
    "\n",
    "The general form of the axisymmetric Navier-Stokes equations is given as follows:\n",
    "\n",
    "\\begin{equation}\n",
    "\\frac{\\partial U}{\\partial t} +\n",
    "\\frac{\\partial (E_i - E_v)}{\\partial x} +\n",
    "\\frac{\\partial (F_i - F_v)}{\\partial r} + (H_i - H_v) = 0\n",
    "\\end{equation}"
   ]
  },
  {
   "cell_type": "markdown",
   "id": "3bdf5460",
   "metadata": {},
   "source": [
    "The vectors in the above equation are:\n",
    "    \n",
    "\\begin{equation}\n",
    "U = \\begin{bmatrix}\n",
    "\\rho \\\\\n",
    "\\rho u \\\\\n",
    "\\rho v \\\\\n",
    "\\rho e\n",
    "\\end{bmatrix}\n",
    "\\end{equation}\n",
    "\n",
    "\\begin{equation}\n",
    "E_i = \\begin{bmatrix}\n",
    "\\rho u \\\\\n",
    "\\rho u^2 + p \\\\\n",
    "\\rho uv \\\\\n",
    "(\\rho e + p)u\n",
    "\\end{bmatrix}\n",
    "\\end{equation}\n",
    "\n",
    "\\begin{equation}\n",
    "G_i = \\begin{bmatrix}\n",
    "\\rho v \\\\\n",
    "\\rho uv \\\\\n",
    "\\rho v^2 + p \\\\\n",
    "(\\rho e + p)v\n",
    "\\end{bmatrix}\n",
    "\\end{equation}\n",
    "\n",
    "\\begin{equation}\n",
    "H_i = \\frac{1}{r}\\begin{bmatrix}\n",
    "\\rho v \\\\\n",
    "\\rho uv \\\\\n",
    "\\rho v^2 \\\\\n",
    "(\\rho e + p)v\n",
    "\\end{bmatrix}\n",
    "\\end{equation}"
   ]
  },
  {
   "cell_type": "markdown",
   "id": "8e43f3f0",
   "metadata": {},
   "source": [
    "\\begin{equation}\n",
    "E_v = \\begin{bmatrix}\n",
    "0 \\\\\n",
    "\\lambda(\\nabla\\cdot q)u + 2\\mu u(\\xi_x u_\\xi + \\eta_x u_\\eta) \n",
    "\\mu v(\\xi_x v_\\xi + \\eta_x v_\\eta + \\xi_r u_\\xi + \\eta_x u_\\eta) \\\\\n",
    "\\lambda(\\nabla\\cdot q) + 2\\mu(\\xi_x u_\\xi + \\eta_x u_\\eta) \\\\\n",
    "\\mu(\\xi_x v_\\xi + \\eta_x v_\\eta + \\xi_r u_\\xi + \\eta_r u_\\eta) \\\\\n",
    "\\lambda(\\nabla\\cdot q) + 2\\mu u(\\xi_x u_\\xi + \\eta_x u_\\eta) +\n",
    "\\mu v(\\xi_x v_\\xi + \\eta_x v_\\eta + \\xi_r u_\\xi + \\eta_r u_\\eta) +\n",
    "k(\\xi_x T_\\xi + \\eta_x T_\\eta)\n",
    "\\end{bmatrix}\n",
    "\\end{equation}"
   ]
  },
  {
   "cell_type": "markdown",
   "id": "ac582918",
   "metadata": {},
   "source": [
    "\\begin{equation}\n",
    "F_v = \\begin{bmatrix}\n",
    "0 \\\\\n",
    "\\mu(\\xi_r u_\\xi + \\eta_r u_\\eta +\\xi_x v_\\xi + \\eta_x v_\\eta) \n",
    "\\lambda(\\nabla\\cdot q) + 2\\mu(\\xi_r v_\\xi + \\eta_r v_\\eta) \\\\\n",
    "\\mu(\\xi_x v_\\xi + \\eta_x v_\\eta + \\xi_r u_\\xi + \\eta_r u_\\eta) \\\\\n",
    "\\lambda(\\nabla\\cdot q)v + \\mu u(\\xi_r u_\\xi + \\eta_r u_\\eta + \\xi_xv_\\xi + \\eta_x v_\\eta) +\n",
    "2\\mu v(\\xi_r v_\\xi + \\eta_r v_\\eta) +\n",
    "k(\\xi_r T_\\xi + \\eta_r T_\\eta)\n",
    "\\end{bmatrix}\n",
    "\\end{equation}"
   ]
  },
  {
   "cell_type": "markdown",
   "id": "de7c1139",
   "metadata": {},
   "source": [
    "\\begin{equation}\n",
    "h_v = \\frac{1}{r}\\begin{bmatrix}\n",
    "0 \\\\\n",
    "\\mu(\\xi_r u_\\xi + \\eta_r u_\\eta + \\xi_x v_\\xi + \\eta_x v_\\eta) \\\\\n",
    "2\\mu(\\xi_r v_\\xi + \\eta_r v_\\eta) = 2\\mu\\frac{v}{r} \\\\\n",
    "\\lambda(\\nabla\\cdot q)v + \\mu u(\\xi_r u_\\xi + \\eta_r u_\\eta + \\xi_x v_\\xi + \\eta_x v_\\eta) +\n",
    "2\\mu v(\\xi_r v_\\xi + \\eta_r v_\\eta) + k(\\xi_r T_\\xi + \\eta_r T_\\eta)\n",
    "\\end{bmatrix}\n",
    "\\end{equation}"
   ]
  },
  {
   "cell_type": "markdown",
   "id": "bd501396",
   "metadata": {},
   "source": [
    "\\begin{equation}\n",
    "\\nabla\\cdot q = \\xi_x u_\\xi + \\eta_x u_\\eta + \\xi_r v_\\xi + \\eta_r v_\\eta + \\frac{v}{r}\n",
    "\\end{equation}"
   ]
  },
  {
   "cell_type": "markdown",
   "id": "261e6127",
   "metadata": {},
   "source": [
    "For this study, $\\xi$ = $x$ and $\\eta = \\frac{r - r_b}{r_s - r_b}$\n",
    "\n",
    "Therefore $\\xi_x = 1$ and $\\xi_r = 0$ and $\\eta_x = 0$ and $\\eta_r = 1/(r_s - r_b)$"
   ]
  },
  {
   "cell_type": "code",
   "execution_count": null,
   "id": "19cdd276",
   "metadata": {},
   "outputs": [],
   "source": []
  }
 ],
 "metadata": {
  "kernelspec": {
   "display_name": "Python 3 (ipykernel)",
   "language": "python",
   "name": "python3"
  },
  "language_info": {
   "codemirror_mode": {
    "name": "ipython",
    "version": 3
   },
   "file_extension": ".py",
   "mimetype": "text/x-python",
   "name": "python",
   "nbconvert_exporter": "python",
   "pygments_lexer": "ipython3",
   "version": "3.10.7"
  },
  "toc": {
   "base_numbering": 1,
   "nav_menu": {},
   "number_sections": true,
   "sideBar": true,
   "skip_h1_title": false,
   "title_cell": "Table of Contents",
   "title_sidebar": "Contents",
   "toc_cell": false,
   "toc_position": {},
   "toc_section_display": true,
   "toc_window_display": false
  },
  "varInspector": {
   "cols": {
    "lenName": 16,
    "lenType": 16,
    "lenVar": 40
   },
   "kernels_config": {
    "python": {
     "delete_cmd_postfix": "",
     "delete_cmd_prefix": "del ",
     "library": "var_list.py",
     "varRefreshCmd": "print(var_dic_list())"
    },
    "r": {
     "delete_cmd_postfix": ") ",
     "delete_cmd_prefix": "rm(",
     "library": "var_list.r",
     "varRefreshCmd": "cat(var_dic_list()) "
    }
   },
   "types_to_exclude": [
    "module",
    "function",
    "builtin_function_or_method",
    "instance",
    "_Feature"
   ],
   "window_display": false
  }
 },
 "nbformat": 4,
 "nbformat_minor": 5
}
