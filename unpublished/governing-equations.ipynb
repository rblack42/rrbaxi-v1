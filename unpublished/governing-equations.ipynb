{
 "cells": [
  {
   "cell_type": "markdown",
   "id": "ee1a003c",
   "metadata": {},
   "source": [
    "# Governing Equations"
   ]
  },
  {
   "cell_type": "markdown",
   "id": "037a5550",
   "metadata": {},
   "source": [
    "For the flow of an ideal gas, we start with the equation of state:"
   ]
  },
  {
   "cell_type": "markdown",
   "id": "bac71455",
   "metadata": {},
   "source": [
    "## State Equation"
   ]
  },
  {
   "cell_type": "markdown",
   "id": "3c2e9707",
   "metadata": {},
   "source": [
    "\\begin{equation}\n",
    "\\hat{p} = \\hat{\\rho}\\hat{R}\\hat{T}\n",
    "\\end{equation}\n",
    "\n",
    "Here, $\\hat{\\rho}$ is the density of the gas, $p$ is the static pressure, and $\\hat{T}$ is the temperature. The superscript symbol $\\hat{}$ indicates a *dimensional* property in some consistent measurement system. In this study, we will use the metric system."
   ]
  },
  {
   "cell_type": "markdown",
   "id": "b1b2cdf1",
   "metadata": {},
   "source": [
    "## Energy"
   ]
  },
  {
   "cell_type": "markdown",
   "id": "cb945015",
   "metadata": {},
   "source": [
    "All gases have an *energy* that we will need to track. That *energy* has two components:"
   ]
  },
  {
   "cell_type": "markdown",
   "id": "d8233993",
   "metadata": {},
   "source": [
    "### Internal Energy\n",
    "\n",
    "\\begin{equation}\n",
    "\\hat{p} = (\\gamma - 1)\\hat{\\rho}\\hat{e}\n",
    "\\end{equation}\n",
    "\n",
    "Where $e$ is the internal energy of the gas, and $\\gamma$ is the ratio of specific heats:\n",
    "\n",
    "\\begin{equation}\n",
    "\\gamma = \\frac{\\hat{c_p}}{\\hat{c_v}} = 1.4\n",
    "\\end{equation}\n",
    "\n",
    "This ratio is assumed constant.\n",
    "\n",
    "Further:\n",
    "\n",
    "\\begin{equation}\n",
    "\\hat{R} = \\hat{c_p} - \\hat{c_v}\n",
    "\\end{equation}\n",
    "    "
   ]
  },
  {
   "cell_type": "markdown",
   "id": "1818e5c8",
   "metadata": {},
   "source": [
    "### Kinetic Energy\n",
    "\n",
    "$\\overrightarrow{v}$\n",
    "\n",
    "\\begin{equation}\n",
    "\\hat{e}_k = \\frac{1}{2}|\\overrightarrow{v}^2|\n",
    "\\end{equation}\n",
    "Where $\\overrightarrow{v}$ is the local velocity vector of the gas particle in motion."
   ]
  },
  {
   "cell_type": "markdown",
   "id": "5d380f5d",
   "metadata": {},
   "source": [
    "### Total Energy\n",
    "\n",
    "The *total energy of the gas at any point is defined as the sum of the *internal energy* and the *kinetic energy*:\n",
    "\n",
    "\\begin{equation}\n",
    "\\hat{E} = \\hat{e} + \\frac{1}{2}|\\overrightarrow{v}^2|\n",
    "\\end{equation}\n",
    "\n",
    "Amother common tern used to describe the velocity od the gas at any point is the *Mach Number:\n",
    "\n",
    "\\begin{equation}\n",
    "M = \\frac{\\hat{v}}{\\hat{c}}\n",
    "\\end{equation}\n",
    "\n",
    "Where:\n",
    "\n",
    "\\begin{equation}\n",
    "\\hat{c} = \\sqrt{\\gamma\\frac{\\hat{p}}{\\hat{\\rho}}}\n",
    "\\end{equation}"
   ]
  },
  {
   "cell_type": "markdown",
   "id": "9a09d1a9",
   "metadata": {},
   "source": [
    "### Enthalpy\n",
    "\n",
    "Another common term in the study of gas flow is *enthalpy, defined as follows:\n",
    "\n",
    "\\begin{equation}\n",
    "\\hat{H} = \\hat{E} + \\frac{\\hat{p}}{\\hat{\\rho}}\n",
    "\\end{equation}"
   ]
  },
  {
   "cell_type": "markdown",
   "id": "b2f561b3",
   "metadata": {},
   "source": [
    "## Viscosity\n",
    "\n",
    "Air is a *viscous* gas. We will use the symbol $\\mu$ to indicate *viscosity*. The magnitude of this *viscosity depends on temperature. For this study we will use [Sutherland's Law](https://www.cfd-online.com/Wiki/Sutherland%27s_law) to define this relationship:"
   ]
  },
  {
   "cell_type": "markdown",
   "id": "a47812ba",
   "metadata": {},
   "source": [
    "\\begin{equation}\n",
    "\\hat{\\mu} = \\hat{\\mu_0}\\left(\\frac{\\hat{T}}{\\hat{T_0}}\\right)^\\frac{3}{2}\n",
    "\\frac{\\hat{T_0} + \\hat{S}}{\\hat{T} + \\hat{S}}\n",
    "\\end{equation}\n",
    "\n",
    "Where:\n",
    "\n",
    "\\begin{align}\n",
    "\\hat{\\mu_0} &= 1.716x10^{-5}\\left(\\frac{kg}{ms}\\right) \\\\\n",
    "\\hat{T_0} &= 273.15(^o K) \\\\\n",
    "\\hat{S} &= 110.4(^oK)\n",
    "\\end{align}"
   ]
  },
  {
   "cell_type": "markdown",
   "id": "d5fc9d2f",
   "metadata": {},
   "source": [
    "## Nondimensionalization"
   ]
  },
  {
   "cell_type": "markdown",
   "id": "af55808a",
   "metadata": {},
   "source": [
    "Because the fluid properties vary wildly in magnitude, it is common to convert the governing equations into a *nondimensional* form. To do this, we define reference properties:\n",
    "\n",
    "Here are the reference properties we will use:\n",
    "\n",
    "\\begin{align}\n",
    "\\hat{\\rho} &= \\rho \\hat{\\rho}_{ref} \\\\\n",
    "\\hat{E}_{ref} &= \\hat{H}_{ref} = \\hat{c}_{ref}^2 =\n",
    "    \\frac{\\hat{p}_{ref}}{\\hat{\\rho}_{ref}} \\\\\n",
    "\\hat{p}_{ref} &= \\hat{\\rho}_{ref}{\\hat{V}_{ref}}^2 \\\\\n",
    "\\hat{t}_{ref} &= \\frac{\\hat{l}_{ref}}{\\hat{V}_{ref}} \\\\\n",
    "\\hat{R}_{ref} &= \\hat{c_p}_{ref}\n",
    "\\end{align}\n",
    "\n",
    "We will need to establish reference values for $\\hat{\\rho}_{ref}$, $\\hat{V}_{ref}$, and a reference length $\\hat{l}_{ref}$. From these we can define the other reference properties."
   ]
  },
  {
   "cell_type": "markdown",
   "id": "f4af8c80",
   "metadata": {},
   "source": [
    "## Continuity Equation\n",
    "\n",
    "The vector form of the *continuity equation* is given by:\n",
    "\n",
    "\\begin{equation}\n",
    "\\frac{\\partial\\rho}{\\partial t} + \\nabla\\cdot(\\rho\\overrightarrow{V}) = 0\n",
    "\\end{equation}"
   ]
  },
  {
   "cell_type": "markdown",
   "id": "427581cd",
   "metadata": {},
   "source": [
    "## Momentum Equation\n",
    "\n",
    "The vector form of the *momentum equation* is given by:\n",
    "\n",
    "\\begin{equation}\n",
    "\\frac{\\partial}{\\partial t}\\rho \\overrightarrow{V} +\n",
    "    \\nabla\\cdot (\\rho \\overrightarrow{V}\\otimes \\overrightarrow{V}) =\n",
    "    -\\nabla p + \\nabla\\cdot \\bar{\\bar\\tau}\n",
    "\\end{equation}\n",
    "\n",
    "Where $\\bar{\\bar\\tau} is the *shear stress* tensor given by:\n",
    "\n",
    "\\begin{equation}\n",
    "\\bar{\\bar\\tau} = \\lambda(\\nabla\\cdot\\overrightarrow{V})\\textbf{I} +\n",
    "    \\mu\\left(\\nabla\\overrightarrow{V} + (\\nabla\\overrightarrow{V})^T\\right)\n",
    "\\end{equation}\n",
    "\n",
    "Here $\\textbf{I}$ is the *identity matrix*.\n",
    "\n",
    "Since the *velocity vector* $\\overrightarrow{V}$ has three components which depend on the coordinate system chosen, the *momentum equation will produce three component equations, one for momentum in each direction."
   ]
  },
  {
   "cell_type": "markdown",
   "id": "1fb38af5",
   "metadata": {},
   "source": [
    "## Energy Equation\n",
    "\n",
    "The vector form of the *energy equation* can be written as.\n",
    "\n",
    "\\begin{equation}\n",
    "\\frac{\\partial(\\rho(e + k)}{\\partial t} +\n",
    "\\nabla\\cdot\\left( \\rho\\overrightarrow{V}(e + \\frac{p}{\\rho} + k) + \n",
    "    p\\bar{\\bar\\tau}\\cdot\\overrightarrow{V} +\n",
    "    \\bar{\\bar Q}\\right) = 0\n",
    "\\end{equation}\n",
    "\n",
    "Here $k$ is the *kinetic energy* of the gas at any point.\n",
    "\n",
    "It is common to define the *total enthalpy $H$ as:\n",
    "\n",
    "\\begin{equation}\n",
    "H = e + \\frac{p}{\\rho} + k = h + \\frac{1}{2} |\\overrightarrow{V}|^2\n",
    "\\end{equation}\n",
    "\n",
    "And, from *Fick's Law*:\n",
    "\n",
    "\\begin{equation}\n",
    "\\overrightarrow{Q} = -k\\frac{\\partial T}{\\partial x_i}\n",
    "\\end{equation}\n",
    "\n",
    "The thermal conductivity $k$ is defined using the *Prandtl Number*, assumed to be a constant.\n",
    "\n",
    "\\begin{equation}\n",
    "Pr = \\frac{\\mu c_p}{k} = 0.72\n",
    "\\end{equation}"
   ]
  },
  {
   "cell_type": "code",
   "execution_count": null,
   "id": "8a3b0e71",
   "metadata": {},
   "outputs": [],
   "source": []
  }
 ],
 "metadata": {
  "kernelspec": {
   "display_name": "Python 3 (ipykernel)",
   "language": "python",
   "name": "python3"
  },
  "language_info": {
   "codemirror_mode": {
    "name": "ipython",
    "version": 3
   },
   "file_extension": ".py",
   "mimetype": "text/x-python",
   "name": "python",
   "nbconvert_exporter": "python",
   "pygments_lexer": "ipython3",
   "version": "3.10.8"
  },
  "toc": {
   "base_numbering": 1,
   "nav_menu": {},
   "number_sections": true,
   "sideBar": true,
   "skip_h1_title": false,
   "title_cell": "Table of Contents",
   "title_sidebar": "Contents",
   "toc_cell": false,
   "toc_position": {},
   "toc_section_display": true,
   "toc_window_display": false
  },
  "varInspector": {
   "cols": {
    "lenName": 16,
    "lenType": 16,
    "lenVar": 40
   },
   "kernels_config": {
    "python": {
     "delete_cmd_postfix": "",
     "delete_cmd_prefix": "del ",
     "library": "var_list.py",
     "varRefreshCmd": "print(var_dic_list())"
    },
    "r": {
     "delete_cmd_postfix": ") ",
     "delete_cmd_prefix": "rm(",
     "library": "var_list.r",
     "varRefreshCmd": "cat(var_dic_list()) "
    }
   },
   "types_to_exclude": [
    "module",
    "function",
    "builtin_function_or_method",
    "instance",
    "_Feature"
   ],
   "window_display": false
  }
 },
 "nbformat": 4,
 "nbformat_minor": 5
}
