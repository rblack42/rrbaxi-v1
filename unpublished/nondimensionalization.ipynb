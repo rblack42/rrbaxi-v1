{
 "cells": [
  {
   "cell_type": "markdown",
   "id": "2837e297",
   "metadata": {},
   "source": [
    "# Nondimensionalization"
   ]
  },
  {
   "cell_type": "markdown",
   "id": "04d59e29",
   "metadata": {},
   "source": [
    "In order to simplify our calculations and generate property values in a more reasonable number range, we will reduce out fluid properties to a nondimensional form.\n",
    "\n",
    "This is a fairly simple process. It is common to use *free-stream* conditions as reference values. WE them divide our fluid properties by the associated free-stream values to produce a nondimensional form. In this process, we will indicate dimensional properties using a \"hat\" symbol over the property. Free-stream, properties will use an $\\infty$ subscript:\n",
    "\n",
    "Let's start out with some obvious properties:"
   ]
  },
  {
   "cell_type": "markdown",
   "id": "ab10c1ae",
   "metadata": {},
   "source": [
    "\\begin{align}\n",
    "\\rho &= \\frac{\\hat{\\rho}}{\\hat{\\rho}_\\infty} \\\\\n",
    "T &= \\frac{\\hat{T}}{\\hat{T}_\\infty} \\\\\n",
    "U &= \\frac{\\hat{U}}{\\hat{U}_\\infty} \\\\\n",
    "\\mu = \\frac{\\hat{\\mu}}{\\hat{\\mu}_\\infty}\n",
    "\\end{align}"
   ]
  },
  {
   "cell_type": "markdown",
   "id": "96d5ca16",
   "metadata": {},
   "source": [
    "The governing equations involve derivatives of property combinations with respect to some coordinate axis. We will nondimensionalize lengths usinf a reference length. For this study, that length is related to the test model, an ogive-cylinder tested at AEDC in the late 1970s.\n",
    "\n",
    "\\begin{equation}\n",
    "l = \\frac{\\hat{l}}{\\hat{l}_{ref}}\n",
    "\\end{equation}\n",
    "\n",
    "A typical derivitive looks like this:\n",
    "\n",
    "\\begin{equation}\n",
    "\\frac{\\partial}{\\partial x} = \\hat{l}_{ref}\\frac{\\partial}{\\partial \\hat{x}}\n",
    "\\end{equation}"
   ]
  },
  {
   "cell_type": "markdown",
   "id": "6180216a",
   "metadata": {},
   "source": [
    "## Governing Equation Property Terms"
   ]
  },
  {
   "cell_type": "markdown",
   "id": "cc82c1cb",
   "metadata": {},
   "source": [
    "In reviewing the governing equations, we see various combinations of basic fluid properties. We need to consider those combinations to come up with suitable nondimensional forms."
   ]
  },
  {
   "cell_type": "markdown",
   "id": "593ceab6",
   "metadata": {},
   "source": [
    "### Continuity "
   ]
  },
  {
   "cell_type": "markdown",
   "id": "941e7f2d",
   "metadata": {},
   "source": [
    "From the *Continuity Equation, we see terms that look like this:\n",
    "\n",
    "\\begin{equation}\n",
    "\\frac{\\partial(\\hat{\\rho}\\hat{U})}{\\partial \\hat{x}}\n",
    "\\end{equation}\n",
    "\n",
    "Using free-stream properties for reference values, we get this nondimensional form:\n",
    "\n",
    "\\begin{equation}\n",
    "\\frac{\\partial \\rho U}{\\partial x} = \n",
    "\\frac{\\partial(\\hat{\\rho}\\hat{U})}{\\partial\\hat{x}} * \\frac{\\hat{l}_{ref}}{\\hat{\\rho}_\\infty\\hat{U}_\\infty}\n",
    "\\end{equation}"
   ]
  },
  {
   "cell_type": "markdown",
   "id": "ede878cf",
   "metadata": {},
   "source": [
    "### Momentum"
   ]
  },
  {
   "cell_type": "markdown",
   "id": "c95203b8",
   "metadata": {},
   "source": [
    "The momentum equations are more complex. \n",
    "\n",
    "\\begin{equation}\n",
    "\\frac{\\partial(\\rho U^2)}{\\partial x} =\n",
    "\\frac{\\partial(\\hat{\\rho}\\hat{U}^2)}{\\partial \\hat{x}} * \\frac{\\hat{l}_{ref}}{\\hat{\\rho}_\\infty\\hat{U}^2_\\infty}\n",
    "\\end{equation}"
   ]
  },
  {
   "cell_type": "markdown",
   "id": "2d01703b",
   "metadata": {},
   "source": [
    "The pressure term found in the *momentum equations* has these units: \n",
    "\n",
    "\\begin{equation}\n",
    "\\frac{\\partial\\hat{p}}{\\partial \\hat{x}} \\hat{=}\n",
    "\\frac{\\hat{p}_{ref}}{\\hat{l}_{ref}}\n",
    "\\end{equation}"
   ]
  },
  {
   "cell_type": "markdown",
   "id": "dc4bf3f4",
   "metadata": {},
   "source": [
    "For unit consistency, we should use a different value for the reference pressure:\n",
    "\n",
    "\\begin{equation}\n",
    "\\hat{p}_{ref} \\hat{=} \\hat{\\rho}_\\infty \\hat{U}^2_\\infty\n",
    "\\end{equation}\n",
    "\n",
    "Therefore:\n",
    "\n",
    "\\begin{equation}\n",
    "\\frac{\\partial p}{\\partial x} = \n",
    "\\frac{\\partial\\hat{p}}{\\partial\\hat{x}} * \n",
    "\\frac{\\hat{l}_{ref}}{\\hat{\\rho}_\\infty \\hat{U}_\\infty}\n",
    "\\end{equation}"
   ]
  },
  {
   "cell_type": "markdown",
   "id": "428db2f5",
   "metadata": {},
   "source": [
    "The shear stress terms have this form:\n",
    "\n",
    "\\begin{equation}\n",
    "\\hat{\\mu}\\frac{\\partial^2 \\hat{U}}{\\partial \\hat{x}^2} \\hat{=}\n",
    "\\frac{\\hat{\\mu}_{ref}\\hat{U}_\\infty}{\\hat{l}\n",
    "_{ref}^2}\n",
    "\\end{equation}"
   ]
  },
  {
   "cell_type": "markdown",
   "id": "207536ab",
   "metadata": {},
   "source": [
    "For consistency, we need to create a new parameter $R$:\n",
    "\n",
    "\\begin{equation}\n",
    "R \\hat{=} \\frac{\\hat{\\mu}_{ref}\\hat{U_\\infty}}{\\hat{l}^2_{ref}} * \n",
    "\\frac{\\hat{l}_{ref}}{\\hat{\\rho}_\\infty \\hat{U}^2_\\infty}\n",
    "\\end{equation}"
   ]
  },
  {
   "cell_type": "markdown",
   "id": "3ba0b720",
   "metadata": {},
   "source": [
    "Simplifying:\n",
    "\n",
    "\\begin{equation}\n",
    "R = \\frac{\\hat{\\mu}_{ref}}{\\hat{\\rho}_\\infty \\hat{U}^2_\\infty \\hat{l}_{ref}}\n",
    "\\end{equation}"
   ]
  },
  {
   "cell_type": "markdown",
   "id": "9ea817d0",
   "metadata": {},
   "source": [
    "From the definition of the *Reynolds Number*,  $Re = \\frac{1}{R}$."
   ]
  },
  {
   "cell_type": "markdown",
   "id": "4fcac8fc",
   "metadata": {},
   "source": [
    "Therefore:\n",
    "\n",
    "\\begin{equation}\n",
    "\\mu\\frac{\\partial^2 U}{\\partial x^2} =\n",
    "\\hat{\\mu}\\frac{\\partial^2 \\hat{U}}{\\partial \\hat{x}^2}Re\n",
    "\\end{equation}"
   ]
  },
  {
   "cell_type": "markdown",
   "id": "858b7cba",
   "metadata": {},
   "source": [
    "### Energy"
   ]
  },
  {
   "cell_type": "markdown",
   "id": "1b4c5653",
   "metadata": {},
   "source": [
    "The primary term used in the *energy equation* is the *total enthalpy*:\n",
    "\n",
    "\\begin{equation}\n",
    "\\frac{\\partial\\hat{\\rho} \\hat{U} \\hat{H}}{\\partial x} \\hat{=}\n",
    "\\frac{\\hat{\\rho}_\\infty \\hat{U}_\\infty\\hat{H}_{ref}}{\\hat{l}_{ref}}\n",
    "\\end{equation}\n"
   ]
  },
  {
   "cell_type": "markdown",
   "id": "9923c8c4",
   "metadata": {},
   "source": [
    "The definition of the *total enthalpy* is:\n",
    "\n",
    "\\begin{equation}\n",
    "H = h + \\frac{1}{2}(u^2 + v^2 + w^2)\n",
    "\\end{equation}\n",
    "\n",
    "where $h$ is given by:\n",
    "\n",
    "\\begin{equation}\n",
    "h = c_p T\n",
    "\\end{equation}"
   ]
  },
  {
   "cell_type": "code",
   "execution_count": null,
   "id": "df364e3b",
   "metadata": {},
   "outputs": [],
   "source": []
  }
 ],
 "metadata": {
  "kernelspec": {
   "display_name": "Python 3 (ipykernel)",
   "language": "python",
   "name": "python3"
  },
  "language_info": {
   "codemirror_mode": {
    "name": "ipython",
    "version": 3
   },
   "file_extension": ".py",
   "mimetype": "text/x-python",
   "name": "python",
   "nbconvert_exporter": "python",
   "pygments_lexer": "ipython3",
   "version": "3.10.7"
  },
  "toc": {
   "base_numbering": 1,
   "nav_menu": {},
   "number_sections": true,
   "sideBar": true,
   "skip_h1_title": false,
   "title_cell": "Table of Contents",
   "title_sidebar": "Contents",
   "toc_cell": false,
   "toc_position": {},
   "toc_section_display": true,
   "toc_window_display": false
  },
  "varInspector": {
   "cols": {
    "lenName": 16,
    "lenType": 16,
    "lenVar": 40
   },
   "kernels_config": {
    "python": {
     "delete_cmd_postfix": "",
     "delete_cmd_prefix": "del ",
     "library": "var_list.py",
     "varRefreshCmd": "print(var_dic_list())"
    },
    "r": {
     "delete_cmd_postfix": ") ",
     "delete_cmd_prefix": "rm(",
     "library": "var_list.r",
     "varRefreshCmd": "cat(var_dic_list()) "
    }
   },
   "types_to_exclude": [
    "module",
    "function",
    "builtin_function_or_method",
    "instance",
    "_Feature"
   ],
   "window_display": false
  }
 },
 "nbformat": 4,
 "nbformat_minor": 5
}
